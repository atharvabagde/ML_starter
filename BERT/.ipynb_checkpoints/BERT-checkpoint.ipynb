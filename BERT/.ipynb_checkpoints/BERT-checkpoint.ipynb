{
 "cells": [
  {
   "cell_type": "code",
   "execution_count": null,
   "metadata": {
    "id": "6NIhDCaqvOoU"
   },
   "outputs": [],
   "source": [
    "pip install transformers"
   ]
  },
  {
   "cell_type": "code",
   "execution_count": null,
   "metadata": {
    "id": "C_e3NuWfyn6l"
   },
   "outputs": [],
   "source": [
    "from transformers import TFAutoModel, AutoTokenizer\n",
    "import tensorflow as tf\n",
    "import tensorflow_datasets as tfds\n",
    "import pandas as pd\n",
    "import matplotlib.pyplot as plt\n",
    "import numpy as np\n",
    "from tqdm.notebook import tqdm\n",
    "import os\n",
    "from datetime import datetime"
   ]
  },
  {
   "cell_type": "code",
   "execution_count": null,
   "metadata": {
    "id": "r-gRlCLqUxT_"
   },
   "outputs": [],
   "source": [
    "%load_ext tensorboard\n",
    "from tensorboard import notebook"
   ]
  },
  {
   "cell_type": "code",
   "execution_count": null,
   "metadata": {
    "colab": {
     "base_uri": "https://localhost:8080/"
    },
    "id": "PEwjqO772nLE",
    "outputId": "fd11c769-2f98-49ea-d79c-ca0b5b363744"
   },
   "outputs": [
    {
     "name": "stderr",
     "output_type": "stream",
     "text": [
      "INFO:absl:Load dataset info from /root/tensorflow_datasets/yelp_polarity_reviews/plain_text/0.1.0\n"
     ]
    },
    {
     "name": "stdout",
     "output_type": "stream",
     "text": [
      "dict_keys(['test', 'train'])\n",
      "560000\n",
      "38000\n"
     ]
    }
   ],
   "source": [
    "builder = tfds.builder('yelp_polarity_reviews/plain_text')\n",
    "print(builder.info.splits.keys())\n",
    "print(builder.info.splits['train'].num_examples)\n",
    "print(builder.info.splits['test'].num_examples)"
   ]
  },
  {
   "cell_type": "code",
   "execution_count": null,
   "metadata": {
    "colab": {
     "base_uri": "https://localhost:8080/"
    },
    "id": "NnMZppnK6-Uu",
    "outputId": "2bb57d8d-a198-4634-bbb5-5f28c6a32251"
   },
   "outputs": [
    {
     "name": "stderr",
     "output_type": "stream",
     "text": [
      "INFO:absl:Load dataset info from /root/tensorflow_datasets/yelp_polarity_reviews/plain_text/0.1.0\n",
      "INFO:absl:Reusing dataset yelp_polarity_reviews (/root/tensorflow_datasets/yelp_polarity_reviews/plain_text/0.1.0)\n",
      "INFO:absl:Constructing tf.data.Dataset for split ['train[:80%]', 'train[80%:100%]', 'test'], from /root/tensorflow_datasets/yelp_polarity_reviews/plain_text/0.1.0\n"
     ]
    }
   ],
   "source": [
    "AUTOTUNE = tf.data.AUTOTUNE\n",
    "seed = 42\n",
    "\n",
    "train_ds, val_ds, test_ds= tfds.load('yelp_polarity_reviews/plain_text', split=['train[:80%]', 'train[80%:100%]', 'test'])\n",
    "\n",
    "train_ds = train_ds.shuffle(buffer_size =56000 ,seed=123)\n",
    "train_ds = train_ds.cache().prefetch(buffer_size=AUTOTUNE)\n",
    "\n",
    "val_ds = val_ds.cache().shuffle(buffer_size =56000 , seed=123)\n",
    "val_ds = val_ds.cache().prefetch(buffer_size=AUTOTUNE)\n",
    "\n",
    "test_ds = test_ds.shuffle(buffer_size =56000 , seed=123)\n",
    "test_ds = test_ds.cache().prefetch(buffer_size=AUTOTUNE)"
   ]
  },
  {
   "cell_type": "code",
   "execution_count": null,
   "metadata": {
    "colab": {
     "base_uri": "https://localhost:8080/",
     "height": 448
    },
    "id": "cVu0IuFv_kkG",
    "outputId": "2821d3f2-c62c-4085-ccb9-cdc726bcd069"
   },
   "outputs": [
    {
     "name": "stdout",
     "output_type": "stream",
     "text": [
      "0\n",
      "b\"If Aria, a 5-star hotel, is going to offer a buffet, you'd expect it to be spectacular or at least up to par. Bellagio has it, so why not Aria, right? I  came here with my family yesterday--truly DISAPPOINTED! My mom took a bite of the cold cut meat and spat it out because it had a foul taste and smell to it. I saw the meat, but didn't get it because they looked like they had been sitting there for a good while. I was going to try granola with yogurt, but it had a film on the yogurt as if it had been sitting there for a VERY LONG TIME. My first round barely filled the plate because nothing looked really fresh. I am not a picky eater or a harsh food critic, but I am not going to eat something that looks like it had been sitting there from last night. The tomato salad looked like it had been sitting there for a good while, too. Management is obviously the problem and ARIA NEEDS TO TAKE NOTE OF THIS! WHAT IS THIS PLACE TRYING TO DO? GIVE US FOOD POISONING??? C'mon!!! If your buffet selection is not great, at least make sure that your food is fresh. I was at the curry section yesterday and they didnt even bother to empty out the old curry. Instead, they just threw more fresh ones on top. The old ones on the bottom will only turn bad, it's not going to make it more fresh with the fresh ones on top. The only best section of the buffet was the dessert section. Even though options were not many, at least they looked decently fresh.\"\n",
      "1\n",
      "b'Noticed no one has reviewed in a while...it you had a bad experience, you should go back. My friends and I had just arrived in Scottsdale and were HUNGRY for something near our condo. This place fit the bill. The sandwich was yummy, the fries hot and crisp, and the margharita pizza delicious (altho they DID forget to add our jalapenos).\\\\nThe BEST THING, tho, was the waitress, Denise! What an absolute doll! She gave us all kind of tips about where to go and what to do during our girls weekend. Thank you, Denise, for taking us \\\\\"\"off the beaten\\\\\"\" tourist track! \\\\nThis was a great way to start a fantastic weekend.'\n",
      "1\n",
      "b'Let me start by saying that I am not of Chinese descent. I can\\'t say much about the authenticity or how this food compares with stuff actually in Asia. I am also not from LA, which if you look around Phoenix Yelp, seems to be the epicenter of all food creation forever and ever amen. Just saying. \\\\n\\\\nI happen to think Phoenix food in general is pretty darn swell and in my white girl opinion, I also happen to think that iKitchen\\'s food is wonderfully delicious. \\\\n\\\\nRundown: \\\\n\\\\n- Food seems really cheap for what you get. Have gone twice and each time the food we\\'ve gotten has been enough for two meals. Two meals and a good side of potstickers was $19. \\\\n\\\\n- Potstickers were lovely. Black bean dry noodle is personal favorite and delicious. Got their Taiwanese chicken and \\\\\"\"special\\\\\"\" vegetable soup and it was really good (I just looked on their online menu, I don\\'t remember what this soup was called, whatever it was, it felt delicious and hearty and healthy feeling). Boba tea here was one of the first I really liked and boyfriend loved it.  \\\\n\\\\n- Server here is wonderful and always recommends dishes for us to try. Very helpful and sweet. And, um, what\\'s the fuss about decor? It\\'s a cheap restaurant. It\\'s clean, well-lit, and that\\'s enough for me.'\n",
      "1\n",
      "b'Great food and service. Very happy with my visit.'\n",
      "0\n",
      "b'I was unsatisfied with all aspects of their customer service process. they did not explain things clearly. their policies are not meant to help you and i had a very unpleasant experience. save yourself the trouble and fly with rates so low. i would give zero stars if the option existed.'\n",
      "1\n",
      "b'Love this place! The boy and I came here for brunch this past Monday, and were pleasantly surprised. The omelet bar offers made to order omelets and eggs with a variety of filling choices, which we both opted for bacon and cheese and were cooked perfectly. There are a lot of different choices, which is great if your with a group or a picky eater, everything from pizza, Mexican to Asian cuisine and sushi. I only wish we more hungry when we came here.'\n",
      "1\n",
      "b\"Oh the Coach house! We've been here before but never during the holidays. Every year they win some kind of title for most gawdy light display, and if you drive past it you'll see why. It looks like the Griswald's house! However nothing had prepared me for the inside and all it's magical holiday spendor. Every inch of the place.....every wall, ceiling beam, corner, was decorated with holiday paper, tinsel, and lights. It was impressive. We went on a Friday night and it was packed with people!!! Their inside bar is a little small but the good thing is they have an outside patio area as well. \\\\nThis bar is a fun Scottsdale staple to check out anytime, but definitely during the holiday season if you want a hefty dose of Christmas cheer.\"\n",
      "0\n",
      "b'This place saw me coming a mile away. I thought that since my then boyfriend had taken his car there and always gotten a good honest deal, it was an alright place. Boy was I wrong! My car wasn\\'t starting and I was desperate for a fix. After charging me over $600 to \\\\\"\"replace cables\\\\\"\" in my vehicle, I took it back a week later because it would not start. They then told me the fuel pump was broken and needed to be replaced. So I spent another $300 on that. About five days later, it would not start again. At this point, I told them that THEY would be coming to pick up my car and figure out what was wrong with it, free of charge, which they did. Their conclusion? Water in the gas tank, which they told me they could take care of for ANOTHER $200. Needless to say, I didn\\'t go back. They definitley ripped me off. Don\\'t go there!'\n",
      "1\n",
      "b'Went with wife and daughter to enjoy ice cream, found a deal in Valpak. Glad I went in Tanya was very friendly and knowledgeable about their products. She let us sample their variety of ice cream and made recommendations. She suggested coconut pineapple which was delicious. I recommend you go in and see her.'\n",
      "1\n",
      "b\"This is very disappointing to hear.. It's my boyfriends birthday and I wanted to bring him here. When looking for the menu items I find out the restaurant has been closed for sometime.. I hope it was only closed for remodeling... This used to be my go to restaurant while shopping.!\"\n"
     ]
    },
    {
     "data": {
      "text/html": [
       "<div>\n",
       "<style scoped>\n",
       "    .dataframe tbody tr th:only-of-type {\n",
       "        vertical-align: middle;\n",
       "    }\n",
       "\n",
       "    .dataframe tbody tr th {\n",
       "        vertical-align: top;\n",
       "    }\n",
       "\n",
       "    .dataframe thead th {\n",
       "        text-align: right;\n",
       "    }\n",
       "</style>\n",
       "<table border=\"1\" class=\"dataframe\">\n",
       "  <thead>\n",
       "    <tr style=\"text-align: right;\">\n",
       "      <th></th>\n",
       "      <th>DATA_COLUMN</th>\n",
       "      <th>LABEL_COLUMN</th>\n",
       "    </tr>\n",
       "  </thead>\n",
       "  <tbody>\n",
       "    <tr>\n",
       "      <th>0</th>\n",
       "      <td>This is very disappointing to hear.. It's my b...</td>\n",
       "      <td>1</td>\n",
       "    </tr>\n",
       "  </tbody>\n",
       "</table>\n",
       "</div>"
      ],
      "text/plain": [
       "                                         DATA_COLUMN LABEL_COLUMN\n",
       "0  This is very disappointing to hear.. It's my b...            1"
      ]
     },
     "execution_count": 6,
     "metadata": {},
     "output_type": "execute_result"
    }
   ],
   "source": [
    "for dict_ in train_ds.take(10):\n",
    "  print(dict_['label'].numpy())\n",
    "  labels = dict_['label'].numpy()\n",
    "  print(dict_['text'].numpy())\n",
    "  texts = dict_['text'].numpy()\n",
    "  # for i in range(3):\n",
    "  #   print(f'Label: {labels[i]}')\n",
    "  #   print(f'Text: {texts[i]} ')\n",
    "\n",
    "test = pd.DataFrame([texts, labels]).T\n",
    "test.columns = ['DATA_COLUMN', 'LABEL_COLUMN']\n",
    "test['DATA_COLUMN'] = test['DATA_COLUMN'].str.decode(\"utf-8\")\n",
    "test.head()"
   ]
  },
  {
   "cell_type": "code",
   "execution_count": null,
   "metadata": {
    "id": "3MglwqgXKX98"
   },
   "outputs": [],
   "source": [
    "url = 'https://s3.amazonaws.com/fast-ai-nlp/yelp_review_polarity_csv.tgz'\n",
    "\n",
    "dataset = tf.keras.utils.get_file('yelp_review_polarity_csv.tgz', url,\n",
    "                                  untar=True, cache_dir='.',\n",
    "                                  cache_subdir='')"
   ]
  },
  {
   "cell_type": "code",
   "execution_count": null,
   "metadata": {
    "colab": {
     "base_uri": "https://localhost:8080/",
     "height": 206
    },
    "id": "j42l6DIPOlhD",
    "outputId": "57125c68-76c4-4f00-9343-82b333fe0c57"
   },
   "outputs": [
    {
     "data": {
      "text/html": [
       "<div>\n",
       "<style scoped>\n",
       "    .dataframe tbody tr th:only-of-type {\n",
       "        vertical-align: middle;\n",
       "    }\n",
       "\n",
       "    .dataframe tbody tr th {\n",
       "        vertical-align: top;\n",
       "    }\n",
       "\n",
       "    .dataframe thead th {\n",
       "        text-align: right;\n",
       "    }\n",
       "</style>\n",
       "<table border=\"1\" class=\"dataframe\">\n",
       "  <thead>\n",
       "    <tr style=\"text-align: right;\">\n",
       "      <th></th>\n",
       "      <th>Sentiment</th>\n",
       "      <th>text</th>\n",
       "    </tr>\n",
       "  </thead>\n",
       "  <tbody>\n",
       "    <tr>\n",
       "      <th>0</th>\n",
       "      <td>2</td>\n",
       "      <td>Been going to Dr. Goldberg for over 10 years. ...</td>\n",
       "    </tr>\n",
       "    <tr>\n",
       "      <th>1</th>\n",
       "      <td>1</td>\n",
       "      <td>I don't know what Dr. Goldberg was like before...</td>\n",
       "    </tr>\n",
       "    <tr>\n",
       "      <th>2</th>\n",
       "      <td>1</td>\n",
       "      <td>I'm writing this review to give you a heads up...</td>\n",
       "    </tr>\n",
       "    <tr>\n",
       "      <th>3</th>\n",
       "      <td>2</td>\n",
       "      <td>All the food is great here. But the best thing...</td>\n",
       "    </tr>\n",
       "    <tr>\n",
       "      <th>4</th>\n",
       "      <td>1</td>\n",
       "      <td>Wing sauce is like water. Pretty much a lot of...</td>\n",
       "    </tr>\n",
       "  </tbody>\n",
       "</table>\n",
       "</div>"
      ],
      "text/plain": [
       "   Sentiment                                               text\n",
       "0          2  Been going to Dr. Goldberg for over 10 years. ...\n",
       "1          1  I don't know what Dr. Goldberg was like before...\n",
       "2          1  I'm writing this review to give you a heads up...\n",
       "3          2  All the food is great here. But the best thing...\n",
       "4          1  Wing sauce is like water. Pretty much a lot of..."
      ]
     },
     "execution_count": 8,
     "metadata": {},
     "output_type": "execute_result"
    }
   ],
   "source": [
    "df = pd.read_csv('./yelp_review_polarity_csv/train.csv')\n",
    "df.columns = ['Sentiment', 'text']\n",
    "df.head()"
   ]
  },
  {
   "cell_type": "code",
   "execution_count": null,
   "metadata": {
    "id": "VQg4BnZ2O3jJ"
   },
   "outputs": [],
   "source": [
    "arr = df['Sentiment'].values \n",
    "labels = np.zeros((arr.size, arr.max()+1))\n",
    "labels[np.arange(arr.size), arr] = 1 "
   ]
  },
  {
   "cell_type": "code",
   "execution_count": null,
   "metadata": {
    "colab": {
     "base_uri": "https://localhost:8080/"
    },
    "id": "0wBJgRpfQPnk",
    "outputId": "116602d9-1f1f-400d-c31c-1047f5edb8f9"
   },
   "outputs": [
    {
     "name": "stderr",
     "output_type": "stream",
     "text": [
      "Some layers from the model checkpoint at bert-base-cased were not used when initializing TFBertModel: ['nsp___cls', 'mlm___cls']\n",
      "- This IS expected if you are initializing TFBertModel from the checkpoint of a model trained on another task or with another architecture (e.g. initializing a BertForSequenceClassification model from a BertForPreTraining model).\n",
      "- This IS NOT expected if you are initializing TFBertModel from the checkpoint of a model that you expect to be exactly identical (initializing a BertForSequenceClassification model from a BertForSequenceClassification model).\n",
      "All the layers of TFBertModel were initialized from the model checkpoint at bert-base-cased.\n",
      "If your task is similar to the task the model of the checkpoint was trained on, you can already use TFBertModel for predictions without further training.\n"
     ]
    }
   ],
   "source": [
    "SEQ_LEN = 50\n",
    "\n",
    "# initialize bert model and tokenizer\n",
    "bert = TFAutoModel.from_pretrained(\"bert-base-cased\")\n",
    "bert_tokenizer = AutoTokenizer.from_pretrained(\"bert-base-cased\")"
   ]
  },
  {
   "cell_type": "code",
   "execution_count": null,
   "metadata": {
    "id": "Xs2k01Q4QJfH"
   },
   "outputs": [],
   "source": [
    "# define function to handle tokenization\n",
    "def tokenize(sentence, tokenizer):\n",
    "    tokens = tokenizer.encode_plus(sentence, max_length=SEQ_LEN,\n",
    "                                   truncation=True, padding='max_length',\n",
    "                                   add_special_tokens=True, return_attention_mask=True,\n",
    "                                   return_token_type_ids=False, return_tensors='tf')\n",
    "    return tokens['input_ids'], tokens['attention_mask']"
   ]
  },
  {
   "cell_type": "code",
   "execution_count": null,
   "metadata": {
    "colab": {
     "base_uri": "https://localhost:8080/",
     "height": 49,
     "referenced_widgets": [
      "6c7de510512045ba964699d5e8922664",
      "a41b7b34971b40d7bc144d9261e44d80",
      "2a19815afdc243ea83610ad6c824eac6",
      "c3ef81e0925448188471b024b76ec609",
      "a7655fba83f9443d88a48d36df935368",
      "9648015f8f7e4ead80633e470b93f1fc",
      "02f875e891854a9a90aa168efb07a3af",
      "44f46baa9d4a4f8e82a4dda650768be4",
      "54197276c12f4384ac4aee03ee92131f",
      "bacfe3279ea44c358e4ff272aa8b7051",
      "cc5f2a7cb3e84a37b75cdf5efdeda343"
     ]
    },
    "id": "clAJOD3EQWAD",
    "outputId": "7b7371f3-5c02-4a6d-da0b-2a32a3f87bf7"
   },
   "outputs": [
    {
     "data": {
      "application/vnd.jupyter.widget-view+json": {
       "model_id": "6c7de510512045ba964699d5e8922664",
       "version_major": 2,
       "version_minor": 0
      },
      "text/plain": [
       "  0%|          | 0/559999 [00:00<?, ?it/s]"
      ]
     },
     "metadata": {},
     "output_type": "display_data"
    }
   ],
   "source": [
    "# initialize two arrays for input tensors\n",
    "Xids = np.zeros((len(df), SEQ_LEN))\n",
    "Xmask = np.zeros((len(df), SEQ_LEN))\n",
    "\n",
    "# loop through data and tokenize everything\n",
    "for i, sentence in enumerate(tqdm(df['text'])):\n",
    "    Xids[i, :], Xmask[i, :] = tokenize(sentence, bert_tokenizer)"
   ]
  },
  {
   "cell_type": "code",
   "execution_count": null,
   "metadata": {
    "id": "l-orEC9cQaUr"
   },
   "outputs": [],
   "source": [
    "# create tensorflow dataset object\n",
    "dataset = tf.data.Dataset.from_tensor_slices((Xids, Xmask, labels))\n",
    "\n",
    "# restructure dataset format for BERT\n",
    "def map_func(input_ids, masks, labels):\n",
    "    return {'input_ids': input_ids, 'attention_mask': masks}, labels\n",
    "  \n",
    "dataset = dataset.map(map_func)  # apply the mapping function\n",
    "\n",
    "# shuffle and batch the dataset\n",
    "dataset = dataset.shuffle(560000).batch(32).cache().prefetch(buffer_size=AUTOTUNE)"
   ]
  },
  {
   "cell_type": "code",
   "execution_count": null,
   "metadata": {
    "id": "EeHQIzpxTOVg"
   },
   "outputs": [],
   "source": [
    "\n",
    "DS_LEN = len(list(dataset))  # get dataset length\n",
    "\n",
    "SPLIT = 0.9  # we will create a 90-10 split\n",
    "\n",
    "# create training-validation sets\n",
    "train = dataset.take(round(DS_LEN*SPLIT))\n",
    "val = dataset.skip(round(DS_LEN*SPLIT))"
   ]
  },
  {
   "cell_type": "code",
   "execution_count": null,
   "metadata": {
    "id": "6NF6sJPib0Jk"
   },
   "outputs": [],
   "source": []
  },
  {
   "cell_type": "code",
   "execution_count": null,
   "metadata": {
    "colab": {
     "base_uri": "https://localhost:8080/"
    },
    "id": "c1q6nQhJUB5v",
    "outputId": "01f41496-c0aa-429e-ea51-1533ad70ec65"
   },
   "outputs": [
    {
     "name": "stderr",
     "output_type": "stream",
     "text": [
      "Some layers from the model checkpoint at bert-base-cased were not used when initializing TFBertModel: ['nsp___cls', 'mlm___cls']\n",
      "- This IS expected if you are initializing TFBertModel from the checkpoint of a model trained on another task or with another architecture (e.g. initializing a BertForSequenceClassification model from a BertForPreTraining model).\n",
      "- This IS NOT expected if you are initializing TFBertModel from the checkpoint of a model that you expect to be exactly identical (initializing a BertForSequenceClassification model from a BertForSequenceClassification model).\n",
      "All the layers of TFBertModel were initialized from the model checkpoint at bert-base-cased.\n",
      "If your task is similar to the task the model of the checkpoint was trained on, you can already use TFBertModel for predictions without further training.\n"
     ]
    },
    {
     "name": "stdout",
     "output_type": "stream",
     "text": [
      "Model: \"model_3\"\n",
      "__________________________________________________________________________________________________\n",
      "Layer (type)                    Output Shape         Param #     Connected to                     \n",
      "==================================================================================================\n",
      "input_ids (InputLayer)          [(None, 50)]         0                                            \n",
      "__________________________________________________________________________________________________\n",
      "attention_mask (InputLayer)     [(None, 50)]         0                                            \n",
      "__________________________________________________________________________________________________\n",
      "tf_bert_model_4 (TFBertModel)   TFBaseModelOutputWit 108310272   input_ids[0][0]                  \n",
      "                                                                 attention_mask[0][0]             \n",
      "__________________________________________________________________________________________________\n",
      "global_max_pooling1d_3 (GlobalM (None, 768)          0           tf_bert_model_4[0][0]            \n",
      "__________________________________________________________________________________________________\n",
      "batch_normalization_3 (BatchNor (None, 768)          3072        global_max_pooling1d_3[0][0]     \n",
      "__________________________________________________________________________________________________\n",
      "dense_3 (Dense)                 (None, 128)          98432       batch_normalization_3[0][0]      \n",
      "__________________________________________________________________________________________________\n",
      "dropout_188 (Dropout)           (None, 128)          0           dense_3[0][0]                    \n",
      "__________________________________________________________________________________________________\n",
      "outputs (Dense)                 (None, 3)            387         dropout_188[0][0]                \n",
      "==================================================================================================\n",
      "Total params: 108,412,163\n",
      "Trainable params: 108,410,627\n",
      "Non-trainable params: 1,536\n",
      "__________________________________________________________________________________________________\n"
     ]
    }
   ],
   "source": [
    "# build the model\n",
    "bert = TFAutoModel.from_pretrained(\"bert-base-cased\")\n",
    "input_ids = tf.keras.layers.Input(shape=(50,), name='input_ids', dtype='int32')\n",
    "mask = tf.keras.layers.Input(shape=(50,), name='attention_mask', dtype='int32')\n",
    "\n",
    "embeddings = bert(input_ids, attention_mask=mask)[0]  # we only keep tensor 0 (last_hidden_state)\n",
    "\n",
    "X = tf.keras.layers.GlobalMaxPool1D()(embeddings)  # reduce tensor dimensionality\n",
    "X = tf.keras.layers.BatchNormalization()(X)\n",
    "X = tf.keras.layers.Dense(128, activation='relu')(X)\n",
    "X = tf.keras.layers.Dropout(0.8)(X)\n",
    "y = tf.keras.layers.Dense(3, activation='softmax', name='outputs')(X)  # adjust based on number of sentiment classes\n",
    "\n",
    "model_b = tf.keras.Model(inputs=[input_ids, mask], outputs=y)\n",
    "\n",
    "model_b.summary()"
   ]
  },
  {
   "cell_type": "code",
   "execution_count": null,
   "metadata": {
    "id": "5V3C80YQUQqk"
   },
   "outputs": [],
   "source": [
    "# freeze the BERT layer\n",
    "model_b.layers[2].trainable = False\n",
    "\n",
    "# compile the model\n",
    "optimizer = tf.keras.optimizers.Adam(0.01)\n",
    "loss = tf.keras.losses.CategoricalCrossentropy()\n",
    "acc = tf.keras.metrics.CategoricalAccuracy('accuracy')\n",
    "\n",
    "\n",
    "bertlogdir = os.path.join(\"bertlogs\", datetime.now().strftime(\"%Y%m%d-%H%M%S\"))\n",
    "file_writer = tf.summary.create_file_writer(bertlogdir + \"/metrics\")\n",
    "tensorboard_callback = tf.keras.callbacks.TensorBoard(bertlogdir, histogram_freq=1)\n",
    "\n",
    "model_b.compile(optimizer=optimizer, loss=loss, metrics=[acc])"
   ]
  },
  {
   "cell_type": "code",
   "execution_count": null,
   "metadata": {
    "id": "u06WJWbeVeh8"
   },
   "outputs": [],
   "source": [
    "# %tensorboard --logdir bertlogdir\n",
    "# notebook.list()\n",
    "# notebook.display(port=6006, height=1000) \n",
    "losses = []\n",
    "accuracies = []\n",
    "step = 0\n",
    "epochs = 10\n",
    "epoch = 0"
   ]
  },
  {
   "cell_type": "code",
   "execution_count": 44,
   "metadata": {
    "colab": {
     "base_uri": "https://localhost:8080/",
     "height": 1000,
     "referenced_widgets": [
      "4c7814c8c4e748f389b317ed0def5db3",
      "2709e1bff5da4bca9e1cedfd6d90fadc",
      "5d91bc2291d848069113fec2ff9193b1",
      "306d33d2599d4b0fbf299854cb89e2fb",
      "3eb72c0a49684667b38bc4ae538a6fb5",
      "6ce8ead0e7a5466ab8f7999d436b408d",
      "98c3748987bc4a1186336418b4d0a43f",
      "7f5a75ed9c8b412eb454499d21fcacf7",
      "c48eab87dba543baabea1aebc0d84658",
      "010be7d2ee9f4d0891967be56311f138",
      "054a01da54834b3782d2da2716448603"
     ]
    },
    "id": "pX4lOTaEcM5G",
    "outputId": "10c5d44a-1a86-49ab-cabd-c08f7aa8f726"
   },
   "outputs": [
    {
     "name": "stdout",
     "output_type": "stream",
     "text": [
      "\n",
      "Start of epoch 2\n"
     ]
    },
    {
     "data": {
      "application/vnd.jupyter.widget-view+json": {
       "model_id": "4c7814c8c4e748f389b317ed0def5db3",
       "version_major": 2,
       "version_minor": 0
      },
      "text/plain": [
       "  0%|          | 0/17500 [00:00<?, ?it/s]"
      ]
     },
     "metadata": {},
     "output_type": "display_data"
    },
    {
     "name": "stdout",
     "output_type": "stream",
     "text": [
      "Loss 0.3039645850658417   Accuracy 0.7443795204162598\n",
      "Loss 0.309129536151886   Accuracy 0.745312511920929\n",
      "Loss 0.2393772304058075   Accuracy 0.7466755509376526\n",
      "Loss 0.3707709312438965   Accuracy 0.7473591566085815\n",
      "Loss 0.19450537860393524   Accuracy 0.7484703063964844\n",
      "Loss 0.35594192147254944   Accuracy 0.7491319179534912\n",
      "Loss 0.21099935472011566   Accuracy 0.7502155303955078\n",
      "Loss 0.4312087595462799   Accuracy 0.7502140402793884\n",
      "Loss 0.4207541346549988   Accuracy 0.7504251599311829\n",
      "Loss 0.339196115732193   Accuracy 0.7512668967247009\n",
      "Loss 0.2762564718723297   Accuracy 0.7518875598907471\n",
      "Loss 0.34275493025779724   Accuracy 0.752916693687439\n",
      "Loss 0.3121548891067505   Accuracy 0.753311276435852\n",
      "Loss 0.2760109603404999   Accuracy 0.75390625\n",
      "Loss 0.3221617341041565   Accuracy 0.7549019455909729\n",
      "Loss 0.28344014286994934   Accuracy 0.7554789185523987\n",
      "Loss 0.2923784852027893   Accuracy 0.7560483813285828\n",
      "Loss 0.23843508958816528   Accuracy 0.7570112347602844\n",
      "Loss 0.2622687816619873   Accuracy 0.7579618096351624\n",
      "Loss 0.5066825747489929   Accuracy 0.7581091523170471\n",
      "Loss 0.28707537055015564   Accuracy 0.7586477994918823\n",
      "Loss 0.48325788974761963   Accuracy 0.758984386920929\n",
      "Loss 0.31535112857818604   Accuracy 0.7593167424201965\n",
      "Loss 0.22345125675201416   Accuracy 0.7604166865348816\n",
      "Loss 0.22525295615196228   Accuracy 0.7613113522529602\n",
      "Loss 0.3043682277202606   Accuracy 0.761432945728302\n",
      "Loss 0.2463810294866562   Accuracy 0.7623106241226196\n",
      "Loss 0.49735355377197266   Accuracy 0.7622364163398743\n",
      "Loss 0.40215426683425903   Accuracy 0.76253741979599\n",
      "Loss 0.3599608838558197   Accuracy 0.7626488208770752\n",
      "Loss 0.24160894751548767   Accuracy 0.7636834383010864\n",
      "Loss 0.35377609729766846   Accuracy 0.7639706134796143\n",
      "Loss 0.26113903522491455   Accuracy 0.7646198868751526\n",
      "Loss 0.20440563559532166   Accuracy 0.765625\n",
      "Loss 0.8760068416595459   Accuracy 0.7658959627151489\n",
      "Loss 0.1893818974494934   Accuracy 0.7668821811676025\n",
      "Loss 0.28849369287490845   Accuracy 0.7673214077949524\n",
      "Loss 0.2864130139350891   Accuracy 0.767578125\n",
      "Loss 0.3160223960876465   Accuracy 0.7680084705352783\n",
      "Loss 0.24336650967597961   Accuracy 0.7686095237731934\n",
      "Loss 0.27282825112342834   Accuracy 0.7690293192863464\n",
      "Loss 0.20634546875953674   Accuracy 0.7697916626930237\n",
      "Loss 0.12872718274593353   Accuracy 0.7708908915519714\n",
      "Loss 0.35567182302474976   Accuracy 0.7711195349693298\n",
      "Loss 0.7278781533241272   Accuracy 0.7708333134651184\n",
      "Loss 0.2807302176952362   Accuracy 0.7713994383811951\n",
      "Loss 0.3130107522010803   Accuracy 0.7717905640602112\n",
      "Loss 0.3616269528865814   Accuracy 0.7720094323158264\n",
      "Loss 0.23811455070972443   Accuracy 0.7723930478096008\n",
      "Loss 0.27038905024528503   Accuracy 0.7727726101875305\n",
      "Loss 0.301602840423584   Accuracy 0.7731481194496155\n",
      "Loss 0.1751023232936859   Accuracy 0.774177610874176\n",
      "Loss 0.12056127190589905   Accuracy 0.7751963138580322\n",
      "Loss 0.16379967331886292   Accuracy 0.7757161259651184\n",
      "Loss 0.39010244607925415   Accuracy 0.7763924598693848\n",
      "Loss 0.3896973133087158   Accuracy 0.7767397165298462\n",
      "Loss 0.39018625020980835   Accuracy 0.7770833373069763\n",
      "Loss 0.14478278160095215   Accuracy 0.777742326259613\n",
      "Loss 0.3584558963775635   Accuracy 0.7780774235725403\n",
      "Loss 0.5565935969352722   Accuracy 0.7777777910232544\n",
      "Loss 0.26863786578178406   Accuracy 0.7781093120574951\n",
      "Loss 0.4115571975708008   Accuracy 0.7779687643051147\n",
      "Loss 0.3922364115715027   Accuracy 0.7779850959777832\n",
      "Loss 0.13218392431735992   Accuracy 0.7787747383117676\n",
      "Loss 0.2536383867263794   Accuracy 0.7792487740516663\n",
      "Loss 0.34270763397216797   Accuracy 0.780024528503418\n",
      "Loss 0.43190327286720276   Accuracy 0.7803353667259216\n",
      "Loss 0.2852201461791992   Accuracy 0.7806432247161865\n",
      "Loss 0.22413820028305054   Accuracy 0.78125\n",
      "Loss 0.6811695098876953   Accuracy 0.7807992696762085\n",
      "Loss 0.2561098039150238   Accuracy 0.7813995480537415\n",
      "Loss 0.2224305272102356   Accuracy 0.781845211982727\n",
      "Loss 0.36387231945991516   Accuracy 0.7818424105644226\n",
      "Loss 0.7160254716873169   Accuracy 0.7822818160057068\n",
      "Loss 0.2690283954143524   Accuracy 0.7827171087265015\n",
      "Loss 0.4004785418510437   Accuracy 0.782856285572052\n",
      "Loss 0.33937370777130127   Accuracy 0.7828488349914551\n",
      "Loss 0.45780742168426514   Accuracy 0.7828414440155029\n",
      "Loss 0.43323826789855957   Accuracy 0.7829781174659729\n",
      "Loss 0.14705967903137207   Accuracy 0.7838302850723267\n",
      "Loss 0.2244730144739151   Accuracy 0.7843892574310303\n",
      "Loss 0.2582324743270874   Accuracy 0.784943163394928\n",
      "Loss 0.48516929149627686   Accuracy 0.7849264740943909\n",
      "Loss 0.6295366287231445   Accuracy 0.7843468189239502\n",
      "Loss 0.7085379958152771   Accuracy 0.7837724089622498\n",
      "Loss 0.5039893388748169   Accuracy 0.7834821343421936\n",
      "Loss 0.7250301837921143   Accuracy 0.7827777862548828\n",
      "Loss 0.3863840103149414   Accuracy 0.7829092741012573\n",
      "Loss 0.6465979814529419   Accuracy 0.7822136282920837\n",
      "Loss 0.581413745880127   Accuracy 0.781798243522644\n",
      "Loss 0.7399547100067139   Accuracy 0.7815229296684265\n",
      "Loss 0.6596902012825012   Accuracy 0.7811141014099121\n",
      "Loss 0.4844402074813843   Accuracy 0.7811146974563599\n",
      "Loss 0.3148655593395233   Accuracy 0.7817887663841248\n",
      "Loss 0.3290759325027466   Accuracy 0.7820547223091125\n",
      "Loss 0.528012752532959   Accuracy 0.7815170884132385\n",
      "Loss 0.6050217747688293   Accuracy 0.78125\n",
      "Loss 0.5776641368865967   Accuracy 0.7807203531265259\n",
      "Loss 0.5121492743492126   Accuracy 0.7807225584983826\n",
      "Loss 0.49322667717933655   Accuracy 0.7807247638702393\n",
      "Loss 0.7224910259246826   Accuracy 0.7803347110748291\n",
      "Loss 0.42052847146987915   Accuracy 0.7805989384651184\n",
      "Loss 0.4244729280471802   Accuracy 0.7808610200881958\n",
      "Loss 0.5948014259338379   Accuracy 0.780604362487793\n",
      "Loss 0.6378011703491211   Accuracy 0.7804784178733826\n",
      "Loss 0.5843304395675659   Accuracy 0.7797130942344666\n",
      "Loss 0.42871350049972534   Accuracy 0.7795918583869934\n",
      "Loss 0.6731454730033875   Accuracy 0.7789633870124817\n",
      "Loss 0.5938365459442139   Accuracy 0.7787196636199951\n",
      "Loss 0.5611351728439331   Accuracy 0.7784778475761414\n",
      "Loss 0.4782741367816925   Accuracy 0.7786144614219666\n",
      "Loss 0.5763952732086182   Accuracy 0.7783750295639038\n",
      "Loss 0.5194172859191895   Accuracy 0.7780129313468933\n"
     ]
    },
    {
     "ename": "KeyboardInterrupt",
     "evalue": "ignored",
     "output_type": "error",
     "traceback": [
      "\u001b[0;31m---------------------------------------------------------------------------\u001b[0m",
      "\u001b[0;31mKeyboardInterrupt\u001b[0m                         Traceback (most recent call last)",
      "\u001b[0;32m<ipython-input-44-d4e6f371208f>\u001b[0m in \u001b[0;36m<module>\u001b[0;34m()\u001b[0m\n\u001b[1;32m     10\u001b[0m             \u001b[0mloss_value\u001b[0m \u001b[0;34m=\u001b[0m \u001b[0mloss\u001b[0m\u001b[0;34m(\u001b[0m\u001b[0my_batch_train\u001b[0m\u001b[0;34m,\u001b[0m \u001b[0my\u001b[0m\u001b[0;34m)\u001b[0m\u001b[0;34m\u001b[0m\u001b[0;34m\u001b[0m\u001b[0m\n\u001b[1;32m     11\u001b[0m \u001b[0;34m\u001b[0m\u001b[0m\n\u001b[0;32m---> 12\u001b[0;31m             \u001b[0mgrads\u001b[0m \u001b[0;34m=\u001b[0m \u001b[0mtape\u001b[0m\u001b[0;34m.\u001b[0m\u001b[0mgradient\u001b[0m\u001b[0;34m(\u001b[0m\u001b[0mloss_value\u001b[0m\u001b[0;34m,\u001b[0m \u001b[0mmodel_b\u001b[0m\u001b[0;34m.\u001b[0m\u001b[0mtrainable_weights\u001b[0m\u001b[0;34m)\u001b[0m\u001b[0;34m\u001b[0m\u001b[0;34m\u001b[0m\u001b[0m\n\u001b[0m\u001b[1;32m     13\u001b[0m             \u001b[0moptimizer\u001b[0m\u001b[0;34m.\u001b[0m\u001b[0mapply_gradients\u001b[0m\u001b[0;34m(\u001b[0m\u001b[0mzip\u001b[0m\u001b[0;34m(\u001b[0m\u001b[0mgrads\u001b[0m\u001b[0;34m,\u001b[0m \u001b[0mmodel_b\u001b[0m\u001b[0;34m.\u001b[0m\u001b[0mtrainable_weights\u001b[0m\u001b[0;34m)\u001b[0m\u001b[0;34m)\u001b[0m\u001b[0;34m\u001b[0m\u001b[0;34m\u001b[0m\u001b[0m\n\u001b[1;32m     14\u001b[0m \u001b[0;34m\u001b[0m\u001b[0m\n",
      "\u001b[0;32m/usr/local/lib/python3.7/dist-packages/tensorflow/python/eager/backprop.py\u001b[0m in \u001b[0;36mgradient\u001b[0;34m(self, target, sources, output_gradients, unconnected_gradients)\u001b[0m\n\u001b[1;32m   1088\u001b[0m         \u001b[0moutput_gradients\u001b[0m\u001b[0;34m=\u001b[0m\u001b[0moutput_gradients\u001b[0m\u001b[0;34m,\u001b[0m\u001b[0;34m\u001b[0m\u001b[0;34m\u001b[0m\u001b[0m\n\u001b[1;32m   1089\u001b[0m         \u001b[0msources_raw\u001b[0m\u001b[0;34m=\u001b[0m\u001b[0mflat_sources_raw\u001b[0m\u001b[0;34m,\u001b[0m\u001b[0;34m\u001b[0m\u001b[0;34m\u001b[0m\u001b[0m\n\u001b[0;32m-> 1090\u001b[0;31m         unconnected_gradients=unconnected_gradients)\n\u001b[0m\u001b[1;32m   1091\u001b[0m \u001b[0;34m\u001b[0m\u001b[0m\n\u001b[1;32m   1092\u001b[0m     \u001b[0;32mif\u001b[0m \u001b[0;32mnot\u001b[0m \u001b[0mself\u001b[0m\u001b[0;34m.\u001b[0m\u001b[0m_persistent\u001b[0m\u001b[0;34m:\u001b[0m\u001b[0;34m\u001b[0m\u001b[0;34m\u001b[0m\u001b[0m\n",
      "\u001b[0;32m/usr/local/lib/python3.7/dist-packages/tensorflow/python/eager/imperative_grad.py\u001b[0m in \u001b[0;36mimperative_grad\u001b[0;34m(tape, target, sources, output_gradients, sources_raw, unconnected_gradients)\u001b[0m\n\u001b[1;32m     75\u001b[0m       \u001b[0moutput_gradients\u001b[0m\u001b[0;34m,\u001b[0m\u001b[0;34m\u001b[0m\u001b[0;34m\u001b[0m\u001b[0m\n\u001b[1;32m     76\u001b[0m       \u001b[0msources_raw\u001b[0m\u001b[0;34m,\u001b[0m\u001b[0;34m\u001b[0m\u001b[0;34m\u001b[0m\u001b[0m\n\u001b[0;32m---> 77\u001b[0;31m       compat.as_str(unconnected_gradients.value))\n\u001b[0m",
      "\u001b[0;32m/usr/local/lib/python3.7/dist-packages/tensorflow/python/eager/backprop.py\u001b[0m in \u001b[0;36m_gradient_function\u001b[0;34m(op_name, attr_tuple, num_inputs, inputs, outputs, out_grads, skip_input_indices, forward_pass_name_scope)\u001b[0m\n\u001b[1;32m    157\u001b[0m       \u001b[0mgradient_name_scope\u001b[0m \u001b[0;34m+=\u001b[0m \u001b[0mforward_pass_name_scope\u001b[0m \u001b[0;34m+\u001b[0m \u001b[0;34m\"/\"\u001b[0m\u001b[0;34m\u001b[0m\u001b[0;34m\u001b[0m\u001b[0m\n\u001b[1;32m    158\u001b[0m     \u001b[0;32mwith\u001b[0m \u001b[0mops\u001b[0m\u001b[0;34m.\u001b[0m\u001b[0mname_scope\u001b[0m\u001b[0;34m(\u001b[0m\u001b[0mgradient_name_scope\u001b[0m\u001b[0;34m)\u001b[0m\u001b[0;34m:\u001b[0m\u001b[0;34m\u001b[0m\u001b[0;34m\u001b[0m\u001b[0m\n\u001b[0;32m--> 159\u001b[0;31m       \u001b[0;32mreturn\u001b[0m \u001b[0mgrad_fn\u001b[0m\u001b[0;34m(\u001b[0m\u001b[0mmock_op\u001b[0m\u001b[0;34m,\u001b[0m \u001b[0;34m*\u001b[0m\u001b[0mout_grads\u001b[0m\u001b[0;34m)\u001b[0m\u001b[0;34m\u001b[0m\u001b[0;34m\u001b[0m\u001b[0m\n\u001b[0m\u001b[1;32m    160\u001b[0m   \u001b[0;32melse\u001b[0m\u001b[0;34m:\u001b[0m\u001b[0;34m\u001b[0m\u001b[0;34m\u001b[0m\u001b[0m\n\u001b[1;32m    161\u001b[0m     \u001b[0;32mreturn\u001b[0m \u001b[0mgrad_fn\u001b[0m\u001b[0;34m(\u001b[0m\u001b[0mmock_op\u001b[0m\u001b[0;34m,\u001b[0m \u001b[0;34m*\u001b[0m\u001b[0mout_grads\u001b[0m\u001b[0;34m)\u001b[0m\u001b[0;34m\u001b[0m\u001b[0;34m\u001b[0m\u001b[0m\n",
      "\u001b[0;32m/usr/local/lib/python3.7/dist-packages/tensorflow/python/ops/math_grad.py\u001b[0m in \u001b[0;36m_SquaredDifferenceGrad\u001b[0;34m(op, grad)\u001b[0m\n\u001b[1;32m   1620\u001b[0m     \u001b[0;31m# The parens ensure that if grad is IndexedSlices, it'll get multiplied by\u001b[0m\u001b[0;34m\u001b[0m\u001b[0;34m\u001b[0m\u001b[0;34m\u001b[0m\u001b[0m\n\u001b[1;32m   1621\u001b[0m     \u001b[0;31m# Tensor (not a number like 2.0) which causes it to convert to Tensor.\u001b[0m\u001b[0;34m\u001b[0m\u001b[0;34m\u001b[0m\u001b[0;34m\u001b[0m\u001b[0m\n\u001b[0;32m-> 1622\u001b[0;31m     \u001b[0mx_grad\u001b[0m \u001b[0;34m=\u001b[0m \u001b[0mmath_ops\u001b[0m\u001b[0;34m.\u001b[0m\u001b[0mscalar_mul\u001b[0m\u001b[0;34m(\u001b[0m\u001b[0;36m2.0\u001b[0m\u001b[0;34m,\u001b[0m \u001b[0mgrad\u001b[0m\u001b[0;34m)\u001b[0m \u001b[0;34m*\u001b[0m \u001b[0;34m(\u001b[0m\u001b[0mx\u001b[0m \u001b[0;34m-\u001b[0m \u001b[0my\u001b[0m\u001b[0;34m)\u001b[0m\u001b[0;34m\u001b[0m\u001b[0;34m\u001b[0m\u001b[0m\n\u001b[0m\u001b[1;32m   1623\u001b[0m \u001b[0;34m\u001b[0m\u001b[0m\n\u001b[1;32m   1624\u001b[0m   if (isinstance(grad, ops.Tensor) and\n",
      "\u001b[0;32m/usr/local/lib/python3.7/dist-packages/tensorflow/python/ops/math_ops.py\u001b[0m in \u001b[0;36mbinary_op_wrapper\u001b[0;34m(x, y)\u001b[0m\n\u001b[1;32m   1365\u001b[0m         \u001b[0;31m#   r_binary_op_wrapper use different force_same_dtype values.\u001b[0m\u001b[0;34m\u001b[0m\u001b[0;34m\u001b[0m\u001b[0;34m\u001b[0m\u001b[0m\n\u001b[1;32m   1366\u001b[0m         \u001b[0mx\u001b[0m\u001b[0;34m,\u001b[0m \u001b[0my\u001b[0m \u001b[0;34m=\u001b[0m \u001b[0mmaybe_promote_tensors\u001b[0m\u001b[0;34m(\u001b[0m\u001b[0mx\u001b[0m\u001b[0;34m,\u001b[0m \u001b[0my\u001b[0m\u001b[0;34m,\u001b[0m \u001b[0mforce_same_dtype\u001b[0m\u001b[0;34m=\u001b[0m\u001b[0;32mFalse\u001b[0m\u001b[0;34m)\u001b[0m\u001b[0;34m\u001b[0m\u001b[0;34m\u001b[0m\u001b[0m\n\u001b[0;32m-> 1367\u001b[0;31m         \u001b[0;32mreturn\u001b[0m \u001b[0mfunc\u001b[0m\u001b[0;34m(\u001b[0m\u001b[0mx\u001b[0m\u001b[0;34m,\u001b[0m \u001b[0my\u001b[0m\u001b[0;34m,\u001b[0m \u001b[0mname\u001b[0m\u001b[0;34m=\u001b[0m\u001b[0mname\u001b[0m\u001b[0;34m)\u001b[0m\u001b[0;34m\u001b[0m\u001b[0;34m\u001b[0m\u001b[0m\n\u001b[0m\u001b[1;32m   1368\u001b[0m       \u001b[0;32mexcept\u001b[0m \u001b[0;34m(\u001b[0m\u001b[0mTypeError\u001b[0m\u001b[0;34m,\u001b[0m \u001b[0mValueError\u001b[0m\u001b[0;34m)\u001b[0m \u001b[0;32mas\u001b[0m \u001b[0me\u001b[0m\u001b[0;34m:\u001b[0m\u001b[0;34m\u001b[0m\u001b[0;34m\u001b[0m\u001b[0m\n\u001b[1;32m   1369\u001b[0m         \u001b[0;31m# Even if dispatching the op failed, the RHS may be a tensor aware\u001b[0m\u001b[0;34m\u001b[0m\u001b[0;34m\u001b[0m\u001b[0;34m\u001b[0m\u001b[0m\n",
      "\u001b[0;32m/usr/local/lib/python3.7/dist-packages/tensorflow/python/ops/math_ops.py\u001b[0m in \u001b[0;36m_mul_dispatch\u001b[0;34m(x, y, name)\u001b[0m\n\u001b[1;32m   1708\u001b[0m     \u001b[0;32mreturn\u001b[0m \u001b[0msparse_tensor\u001b[0m\u001b[0;34m.\u001b[0m\u001b[0mSparseTensor\u001b[0m\u001b[0;34m(\u001b[0m\u001b[0my\u001b[0m\u001b[0;34m.\u001b[0m\u001b[0mindices\u001b[0m\u001b[0;34m,\u001b[0m \u001b[0mnew_vals\u001b[0m\u001b[0;34m,\u001b[0m \u001b[0my\u001b[0m\u001b[0;34m.\u001b[0m\u001b[0mdense_shape\u001b[0m\u001b[0;34m)\u001b[0m\u001b[0;34m\u001b[0m\u001b[0;34m\u001b[0m\u001b[0m\n\u001b[1;32m   1709\u001b[0m   \u001b[0;32melse\u001b[0m\u001b[0;34m:\u001b[0m\u001b[0;34m\u001b[0m\u001b[0;34m\u001b[0m\u001b[0m\n\u001b[0;32m-> 1710\u001b[0;31m     \u001b[0;32mreturn\u001b[0m \u001b[0mmultiply\u001b[0m\u001b[0;34m(\u001b[0m\u001b[0mx\u001b[0m\u001b[0;34m,\u001b[0m \u001b[0my\u001b[0m\u001b[0;34m,\u001b[0m \u001b[0mname\u001b[0m\u001b[0;34m=\u001b[0m\u001b[0mname\u001b[0m\u001b[0;34m)\u001b[0m\u001b[0;34m\u001b[0m\u001b[0;34m\u001b[0m\u001b[0m\n\u001b[0m\u001b[1;32m   1711\u001b[0m \u001b[0;34m\u001b[0m\u001b[0m\n\u001b[1;32m   1712\u001b[0m \u001b[0;34m\u001b[0m\u001b[0m\n",
      "\u001b[0;32m/usr/local/lib/python3.7/dist-packages/tensorflow/python/util/dispatch.py\u001b[0m in \u001b[0;36mwrapper\u001b[0;34m(*args, **kwargs)\u001b[0m\n\u001b[1;32m    204\u001b[0m     \u001b[0;34m\"\"\"Call target, and fall back on dispatchers if there is a TypeError.\"\"\"\u001b[0m\u001b[0;34m\u001b[0m\u001b[0;34m\u001b[0m\u001b[0m\n\u001b[1;32m    205\u001b[0m     \u001b[0;32mtry\u001b[0m\u001b[0;34m:\u001b[0m\u001b[0;34m\u001b[0m\u001b[0;34m\u001b[0m\u001b[0m\n\u001b[0;32m--> 206\u001b[0;31m       \u001b[0;32mreturn\u001b[0m \u001b[0mtarget\u001b[0m\u001b[0;34m(\u001b[0m\u001b[0;34m*\u001b[0m\u001b[0margs\u001b[0m\u001b[0;34m,\u001b[0m \u001b[0;34m**\u001b[0m\u001b[0mkwargs\u001b[0m\u001b[0;34m)\u001b[0m\u001b[0;34m\u001b[0m\u001b[0;34m\u001b[0m\u001b[0m\n\u001b[0m\u001b[1;32m    207\u001b[0m     \u001b[0;32mexcept\u001b[0m \u001b[0;34m(\u001b[0m\u001b[0mTypeError\u001b[0m\u001b[0;34m,\u001b[0m \u001b[0mValueError\u001b[0m\u001b[0;34m)\u001b[0m\u001b[0;34m:\u001b[0m\u001b[0;34m\u001b[0m\u001b[0;34m\u001b[0m\u001b[0m\n\u001b[1;32m    208\u001b[0m       \u001b[0;31m# Note: convert_to_eager_tensor currently raises a ValueError, not a\u001b[0m\u001b[0;34m\u001b[0m\u001b[0;34m\u001b[0m\u001b[0;34m\u001b[0m\u001b[0m\n",
      "\u001b[0;32m/usr/local/lib/python3.7/dist-packages/tensorflow/python/ops/math_ops.py\u001b[0m in \u001b[0;36mmultiply\u001b[0;34m(x, y, name)\u001b[0m\n\u001b[1;32m    528\u001b[0m   \"\"\"\n\u001b[1;32m    529\u001b[0m \u001b[0;34m\u001b[0m\u001b[0m\n\u001b[0;32m--> 530\u001b[0;31m   \u001b[0;32mreturn\u001b[0m \u001b[0mgen_math_ops\u001b[0m\u001b[0;34m.\u001b[0m\u001b[0mmul\u001b[0m\u001b[0;34m(\u001b[0m\u001b[0mx\u001b[0m\u001b[0;34m,\u001b[0m \u001b[0my\u001b[0m\u001b[0;34m,\u001b[0m \u001b[0mname\u001b[0m\u001b[0;34m)\u001b[0m\u001b[0;34m\u001b[0m\u001b[0;34m\u001b[0m\u001b[0m\n\u001b[0m\u001b[1;32m    531\u001b[0m \u001b[0;34m\u001b[0m\u001b[0m\n\u001b[1;32m    532\u001b[0m \u001b[0;34m\u001b[0m\u001b[0m\n",
      "\u001b[0;32m/usr/local/lib/python3.7/dist-packages/tensorflow/python/ops/gen_math_ops.py\u001b[0m in \u001b[0;36mmul\u001b[0;34m(x, y, name)\u001b[0m\n\u001b[1;32m   6231\u001b[0m     \u001b[0;32mtry\u001b[0m\u001b[0;34m:\u001b[0m\u001b[0;34m\u001b[0m\u001b[0;34m\u001b[0m\u001b[0m\n\u001b[1;32m   6232\u001b[0m       _result = pywrap_tfe.TFE_Py_FastPathExecute(\n\u001b[0;32m-> 6233\u001b[0;31m         _ctx, \"Mul\", name, x, y)\n\u001b[0m\u001b[1;32m   6234\u001b[0m       \u001b[0;32mreturn\u001b[0m \u001b[0m_result\u001b[0m\u001b[0;34m\u001b[0m\u001b[0;34m\u001b[0m\u001b[0m\n\u001b[1;32m   6235\u001b[0m     \u001b[0;32mexcept\u001b[0m \u001b[0m_core\u001b[0m\u001b[0;34m.\u001b[0m\u001b[0m_NotOkStatusException\u001b[0m \u001b[0;32mas\u001b[0m \u001b[0me\u001b[0m\u001b[0;34m:\u001b[0m\u001b[0;34m\u001b[0m\u001b[0;34m\u001b[0m\u001b[0m\n",
      "\u001b[0;31mKeyboardInterrupt\u001b[0m: "
     ]
    }
   ],
   "source": [
    "while epoch < epochs:\n",
    "    print(\"\\nStart of epoch %d\" % (epoch,))\n",
    "    epoch += 1\n",
    "    for x_batch_train, y_batch_train in tqdm(dataset):\n",
    "\n",
    "        step = step + 1\n",
    "        with tf.GradientTape() as tape:\n",
    "\n",
    "            y = model_b(x_batch_train) \n",
    "            loss_value = loss(y_batch_train, y)\n",
    "\n",
    "            grads = tape.gradient(loss_value, model_b.trainable_weights)    \n",
    "            optimizer.apply_gradients(zip(grads, model_b.trainable_weights))\n",
    "\n",
    "        acc.update_state(y_batch_train, y)\n",
    "        train_acc = acc.result()\n",
    "\n",
    "        losses.append(loss_value)\n",
    "        accuracies.append(train_acc )\n",
    "       \n",
    "        print('Loss {}   Accuracy {}'.format(loss_value ,train_acc))\n",
    "        \n",
    "        with file_writer.as_default():\n",
    "            tf.summary.scalar('loss', loss_value, step =step)\n",
    "            tf.summary.scalar('accuracy', train_acc, step = step)\n",
    "\n",
    "        \n",
    "  \n",
    "model_b.save('./bert_model_yelp')"
   ]
  }
 ],
 "metadata": {
  "accelerator": "GPU",
  "colab": {
   "collapsed_sections": [],
   "name": "BERT.ipynb",
   "provenance": []
  },
  "kernelspec": {
   "display_name": "Python3",
   "language": "python",
   "name": "python3"
  },
  "language_info": {
   "codemirror_mode": {
    "name": "ipython",
    "version": 3
   },
   "file_extension": ".py",
   "mimetype": "text/x-python",
   "name": "python",
   "nbconvert_exporter": "python",
   "pygments_lexer": "ipython3",
   "version": "3.7.10"
  },
  "widgets": {
   "application/vnd.jupyter.widget-state+json": {
    "010be7d2ee9f4d0891967be56311f138": {
     "model_module": "@jupyter-widgets/controls",
     "model_module_version": "1.5.0",
     "model_name": "DescriptionStyleModel",
     "state": {
      "_model_module": "@jupyter-widgets/controls",
      "_model_module_version": "1.5.0",
      "_model_name": "DescriptionStyleModel",
      "_view_count": null,
      "_view_module": "@jupyter-widgets/base",
      "_view_module_version": "1.2.0",
      "_view_name": "StyleView",
      "description_width": ""
     }
    },
    "02f875e891854a9a90aa168efb07a3af": {
     "model_module": "@jupyter-widgets/base",
     "model_module_version": "1.2.0",
     "model_name": "LayoutModel",
     "state": {
      "_model_module": "@jupyter-widgets/base",
      "_model_module_version": "1.2.0",
      "_model_name": "LayoutModel",
      "_view_count": null,
      "_view_module": "@jupyter-widgets/base",
      "_view_module_version": "1.2.0",
      "_view_name": "LayoutView",
      "align_content": null,
      "align_items": null,
      "align_self": null,
      "border": null,
      "bottom": null,
      "display": null,
      "flex": null,
      "flex_flow": null,
      "grid_area": null,
      "grid_auto_columns": null,
      "grid_auto_flow": null,
      "grid_auto_rows": null,
      "grid_column": null,
      "grid_gap": null,
      "grid_row": null,
      "grid_template_areas": null,
      "grid_template_columns": null,
      "grid_template_rows": null,
      "height": null,
      "justify_content": null,
      "justify_items": null,
      "left": null,
      "margin": null,
      "max_height": null,
      "max_width": null,
      "min_height": null,
      "min_width": null,
      "object_fit": null,
      "object_position": null,
      "order": null,
      "overflow": null,
      "overflow_x": null,
      "overflow_y": null,
      "padding": null,
      "right": null,
      "top": null,
      "visibility": null,
      "width": null
     }
    },
    "054a01da54834b3782d2da2716448603": {
     "model_module": "@jupyter-widgets/base",
     "model_module_version": "1.2.0",
     "model_name": "LayoutModel",
     "state": {
      "_model_module": "@jupyter-widgets/base",
      "_model_module_version": "1.2.0",
      "_model_name": "LayoutModel",
      "_view_count": null,
      "_view_module": "@jupyter-widgets/base",
      "_view_module_version": "1.2.0",
      "_view_name": "LayoutView",
      "align_content": null,
      "align_items": null,
      "align_self": null,
      "border": null,
      "bottom": null,
      "display": null,
      "flex": null,
      "flex_flow": null,
      "grid_area": null,
      "grid_auto_columns": null,
      "grid_auto_flow": null,
      "grid_auto_rows": null,
      "grid_column": null,
      "grid_gap": null,
      "grid_row": null,
      "grid_template_areas": null,
      "grid_template_columns": null,
      "grid_template_rows": null,
      "height": null,
      "justify_content": null,
      "justify_items": null,
      "left": null,
      "margin": null,
      "max_height": null,
      "max_width": null,
      "min_height": null,
      "min_width": null,
      "object_fit": null,
      "object_position": null,
      "order": null,
      "overflow": null,
      "overflow_x": null,
      "overflow_y": null,
      "padding": null,
      "right": null,
      "top": null,
      "visibility": null,
      "width": null
     }
    },
    "2709e1bff5da4bca9e1cedfd6d90fadc": {
     "model_module": "@jupyter-widgets/base",
     "model_module_version": "1.2.0",
     "model_name": "LayoutModel",
     "state": {
      "_model_module": "@jupyter-widgets/base",
      "_model_module_version": "1.2.0",
      "_model_name": "LayoutModel",
      "_view_count": null,
      "_view_module": "@jupyter-widgets/base",
      "_view_module_version": "1.2.0",
      "_view_name": "LayoutView",
      "align_content": null,
      "align_items": null,
      "align_self": null,
      "border": null,
      "bottom": null,
      "display": null,
      "flex": null,
      "flex_flow": null,
      "grid_area": null,
      "grid_auto_columns": null,
      "grid_auto_flow": null,
      "grid_auto_rows": null,
      "grid_column": null,
      "grid_gap": null,
      "grid_row": null,
      "grid_template_areas": null,
      "grid_template_columns": null,
      "grid_template_rows": null,
      "height": null,
      "justify_content": null,
      "justify_items": null,
      "left": null,
      "margin": null,
      "max_height": null,
      "max_width": null,
      "min_height": null,
      "min_width": null,
      "object_fit": null,
      "object_position": null,
      "order": null,
      "overflow": null,
      "overflow_x": null,
      "overflow_y": null,
      "padding": null,
      "right": null,
      "top": null,
      "visibility": null,
      "width": null
     }
    },
    "2a19815afdc243ea83610ad6c824eac6": {
     "model_module": "@jupyter-widgets/controls",
     "model_module_version": "1.5.0",
     "model_name": "HTMLModel",
     "state": {
      "_dom_classes": [],
      "_model_module": "@jupyter-widgets/controls",
      "_model_module_version": "1.5.0",
      "_model_name": "HTMLModel",
      "_view_count": null,
      "_view_module": "@jupyter-widgets/controls",
      "_view_module_version": "1.5.0",
      "_view_name": "HTMLView",
      "description": "",
      "description_tooltip": null,
      "layout": "IPY_MODEL_02f875e891854a9a90aa168efb07a3af",
      "placeholder": "​",
      "style": "IPY_MODEL_9648015f8f7e4ead80633e470b93f1fc",
      "value": "100%"
     }
    },
    "306d33d2599d4b0fbf299854cb89e2fb": {
     "model_module": "@jupyter-widgets/controls",
     "model_module_version": "1.5.0",
     "model_name": "FloatProgressModel",
     "state": {
      "_dom_classes": [],
      "_model_module": "@jupyter-widgets/controls",
      "_model_module_version": "1.5.0",
      "_model_name": "FloatProgressModel",
      "_view_count": null,
      "_view_module": "@jupyter-widgets/controls",
      "_view_module_version": "1.5.0",
      "_view_name": "ProgressView",
      "bar_style": "danger",
      "description": "",
      "description_tooltip": null,
      "layout": "IPY_MODEL_c48eab87dba543baabea1aebc0d84658",
      "max": 17500,
      "min": 0,
      "orientation": "horizontal",
      "style": "IPY_MODEL_7f5a75ed9c8b412eb454499d21fcacf7",
      "value": 113
     }
    },
    "3eb72c0a49684667b38bc4ae538a6fb5": {
     "model_module": "@jupyter-widgets/controls",
     "model_module_version": "1.5.0",
     "model_name": "HTMLModel",
     "state": {
      "_dom_classes": [],
      "_model_module": "@jupyter-widgets/controls",
      "_model_module_version": "1.5.0",
      "_model_name": "HTMLModel",
      "_view_count": null,
      "_view_module": "@jupyter-widgets/controls",
      "_view_module_version": "1.5.0",
      "_view_name": "HTMLView",
      "description": "",
      "description_tooltip": null,
      "layout": "IPY_MODEL_054a01da54834b3782d2da2716448603",
      "placeholder": "​",
      "style": "IPY_MODEL_010be7d2ee9f4d0891967be56311f138",
      "value": " 113/17500 [34:22&lt;84:49:03, 17.56s/it]"
     }
    },
    "44f46baa9d4a4f8e82a4dda650768be4": {
     "model_module": "@jupyter-widgets/controls",
     "model_module_version": "1.5.0",
     "model_name": "ProgressStyleModel",
     "state": {
      "_model_module": "@jupyter-widgets/controls",
      "_model_module_version": "1.5.0",
      "_model_name": "ProgressStyleModel",
      "_view_count": null,
      "_view_module": "@jupyter-widgets/base",
      "_view_module_version": "1.2.0",
      "_view_name": "StyleView",
      "bar_color": null,
      "description_width": ""
     }
    },
    "4c7814c8c4e748f389b317ed0def5db3": {
     "model_module": "@jupyter-widgets/controls",
     "model_module_version": "1.5.0",
     "model_name": "HBoxModel",
     "state": {
      "_dom_classes": [],
      "_model_module": "@jupyter-widgets/controls",
      "_model_module_version": "1.5.0",
      "_model_name": "HBoxModel",
      "_view_count": null,
      "_view_module": "@jupyter-widgets/controls",
      "_view_module_version": "1.5.0",
      "_view_name": "HBoxView",
      "box_style": "",
      "children": [
       "IPY_MODEL_5d91bc2291d848069113fec2ff9193b1",
       "IPY_MODEL_306d33d2599d4b0fbf299854cb89e2fb",
       "IPY_MODEL_3eb72c0a49684667b38bc4ae538a6fb5"
      ],
      "layout": "IPY_MODEL_2709e1bff5da4bca9e1cedfd6d90fadc"
     }
    },
    "54197276c12f4384ac4aee03ee92131f": {
     "model_module": "@jupyter-widgets/base",
     "model_module_version": "1.2.0",
     "model_name": "LayoutModel",
     "state": {
      "_model_module": "@jupyter-widgets/base",
      "_model_module_version": "1.2.0",
      "_model_name": "LayoutModel",
      "_view_count": null,
      "_view_module": "@jupyter-widgets/base",
      "_view_module_version": "1.2.0",
      "_view_name": "LayoutView",
      "align_content": null,
      "align_items": null,
      "align_self": null,
      "border": null,
      "bottom": null,
      "display": null,
      "flex": null,
      "flex_flow": null,
      "grid_area": null,
      "grid_auto_columns": null,
      "grid_auto_flow": null,
      "grid_auto_rows": null,
      "grid_column": null,
      "grid_gap": null,
      "grid_row": null,
      "grid_template_areas": null,
      "grid_template_columns": null,
      "grid_template_rows": null,
      "height": null,
      "justify_content": null,
      "justify_items": null,
      "left": null,
      "margin": null,
      "max_height": null,
      "max_width": null,
      "min_height": null,
      "min_width": null,
      "object_fit": null,
      "object_position": null,
      "order": null,
      "overflow": null,
      "overflow_x": null,
      "overflow_y": null,
      "padding": null,
      "right": null,
      "top": null,
      "visibility": null,
      "width": null
     }
    },
    "5d91bc2291d848069113fec2ff9193b1": {
     "model_module": "@jupyter-widgets/controls",
     "model_module_version": "1.5.0",
     "model_name": "HTMLModel",
     "state": {
      "_dom_classes": [],
      "_model_module": "@jupyter-widgets/controls",
      "_model_module_version": "1.5.0",
      "_model_name": "HTMLModel",
      "_view_count": null,
      "_view_module": "@jupyter-widgets/controls",
      "_view_module_version": "1.5.0",
      "_view_name": "HTMLView",
      "description": "",
      "description_tooltip": null,
      "layout": "IPY_MODEL_98c3748987bc4a1186336418b4d0a43f",
      "placeholder": "​",
      "style": "IPY_MODEL_6ce8ead0e7a5466ab8f7999d436b408d",
      "value": "  0%"
     }
    },
    "6c7de510512045ba964699d5e8922664": {
     "model_module": "@jupyter-widgets/controls",
     "model_module_version": "1.5.0",
     "model_name": "HBoxModel",
     "state": {
      "_dom_classes": [],
      "_model_module": "@jupyter-widgets/controls",
      "_model_module_version": "1.5.0",
      "_model_name": "HBoxModel",
      "_view_count": null,
      "_view_module": "@jupyter-widgets/controls",
      "_view_module_version": "1.5.0",
      "_view_name": "HBoxView",
      "box_style": "",
      "children": [
       "IPY_MODEL_2a19815afdc243ea83610ad6c824eac6",
       "IPY_MODEL_c3ef81e0925448188471b024b76ec609",
       "IPY_MODEL_a7655fba83f9443d88a48d36df935368"
      ],
      "layout": "IPY_MODEL_a41b7b34971b40d7bc144d9261e44d80"
     }
    },
    "6ce8ead0e7a5466ab8f7999d436b408d": {
     "model_module": "@jupyter-widgets/controls",
     "model_module_version": "1.5.0",
     "model_name": "DescriptionStyleModel",
     "state": {
      "_model_module": "@jupyter-widgets/controls",
      "_model_module_version": "1.5.0",
      "_model_name": "DescriptionStyleModel",
      "_view_count": null,
      "_view_module": "@jupyter-widgets/base",
      "_view_module_version": "1.2.0",
      "_view_name": "StyleView",
      "description_width": ""
     }
    },
    "7f5a75ed9c8b412eb454499d21fcacf7": {
     "model_module": "@jupyter-widgets/controls",
     "model_module_version": "1.5.0",
     "model_name": "ProgressStyleModel",
     "state": {
      "_model_module": "@jupyter-widgets/controls",
      "_model_module_version": "1.5.0",
      "_model_name": "ProgressStyleModel",
      "_view_count": null,
      "_view_module": "@jupyter-widgets/base",
      "_view_module_version": "1.2.0",
      "_view_name": "StyleView",
      "bar_color": null,
      "description_width": ""
     }
    },
    "9648015f8f7e4ead80633e470b93f1fc": {
     "model_module": "@jupyter-widgets/controls",
     "model_module_version": "1.5.0",
     "model_name": "DescriptionStyleModel",
     "state": {
      "_model_module": "@jupyter-widgets/controls",
      "_model_module_version": "1.5.0",
      "_model_name": "DescriptionStyleModel",
      "_view_count": null,
      "_view_module": "@jupyter-widgets/base",
      "_view_module_version": "1.2.0",
      "_view_name": "StyleView",
      "description_width": ""
     }
    },
    "98c3748987bc4a1186336418b4d0a43f": {
     "model_module": "@jupyter-widgets/base",
     "model_module_version": "1.2.0",
     "model_name": "LayoutModel",
     "state": {
      "_model_module": "@jupyter-widgets/base",
      "_model_module_version": "1.2.0",
      "_model_name": "LayoutModel",
      "_view_count": null,
      "_view_module": "@jupyter-widgets/base",
      "_view_module_version": "1.2.0",
      "_view_name": "LayoutView",
      "align_content": null,
      "align_items": null,
      "align_self": null,
      "border": null,
      "bottom": null,
      "display": null,
      "flex": null,
      "flex_flow": null,
      "grid_area": null,
      "grid_auto_columns": null,
      "grid_auto_flow": null,
      "grid_auto_rows": null,
      "grid_column": null,
      "grid_gap": null,
      "grid_row": null,
      "grid_template_areas": null,
      "grid_template_columns": null,
      "grid_template_rows": null,
      "height": null,
      "justify_content": null,
      "justify_items": null,
      "left": null,
      "margin": null,
      "max_height": null,
      "max_width": null,
      "min_height": null,
      "min_width": null,
      "object_fit": null,
      "object_position": null,
      "order": null,
      "overflow": null,
      "overflow_x": null,
      "overflow_y": null,
      "padding": null,
      "right": null,
      "top": null,
      "visibility": null,
      "width": null
     }
    },
    "a41b7b34971b40d7bc144d9261e44d80": {
     "model_module": "@jupyter-widgets/base",
     "model_module_version": "1.2.0",
     "model_name": "LayoutModel",
     "state": {
      "_model_module": "@jupyter-widgets/base",
      "_model_module_version": "1.2.0",
      "_model_name": "LayoutModel",
      "_view_count": null,
      "_view_module": "@jupyter-widgets/base",
      "_view_module_version": "1.2.0",
      "_view_name": "LayoutView",
      "align_content": null,
      "align_items": null,
      "align_self": null,
      "border": null,
      "bottom": null,
      "display": null,
      "flex": null,
      "flex_flow": null,
      "grid_area": null,
      "grid_auto_columns": null,
      "grid_auto_flow": null,
      "grid_auto_rows": null,
      "grid_column": null,
      "grid_gap": null,
      "grid_row": null,
      "grid_template_areas": null,
      "grid_template_columns": null,
      "grid_template_rows": null,
      "height": null,
      "justify_content": null,
      "justify_items": null,
      "left": null,
      "margin": null,
      "max_height": null,
      "max_width": null,
      "min_height": null,
      "min_width": null,
      "object_fit": null,
      "object_position": null,
      "order": null,
      "overflow": null,
      "overflow_x": null,
      "overflow_y": null,
      "padding": null,
      "right": null,
      "top": null,
      "visibility": null,
      "width": null
     }
    },
    "a7655fba83f9443d88a48d36df935368": {
     "model_module": "@jupyter-widgets/controls",
     "model_module_version": "1.5.0",
     "model_name": "HTMLModel",
     "state": {
      "_dom_classes": [],
      "_model_module": "@jupyter-widgets/controls",
      "_model_module_version": "1.5.0",
      "_model_name": "HTMLModel",
      "_view_count": null,
      "_view_module": "@jupyter-widgets/controls",
      "_view_module_version": "1.5.0",
      "_view_name": "HTMLView",
      "description": "",
      "description_tooltip": null,
      "layout": "IPY_MODEL_cc5f2a7cb3e84a37b75cdf5efdeda343",
      "placeholder": "​",
      "style": "IPY_MODEL_bacfe3279ea44c358e4ff272aa8b7051",
      "value": " 559999/559999 [07:42&lt;00:00, 1184.47it/s]"
     }
    },
    "bacfe3279ea44c358e4ff272aa8b7051": {
     "model_module": "@jupyter-widgets/controls",
     "model_module_version": "1.5.0",
     "model_name": "DescriptionStyleModel",
     "state": {
      "_model_module": "@jupyter-widgets/controls",
      "_model_module_version": "1.5.0",
      "_model_name": "DescriptionStyleModel",
      "_view_count": null,
      "_view_module": "@jupyter-widgets/base",
      "_view_module_version": "1.2.0",
      "_view_name": "StyleView",
      "description_width": ""
     }
    },
    "c3ef81e0925448188471b024b76ec609": {
     "model_module": "@jupyter-widgets/controls",
     "model_module_version": "1.5.0",
     "model_name": "FloatProgressModel",
     "state": {
      "_dom_classes": [],
      "_model_module": "@jupyter-widgets/controls",
      "_model_module_version": "1.5.0",
      "_model_name": "FloatProgressModel",
      "_view_count": null,
      "_view_module": "@jupyter-widgets/controls",
      "_view_module_version": "1.5.0",
      "_view_name": "ProgressView",
      "bar_style": "success",
      "description": "",
      "description_tooltip": null,
      "layout": "IPY_MODEL_54197276c12f4384ac4aee03ee92131f",
      "max": 559999,
      "min": 0,
      "orientation": "horizontal",
      "style": "IPY_MODEL_44f46baa9d4a4f8e82a4dda650768be4",
      "value": 559999
     }
    },
    "c48eab87dba543baabea1aebc0d84658": {
     "model_module": "@jupyter-widgets/base",
     "model_module_version": "1.2.0",
     "model_name": "LayoutModel",
     "state": {
      "_model_module": "@jupyter-widgets/base",
      "_model_module_version": "1.2.0",
      "_model_name": "LayoutModel",
      "_view_count": null,
      "_view_module": "@jupyter-widgets/base",
      "_view_module_version": "1.2.0",
      "_view_name": "LayoutView",
      "align_content": null,
      "align_items": null,
      "align_self": null,
      "border": null,
      "bottom": null,
      "display": null,
      "flex": null,
      "flex_flow": null,
      "grid_area": null,
      "grid_auto_columns": null,
      "grid_auto_flow": null,
      "grid_auto_rows": null,
      "grid_column": null,
      "grid_gap": null,
      "grid_row": null,
      "grid_template_areas": null,
      "grid_template_columns": null,
      "grid_template_rows": null,
      "height": null,
      "justify_content": null,
      "justify_items": null,
      "left": null,
      "margin": null,
      "max_height": null,
      "max_width": null,
      "min_height": null,
      "min_width": null,
      "object_fit": null,
      "object_position": null,
      "order": null,
      "overflow": null,
      "overflow_x": null,
      "overflow_y": null,
      "padding": null,
      "right": null,
      "top": null,
      "visibility": null,
      "width": null
     }
    },
    "cc5f2a7cb3e84a37b75cdf5efdeda343": {
     "model_module": "@jupyter-widgets/base",
     "model_module_version": "1.2.0",
     "model_name": "LayoutModel",
     "state": {
      "_model_module": "@jupyter-widgets/base",
      "_model_module_version": "1.2.0",
      "_model_name": "LayoutModel",
      "_view_count": null,
      "_view_module": "@jupyter-widgets/base",
      "_view_module_version": "1.2.0",
      "_view_name": "LayoutView",
      "align_content": null,
      "align_items": null,
      "align_self": null,
      "border": null,
      "bottom": null,
      "display": null,
      "flex": null,
      "flex_flow": null,
      "grid_area": null,
      "grid_auto_columns": null,
      "grid_auto_flow": null,
      "grid_auto_rows": null,
      "grid_column": null,
      "grid_gap": null,
      "grid_row": null,
      "grid_template_areas": null,
      "grid_template_columns": null,
      "grid_template_rows": null,
      "height": null,
      "justify_content": null,
      "justify_items": null,
      "left": null,
      "margin": null,
      "max_height": null,
      "max_width": null,
      "min_height": null,
      "min_width": null,
      "object_fit": null,
      "object_position": null,
      "order": null,
      "overflow": null,
      "overflow_x": null,
      "overflow_y": null,
      "padding": null,
      "right": null,
      "top": null,
      "visibility": null,
      "width": null
     }
    }
   }
  }
 },
 "nbformat": 4,
 "nbformat_minor": 4
}
