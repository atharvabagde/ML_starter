{
 "cells": [
  {
   "cell_type": "code",
   "execution_count": null,
   "metadata": {
    "id": "6NIhDCaqvOoU"
   },
   "outputs": [],
   "source": [
    "pip install transformers"
   ]
  },
  {
   "cell_type": "code",
   "execution_count": null,
   "metadata": {
    "id": "C_e3NuWfyn6l"
   },
   "outputs": [],
   "source": [
    "from transformers import TFAutoModel, AutoTokenizer\n",
    "import tensorflow as tf\n",
    "import tensorflow_datasets as tfds\n",
    "import pandas as pd\n",
    "import matplotlib.pyplot as plt\n",
    "import numpy as np\n",
    "from tqdm.notebook import tqdm\n",
    "import os\n",
    "from datetime import datetime"
   ]
  },
  {
   "cell_type": "code",
   "execution_count": null,
   "metadata": {
    "id": "r-gRlCLqUxT_"
   },
   "outputs": [],
   "source": [
    "%load_ext tensorboard\n",
    "from tensorboard import notebook"
   ]
  },
  {
   "cell_type": "code",
   "execution_count": null,
   "metadata": {
    "colab": {
     "base_uri": "https://localhost:8080/"
    },
    "id": "PEwjqO772nLE",
    "outputId": "fd11c769-2f98-49ea-d79c-ca0b5b363744"
   },
   "outputs": [
    {
     "name": "stderr",
     "output_type": "stream",
     "text": [
      "INFO:absl:Load dataset info from /root/tensorflow_datasets/yelp_polarity_reviews/plain_text/0.1.0\n"
     ]
    },
    {
     "name": "stdout",
     "output_type": "stream",
     "text": [
      "dict_keys(['test', 'train'])\n",
      "560000\n",
      "38000\n"
     ]
    }
   ],
   "source": [
    "builder = tfds.builder('yelp_polarity_reviews/plain_text')\n",
    "print(builder.info.splits.keys())\n",
    "print(builder.info.splits['train'].num_examples)\n",
    "print(builder.info.splits['test'].num_examples)"
   ]
  },
  {
   "cell_type": "code",
   "execution_count": null,
   "metadata": {
    "colab": {
     "base_uri": "https://localhost:8080/"
    },
    "id": "NnMZppnK6-Uu",
    "outputId": "2bb57d8d-a198-4634-bbb5-5f28c6a32251"
   },
   "outputs": [
    {
     "name": "stderr",
     "output_type": "stream",
     "text": [
      "INFO:absl:Load dataset info from /root/tensorflow_datasets/yelp_polarity_reviews/plain_text/0.1.0\n",
      "INFO:absl:Reusing dataset yelp_polarity_reviews (/root/tensorflow_datasets/yelp_polarity_reviews/plain_text/0.1.0)\n",
      "INFO:absl:Constructing tf.data.Dataset for split ['train[:80%]', 'train[80%:100%]', 'test'], from /root/tensorflow_datasets/yelp_polarity_reviews/plain_text/0.1.0\n"
     ]
    }
   ],
   "source": [
    "AUTOTUNE = tf.data.AUTOTUNE\n",
    "seed = 42\n",
    "\n",
    "train_ds, val_ds, test_ds= tfds.load('yelp_polarity_reviews/plain_text', split=['train[:80%]', 'train[80%:100%]', 'test'])\n",
    "\n",
    "train_ds = train_ds.shuffle(buffer_size =56000 ,seed=123)\n",
    "train_ds = train_ds.cache().prefetch(buffer_size=AUTOTUNE)\n",
    "\n",
    "val_ds = val_ds.cache().shuffle(buffer_size =56000 , seed=123)\n",
    "val_ds = val_ds.cache().prefetch(buffer_size=AUTOTUNE)\n",
    "\n",
    "test_ds = test_ds.shuffle(buffer_size =56000 , seed=123)\n",
    "test_ds = test_ds.cache().prefetch(buffer_size=AUTOTUNE)"
   ]
  },
  {
   "cell_type": "code",
   "execution_count": null,
   "metadata": {
    "colab": {
     "base_uri": "https://localhost:8080/",
     "height": 448
    },
    "id": "cVu0IuFv_kkG",
    "outputId": "2821d3f2-c62c-4085-ccb9-cdc726bcd069"
   },
   "outputs": [
    {
     "name": "stdout",
     "output_type": "stream",
     "text": [
      "0\n",
      "b\"If Aria, a 5-star hotel, is going to offer a buffet, you'd expect it to be spectacular or at least up to par. Bellagio has it, so why not Aria, right? I  came here with my family yesterday--truly DISAPPOINTED! My mom took a bite of the cold cut meat and spat it out because it had a foul taste and smell to it. I saw the meat, but didn't get it because they looked like they had been sitting there for a good while. I was going to try granola with yogurt, but it had a film on the yogurt as if it had been sitting there for a VERY LONG TIME. My first round barely filled the plate because nothing looked really fresh. I am not a picky eater or a harsh food critic, but I am not going to eat something that looks like it had been sitting there from last night. The tomato salad looked like it had been sitting there for a good while, too. Management is obviously the problem and ARIA NEEDS TO TAKE NOTE OF THIS! WHAT IS THIS PLACE TRYING TO DO? GIVE US FOOD POISONING??? C'mon!!! If your buffet selection is not great, at least make sure that your food is fresh. I was at the curry section yesterday and they didnt even bother to empty out the old curry. Instead, they just threw more fresh ones on top. The old ones on the bottom will only turn bad, it's not going to make it more fresh with the fresh ones on top. The only best section of the buffet was the dessert section. Even though options were not many, at least they looked decently fresh.\"\n",
      "1\n",
      "b'Noticed no one has reviewed in a while...it you had a bad experience, you should go back. My friends and I had just arrived in Scottsdale and were HUNGRY for something near our condo. This place fit the bill. The sandwich was yummy, the fries hot and crisp, and the margharita pizza delicious (altho they DID forget to add our jalapenos).\\\\nThe BEST THING, tho, was the waitress, Denise! What an absolute doll! She gave us all kind of tips about where to go and what to do during our girls weekend. Thank you, Denise, for taking us \\\\\"\"off the beaten\\\\\"\" tourist track! \\\\nThis was a great way to start a fantastic weekend.'\n",
      "1\n",
      "b'Let me start by saying that I am not of Chinese descent. I can\\'t say much about the authenticity or how this food compares with stuff actually in Asia. I am also not from LA, which if you look around Phoenix Yelp, seems to be the epicenter of all food creation forever and ever amen. Just saying. \\\\n\\\\nI happen to think Phoenix food in general is pretty darn swell and in my white girl opinion, I also happen to think that iKitchen\\'s food is wonderfully delicious. \\\\n\\\\nRundown: \\\\n\\\\n- Food seems really cheap for what you get. Have gone twice and each time the food we\\'ve gotten has been enough for two meals. Two meals and a good side of potstickers was $19. \\\\n\\\\n- Potstickers were lovely. Black bean dry noodle is personal favorite and delicious. Got their Taiwanese chicken and \\\\\"\"special\\\\\"\" vegetable soup and it was really good (I just looked on their online menu, I don\\'t remember what this soup was called, whatever it was, it felt delicious and hearty and healthy feeling). Boba tea here was one of the first I really liked and boyfriend loved it.  \\\\n\\\\n- Server here is wonderful and always recommends dishes for us to try. Very helpful and sweet. And, um, what\\'s the fuss about decor? It\\'s a cheap restaurant. It\\'s clean, well-lit, and that\\'s enough for me.'\n",
      "1\n",
      "b'Great food and service. Very happy with my visit.'\n",
      "0\n",
      "b'I was unsatisfied with all aspects of their customer service process. they did not explain things clearly. their policies are not meant to help you and i had a very unpleasant experience. save yourself the trouble and fly with rates so low. i would give zero stars if the option existed.'\n",
      "1\n",
      "b'Love this place! The boy and I came here for brunch this past Monday, and were pleasantly surprised. The omelet bar offers made to order omelets and eggs with a variety of filling choices, which we both opted for bacon and cheese and were cooked perfectly. There are a lot of different choices, which is great if your with a group or a picky eater, everything from pizza, Mexican to Asian cuisine and sushi. I only wish we more hungry when we came here.'\n",
      "1\n",
      "b\"Oh the Coach house! We've been here before but never during the holidays. Every year they win some kind of title for most gawdy light display, and if you drive past it you'll see why. It looks like the Griswald's house! However nothing had prepared me for the inside and all it's magical holiday spendor. Every inch of the place.....every wall, ceiling beam, corner, was decorated with holiday paper, tinsel, and lights. It was impressive. We went on a Friday night and it was packed with people!!! Their inside bar is a little small but the good thing is they have an outside patio area as well. \\\\nThis bar is a fun Scottsdale staple to check out anytime, but definitely during the holiday season if you want a hefty dose of Christmas cheer.\"\n",
      "0\n",
      "b'This place saw me coming a mile away. I thought that since my then boyfriend had taken his car there and always gotten a good honest deal, it was an alright place. Boy was I wrong! My car wasn\\'t starting and I was desperate for a fix. After charging me over $600 to \\\\\"\"replace cables\\\\\"\" in my vehicle, I took it back a week later because it would not start. They then told me the fuel pump was broken and needed to be replaced. So I spent another $300 on that. About five days later, it would not start again. At this point, I told them that THEY would be coming to pick up my car and figure out what was wrong with it, free of charge, which they did. Their conclusion? Water in the gas tank, which they told me they could take care of for ANOTHER $200. Needless to say, I didn\\'t go back. They definitley ripped me off. Don\\'t go there!'\n",
      "1\n",
      "b'Went with wife and daughter to enjoy ice cream, found a deal in Valpak. Glad I went in Tanya was very friendly and knowledgeable about their products. She let us sample their variety of ice cream and made recommendations. She suggested coconut pineapple which was delicious. I recommend you go in and see her.'\n",
      "1\n",
      "b\"This is very disappointing to hear.. It's my boyfriends birthday and I wanted to bring him here. When looking for the menu items I find out the restaurant has been closed for sometime.. I hope it was only closed for remodeling... This used to be my go to restaurant while shopping.!\"\n"
     ]
    },
    {
     "data": {
      "text/html": [
       "<div>\n",
       "<style scoped>\n",
       "    .dataframe tbody tr th:only-of-type {\n",
       "        vertical-align: middle;\n",
       "    }\n",
       "\n",
       "    .dataframe tbody tr th {\n",
       "        vertical-align: top;\n",
       "    }\n",
       "\n",
       "    .dataframe thead th {\n",
       "        text-align: right;\n",
       "    }\n",
       "</style>\n",
       "<table border=\"1\" class=\"dataframe\">\n",
       "  <thead>\n",
       "    <tr style=\"text-align: right;\">\n",
       "      <th></th>\n",
       "      <th>DATA_COLUMN</th>\n",
       "      <th>LABEL_COLUMN</th>\n",
       "    </tr>\n",
       "  </thead>\n",
       "  <tbody>\n",
       "    <tr>\n",
       "      <th>0</th>\n",
       "      <td>This is very disappointing to hear.. It's my b...</td>\n",
       "      <td>1</td>\n",
       "    </tr>\n",
       "  </tbody>\n",
       "</table>\n",
       "</div>"
      ],
      "text/plain": [
       "                                         DATA_COLUMN LABEL_COLUMN\n",
       "0  This is very disappointing to hear.. It's my b...            1"
      ]
     },
     "execution_count": 6,
     "metadata": {},
     "output_type": "execute_result"
    }
   ],
   "source": [
    "for dict_ in train_ds.take(10):\n",
    "  print(dict_['label'].numpy())\n",
    "  labels = dict_['label'].numpy()\n",
    "  print(dict_['text'].numpy())\n",
    "  texts = dict_['text'].numpy()\n",
    "  # for i in range(3):\n",
    "  #   print(f'Label: {labels[i]}')\n",
    "  #   print(f'Text: {texts[i]} ')\n",
    "\n",
    "test = pd.DataFrame([texts, labels]).T\n",
    "test.columns = ['DATA_COLUMN', 'LABEL_COLUMN']\n",
    "test['DATA_COLUMN'] = test['DATA_COLUMN'].str.decode(\"utf-8\")\n",
    "test.head()"
   ]
  },
  {
   "cell_type": "code",
   "execution_count": null,
   "metadata": {
    "id": "3MglwqgXKX98"
   },
   "outputs": [],
   "source": [
    "url = 'https://s3.amazonaws.com/fast-ai-nlp/yelp_review_polarity_csv.tgz'\n",
    "\n",
    "dataset = tf.keras.utils.get_file('yelp_review_polarity_csv.tgz', url,\n",
    "                                  untar=True, cache_dir='.',\n",
    "                                  cache_subdir='')"
   ]
  },
  {
   "cell_type": "code",
   "execution_count": null,
   "metadata": {
    "colab": {
     "base_uri": "https://localhost:8080/",
     "height": 206
    },
    "id": "j42l6DIPOlhD",
    "outputId": "57125c68-76c4-4f00-9343-82b333fe0c57"
   },
   "outputs": [
    {
     "data": {
      "text/html": [
       "<div>\n",
       "<style scoped>\n",
       "    .dataframe tbody tr th:only-of-type {\n",
       "        vertical-align: middle;\n",
       "    }\n",
       "\n",
       "    .dataframe tbody tr th {\n",
       "        vertical-align: top;\n",
       "    }\n",
       "\n",
       "    .dataframe thead th {\n",
       "        text-align: right;\n",
       "    }\n",
       "</style>\n",
       "<table border=\"1\" class=\"dataframe\">\n",
       "  <thead>\n",
       "    <tr style=\"text-align: right;\">\n",
       "      <th></th>\n",
       "      <th>Sentiment</th>\n",
       "      <th>text</th>\n",
       "    </tr>\n",
       "  </thead>\n",
       "  <tbody>\n",
       "    <tr>\n",
       "      <th>0</th>\n",
       "      <td>2</td>\n",
       "      <td>Been going to Dr. Goldberg for over 10 years. ...</td>\n",
       "    </tr>\n",
       "    <tr>\n",
       "      <th>1</th>\n",
       "      <td>1</td>\n",
       "      <td>I don't know what Dr. Goldberg was like before...</td>\n",
       "    </tr>\n",
       "    <tr>\n",
       "      <th>2</th>\n",
       "      <td>1</td>\n",
       "      <td>I'm writing this review to give you a heads up...</td>\n",
       "    </tr>\n",
       "    <tr>\n",
       "      <th>3</th>\n",
       "      <td>2</td>\n",
       "      <td>All the food is great here. But the best thing...</td>\n",
       "    </tr>\n",
       "    <tr>\n",
       "      <th>4</th>\n",
       "      <td>1</td>\n",
       "      <td>Wing sauce is like water. Pretty much a lot of...</td>\n",
       "    </tr>\n",
       "  </tbody>\n",
       "</table>\n",
       "</div>"
      ],
      "text/plain": [
       "   Sentiment                                               text\n",
       "0          2  Been going to Dr. Goldberg for over 10 years. ...\n",
       "1          1  I don't know what Dr. Goldberg was like before...\n",
       "2          1  I'm writing this review to give you a heads up...\n",
       "3          2  All the food is great here. But the best thing...\n",
       "4          1  Wing sauce is like water. Pretty much a lot of..."
      ]
     },
     "execution_count": 8,
     "metadata": {},
     "output_type": "execute_result"
    }
   ],
   "source": [
    "df = pd.read_csv('./yelp_review_polarity_csv/train.csv')\n",
    "df.columns = ['Sentiment', 'text']\n",
    "df.head()"
   ]
  },
  {
   "cell_type": "code",
   "execution_count": null,
   "metadata": {
    "id": "VQg4BnZ2O3jJ"
   },
   "outputs": [],
   "source": [
    "arr = df['Sentiment'].values \n",
    "labels = np.zeros((arr.size, arr.max()+1))\n",
    "labels[np.arange(arr.size), arr] = 1 "
   ]
  },
  {
   "cell_type": "code",
   "execution_count": null,
   "metadata": {
    "colab": {
     "base_uri": "https://localhost:8080/"
    },
    "id": "0wBJgRpfQPnk",
    "outputId": "116602d9-1f1f-400d-c31c-1047f5edb8f9"
   },
   "outputs": [
    {
     "name": "stderr",
     "output_type": "stream",
     "text": [
      "Some layers from the model checkpoint at bert-base-cased were not used when initializing TFBertModel: ['nsp___cls', 'mlm___cls']\n",
      "- This IS expected if you are initializing TFBertModel from the checkpoint of a model trained on another task or with another architecture (e.g. initializing a BertForSequenceClassification model from a BertForPreTraining model).\n",
      "- This IS NOT expected if you are initializing TFBertModel from the checkpoint of a model that you expect to be exactly identical (initializing a BertForSequenceClassification model from a BertForSequenceClassification model).\n",
      "All the layers of TFBertModel were initialized from the model checkpoint at bert-base-cased.\n",
      "If your task is similar to the task the model of the checkpoint was trained on, you can already use TFBertModel for predictions without further training.\n"
     ]
    }
   ],
   "source": [
    "SEQ_LEN = 50\n",
    "\n",
    "# initialize bert model and tokenizer\n",
    "bert = TFAutoModel.from_pretrained(\"bert-base-cased\")\n",
    "bert_tokenizer = AutoTokenizer.from_pretrained(\"bert-base-cased\")"
   ]
  },
  {
   "cell_type": "code",
   "execution_count": null,
   "metadata": {
    "id": "Xs2k01Q4QJfH"
   },
   "outputs": [],
   "source": [
    "# define function to handle tokenization\n",
    "def tokenize(sentence, tokenizer):\n",
    "    tokens = tokenizer.encode_plus(sentence, max_length=SEQ_LEN,\n",
    "                                   truncation=True, padding='max_length',\n",
    "                                   add_special_tokens=True, return_attention_mask=True,\n",
    "                                   return_token_type_ids=False, return_tensors='tf')\n",
    "    return tokens['input_ids'], tokens['attention_mask']"
   ]
  },
  {
   "cell_type": "code",
   "execution_count": null,
   "metadata": {
    "colab": {
     "base_uri": "https://localhost:8080/",
     "height": 49,
     "referenced_widgets": [
      "6c7de510512045ba964699d5e8922664",
      "a41b7b34971b40d7bc144d9261e44d80",
      "2a19815afdc243ea83610ad6c824eac6",
      "c3ef81e0925448188471b024b76ec609",
      "a7655fba83f9443d88a48d36df935368",
      "9648015f8f7e4ead80633e470b93f1fc",
      "02f875e891854a9a90aa168efb07a3af",
      "44f46baa9d4a4f8e82a4dda650768be4",
      "54197276c12f4384ac4aee03ee92131f",
      "bacfe3279ea44c358e4ff272aa8b7051",
      "cc5f2a7cb3e84a37b75cdf5efdeda343"
     ]
    },
    "id": "clAJOD3EQWAD",
    "outputId": "7b7371f3-5c02-4a6d-da0b-2a32a3f87bf7"
   },
   "outputs": [
    {
     "data": {
      "application/vnd.jupyter.widget-view+json": {
       "model_id": "6c7de510512045ba964699d5e8922664",
       "version_major": 2,
       "version_minor": 0
      },
      "text/plain": [
       "  0%|          | 0/559999 [00:00<?, ?it/s]"
      ]
     },
     "metadata": {},
     "output_type": "display_data"
    }
   ],
   "source": [
    "# initialize two arrays for input tensors\n",
    "Xids = np.zeros((len(df), SEQ_LEN))\n",
    "Xmask = np.zeros((len(df), SEQ_LEN))\n",
    "\n",
    "# loop through data and tokenize everything\n",
    "for i, sentence in enumerate(tqdm(df['text'])):\n",
    "    Xids[i, :], Xmask[i, :] = tokenize(sentence, bert_tokenizer)"
   ]
  },
  {
   "cell_type": "code",
   "execution_count": null,
   "metadata": {
    "id": "l-orEC9cQaUr"
   },
   "outputs": [],
   "source": [
    "# create tensorflow dataset object\n",
    "dataset = tf.data.Dataset.from_tensor_slices((Xids, Xmask, labels))\n",
    "\n",
    "# restructure dataset format for BERT\n",
    "def map_func(input_ids, masks, labels):\n",
    "    return {'input_ids': input_ids, 'attention_mask': masks}, labels\n",
    "  \n",
    "dataset = dataset.map(map_func)  # apply the mapping function\n",
    "\n",
    "# shuffle and batch the dataset\n",
    "dataset = dataset.shuffle(560000).batch(32).cache().prefetch(buffer_size=AUTOTUNE)"
   ]
  },
  {
   "cell_type": "code",
   "execution_count": null,
   "metadata": {
    "id": "EeHQIzpxTOVg"
   },
   "outputs": [],
   "source": [
    "\n",
    "DS_LEN = len(list(dataset))  # get dataset length\n",
    "\n",
    "SPLIT = 0.9  # we will create a 90-10 split\n",
    "\n",
    "# create training-validation sets\n",
    "train = dataset.take(round(DS_LEN*SPLIT))\n",
    "val = dataset.skip(round(DS_LEN*SPLIT))"
   ]
  }
 ],
 "metadata": {
  "accelerator": "GPU",
  "colab": {
   "collapsed_sections": [],
   "name": "BERT.ipynb",
   "provenance": []
  },
  "kernelspec": {
   "display_name": "Python3",
   "language": "python",
   "name": "python3"
  },
  "language_info": {
   "codemirror_mode": {
    "name": "ipython",
    "version": 3
   },
   "file_extension": ".py",
   "mimetype": "text/x-python",
   "name": "python",
   "nbconvert_exporter": "python",
   "pygments_lexer": "ipython3",
   "version": "3.7.10"
  },
  "widgets": {
   "application/vnd.jupyter.widget-state+json": {
    "010be7d2ee9f4d0891967be56311f138": {
     "model_module": "@jupyter-widgets/controls",
     "model_module_version": "1.5.0",
     "model_name": "DescriptionStyleModel",
     "state": {
      "_model_module": "@jupyter-widgets/controls",
      "_model_module_version": "1.5.0",
      "_model_name": "DescriptionStyleModel",
      "_view_count": null,
      "_view_module": "@jupyter-widgets/base",
      "_view_module_version": "1.2.0",
      "_view_name": "StyleView",
      "description_width": ""
     }
    },
    "02f875e891854a9a90aa168efb07a3af": {
     "model_module": "@jupyter-widgets/base",
     "model_module_version": "1.2.0",
     "model_name": "LayoutModel",
     "state": {
      "_model_module": "@jupyter-widgets/base",
      "_model_module_version": "1.2.0",
      "_model_name": "LayoutModel",
      "_view_count": null,
      "_view_module": "@jupyter-widgets/base",
      "_view_module_version": "1.2.0",
      "_view_name": "LayoutView",
      "align_content": null,
      "align_items": null,
      "align_self": null,
      "border": null,
      "bottom": null,
      "display": null,
      "flex": null,
      "flex_flow": null,
      "grid_area": null,
      "grid_auto_columns": null,
      "grid_auto_flow": null,
      "grid_auto_rows": null,
      "grid_column": null,
      "grid_gap": null,
      "grid_row": null,
      "grid_template_areas": null,
      "grid_template_columns": null,
      "grid_template_rows": null,
      "height": null,
      "justify_content": null,
      "justify_items": null,
      "left": null,
      "margin": null,
      "max_height": null,
      "max_width": null,
      "min_height": null,
      "min_width": null,
      "object_fit": null,
      "object_position": null,
      "order": null,
      "overflow": null,
      "overflow_x": null,
      "overflow_y": null,
      "padding": null,
      "right": null,
      "top": null,
      "visibility": null,
      "width": null
     }
    },
    "054a01da54834b3782d2da2716448603": {
     "model_module": "@jupyter-widgets/base",
     "model_module_version": "1.2.0",
     "model_name": "LayoutModel",
     "state": {
      "_model_module": "@jupyter-widgets/base",
      "_model_module_version": "1.2.0",
      "_model_name": "LayoutModel",
      "_view_count": null,
      "_view_module": "@jupyter-widgets/base",
      "_view_module_version": "1.2.0",
      "_view_name": "LayoutView",
      "align_content": null,
      "align_items": null,
      "align_self": null,
      "border": null,
      "bottom": null,
      "display": null,
      "flex": null,
      "flex_flow": null,
      "grid_area": null,
      "grid_auto_columns": null,
      "grid_auto_flow": null,
      "grid_auto_rows": null,
      "grid_column": null,
      "grid_gap": null,
      "grid_row": null,
      "grid_template_areas": null,
      "grid_template_columns": null,
      "grid_template_rows": null,
      "height": null,
      "justify_content": null,
      "justify_items": null,
      "left": null,
      "margin": null,
      "max_height": null,
      "max_width": null,
      "min_height": null,
      "min_width": null,
      "object_fit": null,
      "object_position": null,
      "order": null,
      "overflow": null,
      "overflow_x": null,
      "overflow_y": null,
      "padding": null,
      "right": null,
      "top": null,
      "visibility": null,
      "width": null
     }
    },
    "2709e1bff5da4bca9e1cedfd6d90fadc": {
     "model_module": "@jupyter-widgets/base",
     "model_module_version": "1.2.0",
     "model_name": "LayoutModel",
     "state": {
      "_model_module": "@jupyter-widgets/base",
      "_model_module_version": "1.2.0",
      "_model_name": "LayoutModel",
      "_view_count": null,
      "_view_module": "@jupyter-widgets/base",
      "_view_module_version": "1.2.0",
      "_view_name": "LayoutView",
      "align_content": null,
      "align_items": null,
      "align_self": null,
      "border": null,
      "bottom": null,
      "display": null,
      "flex": null,
      "flex_flow": null,
      "grid_area": null,
      "grid_auto_columns": null,
      "grid_auto_flow": null,
      "grid_auto_rows": null,
      "grid_column": null,
      "grid_gap": null,
      "grid_row": null,
      "grid_template_areas": null,
      "grid_template_columns": null,
      "grid_template_rows": null,
      "height": null,
      "justify_content": null,
      "justify_items": null,
      "left": null,
      "margin": null,
      "max_height": null,
      "max_width": null,
      "min_height": null,
      "min_width": null,
      "object_fit": null,
      "object_position": null,
      "order": null,
      "overflow": null,
      "overflow_x": null,
      "overflow_y": null,
      "padding": null,
      "right": null,
      "top": null,
      "visibility": null,
      "width": null
     }
    },
    "2a19815afdc243ea83610ad6c824eac6": {
     "model_module": "@jupyter-widgets/controls",
     "model_module_version": "1.5.0",
     "model_name": "HTMLModel",
     "state": {
      "_dom_classes": [],
      "_model_module": "@jupyter-widgets/controls",
      "_model_module_version": "1.5.0",
      "_model_name": "HTMLModel",
      "_view_count": null,
      "_view_module": "@jupyter-widgets/controls",
      "_view_module_version": "1.5.0",
      "_view_name": "HTMLView",
      "description": "",
      "description_tooltip": null,
      "layout": "IPY_MODEL_02f875e891854a9a90aa168efb07a3af",
      "placeholder": "​",
      "style": "IPY_MODEL_9648015f8f7e4ead80633e470b93f1fc",
      "value": "100%"
     }
    },
    "306d33d2599d4b0fbf299854cb89e2fb": {
     "model_module": "@jupyter-widgets/controls",
     "model_module_version": "1.5.0",
     "model_name": "FloatProgressModel",
     "state": {
      "_dom_classes": [],
      "_model_module": "@jupyter-widgets/controls",
      "_model_module_version": "1.5.0",
      "_model_name": "FloatProgressModel",
      "_view_count": null,
      "_view_module": "@jupyter-widgets/controls",
      "_view_module_version": "1.5.0",
      "_view_name": "ProgressView",
      "bar_style": "danger",
      "description": "",
      "description_tooltip": null,
      "layout": "IPY_MODEL_c48eab87dba543baabea1aebc0d84658",
      "max": 17500,
      "min": 0,
      "orientation": "horizontal",
      "style": "IPY_MODEL_7f5a75ed9c8b412eb454499d21fcacf7",
      "value": 113
     }
    },
    "3eb72c0a49684667b38bc4ae538a6fb5": {
     "model_module": "@jupyter-widgets/controls",
     "model_module_version": "1.5.0",
     "model_name": "HTMLModel",
     "state": {
      "_dom_classes": [],
      "_model_module": "@jupyter-widgets/controls",
      "_model_module_version": "1.5.0",
      "_model_name": "HTMLModel",
      "_view_count": null,
      "_view_module": "@jupyter-widgets/controls",
      "_view_module_version": "1.5.0",
      "_view_name": "HTMLView",
      "description": "",
      "description_tooltip": null,
      "layout": "IPY_MODEL_054a01da54834b3782d2da2716448603",
      "placeholder": "​",
      "style": "IPY_MODEL_010be7d2ee9f4d0891967be56311f138",
      "value": " 113/17500 [34:22&lt;84:49:03, 17.56s/it]"
     }
    },
    "44f46baa9d4a4f8e82a4dda650768be4": {
     "model_module": "@jupyter-widgets/controls",
     "model_module_version": "1.5.0",
     "model_name": "ProgressStyleModel",
     "state": {
      "_model_module": "@jupyter-widgets/controls",
      "_model_module_version": "1.5.0",
      "_model_name": "ProgressStyleModel",
      "_view_count": null,
      "_view_module": "@jupyter-widgets/base",
      "_view_module_version": "1.2.0",
      "_view_name": "StyleView",
      "bar_color": null,
      "description_width": ""
     }
    },
    "4c7814c8c4e748f389b317ed0def5db3": {
     "model_module": "@jupyter-widgets/controls",
     "model_module_version": "1.5.0",
     "model_name": "HBoxModel",
     "state": {
      "_dom_classes": [],
      "_model_module": "@jupyter-widgets/controls",
      "_model_module_version": "1.5.0",
      "_model_name": "HBoxModel",
      "_view_count": null,
      "_view_module": "@jupyter-widgets/controls",
      "_view_module_version": "1.5.0",
      "_view_name": "HBoxView",
      "box_style": "",
      "children": [
       "IPY_MODEL_5d91bc2291d848069113fec2ff9193b1",
       "IPY_MODEL_306d33d2599d4b0fbf299854cb89e2fb",
       "IPY_MODEL_3eb72c0a49684667b38bc4ae538a6fb5"
      ],
      "layout": "IPY_MODEL_2709e1bff5da4bca9e1cedfd6d90fadc"
     }
    },
    "54197276c12f4384ac4aee03ee92131f": {
     "model_module": "@jupyter-widgets/base",
     "model_module_version": "1.2.0",
     "model_name": "LayoutModel",
     "state": {
      "_model_module": "@jupyter-widgets/base",
      "_model_module_version": "1.2.0",
      "_model_name": "LayoutModel",
      "_view_count": null,
      "_view_module": "@jupyter-widgets/base",
      "_view_module_version": "1.2.0",
      "_view_name": "LayoutView",
      "align_content": null,
      "align_items": null,
      "align_self": null,
      "border": null,
      "bottom": null,
      "display": null,
      "flex": null,
      "flex_flow": null,
      "grid_area": null,
      "grid_auto_columns": null,
      "grid_auto_flow": null,
      "grid_auto_rows": null,
      "grid_column": null,
      "grid_gap": null,
      "grid_row": null,
      "grid_template_areas": null,
      "grid_template_columns": null,
      "grid_template_rows": null,
      "height": null,
      "justify_content": null,
      "justify_items": null,
      "left": null,
      "margin": null,
      "max_height": null,
      "max_width": null,
      "min_height": null,
      "min_width": null,
      "object_fit": null,
      "object_position": null,
      "order": null,
      "overflow": null,
      "overflow_x": null,
      "overflow_y": null,
      "padding": null,
      "right": null,
      "top": null,
      "visibility": null,
      "width": null
     }
    },
    "5d91bc2291d848069113fec2ff9193b1": {
     "model_module": "@jupyter-widgets/controls",
     "model_module_version": "1.5.0",
     "model_name": "HTMLModel",
     "state": {
      "_dom_classes": [],
      "_model_module": "@jupyter-widgets/controls",
      "_model_module_version": "1.5.0",
      "_model_name": "HTMLModel",
      "_view_count": null,
      "_view_module": "@jupyter-widgets/controls",
      "_view_module_version": "1.5.0",
      "_view_name": "HTMLView",
      "description": "",
      "description_tooltip": null,
      "layout": "IPY_MODEL_98c3748987bc4a1186336418b4d0a43f",
      "placeholder": "​",
      "style": "IPY_MODEL_6ce8ead0e7a5466ab8f7999d436b408d",
      "value": "  0%"
     }
    },
    "6c7de510512045ba964699d5e8922664": {
     "model_module": "@jupyter-widgets/controls",
     "model_module_version": "1.5.0",
     "model_name": "HBoxModel",
     "state": {
      "_dom_classes": [],
      "_model_module": "@jupyter-widgets/controls",
      "_model_module_version": "1.5.0",
      "_model_name": "HBoxModel",
      "_view_count": null,
      "_view_module": "@jupyter-widgets/controls",
      "_view_module_version": "1.5.0",
      "_view_name": "HBoxView",
      "box_style": "",
      "children": [
       "IPY_MODEL_2a19815afdc243ea83610ad6c824eac6",
       "IPY_MODEL_c3ef81e0925448188471b024b76ec609",
       "IPY_MODEL_a7655fba83f9443d88a48d36df935368"
      ],
      "layout": "IPY_MODEL_a41b7b34971b40d7bc144d9261e44d80"
     }
    },
    "6ce8ead0e7a5466ab8f7999d436b408d": {
     "model_module": "@jupyter-widgets/controls",
     "model_module_version": "1.5.0",
     "model_name": "DescriptionStyleModel",
     "state": {
      "_model_module": "@jupyter-widgets/controls",
      "_model_module_version": "1.5.0",
      "_model_name": "DescriptionStyleModel",
      "_view_count": null,
      "_view_module": "@jupyter-widgets/base",
      "_view_module_version": "1.2.0",
      "_view_name": "StyleView",
      "description_width": ""
     }
    },
    "7f5a75ed9c8b412eb454499d21fcacf7": {
     "model_module": "@jupyter-widgets/controls",
     "model_module_version": "1.5.0",
     "model_name": "ProgressStyleModel",
     "state": {
      "_model_module": "@jupyter-widgets/controls",
      "_model_module_version": "1.5.0",
      "_model_name": "ProgressStyleModel",
      "_view_count": null,
      "_view_module": "@jupyter-widgets/base",
      "_view_module_version": "1.2.0",
      "_view_name": "StyleView",
      "bar_color": null,
      "description_width": ""
     }
    },
    "9648015f8f7e4ead80633e470b93f1fc": {
     "model_module": "@jupyter-widgets/controls",
     "model_module_version": "1.5.0",
     "model_name": "DescriptionStyleModel",
     "state": {
      "_model_module": "@jupyter-widgets/controls",
      "_model_module_version": "1.5.0",
      "_model_name": "DescriptionStyleModel",
      "_view_count": null,
      "_view_module": "@jupyter-widgets/base",
      "_view_module_version": "1.2.0",
      "_view_name": "StyleView",
      "description_width": ""
     }
    },
    "98c3748987bc4a1186336418b4d0a43f": {
     "model_module": "@jupyter-widgets/base",
     "model_module_version": "1.2.0",
     "model_name": "LayoutModel",
     "state": {
      "_model_module": "@jupyter-widgets/base",
      "_model_module_version": "1.2.0",
      "_model_name": "LayoutModel",
      "_view_count": null,
      "_view_module": "@jupyter-widgets/base",
      "_view_module_version": "1.2.0",
      "_view_name": "LayoutView",
      "align_content": null,
      "align_items": null,
      "align_self": null,
      "border": null,
      "bottom": null,
      "display": null,
      "flex": null,
      "flex_flow": null,
      "grid_area": null,
      "grid_auto_columns": null,
      "grid_auto_flow": null,
      "grid_auto_rows": null,
      "grid_column": null,
      "grid_gap": null,
      "grid_row": null,
      "grid_template_areas": null,
      "grid_template_columns": null,
      "grid_template_rows": null,
      "height": null,
      "justify_content": null,
      "justify_items": null,
      "left": null,
      "margin": null,
      "max_height": null,
      "max_width": null,
      "min_height": null,
      "min_width": null,
      "object_fit": null,
      "object_position": null,
      "order": null,
      "overflow": null,
      "overflow_x": null,
      "overflow_y": null,
      "padding": null,
      "right": null,
      "top": null,
      "visibility": null,
      "width": null
     }
    },
    "a41b7b34971b40d7bc144d9261e44d80": {
     "model_module": "@jupyter-widgets/base",
     "model_module_version": "1.2.0",
     "model_name": "LayoutModel",
     "state": {
      "_model_module": "@jupyter-widgets/base",
      "_model_module_version": "1.2.0",
      "_model_name": "LayoutModel",
      "_view_count": null,
      "_view_module": "@jupyter-widgets/base",
      "_view_module_version": "1.2.0",
      "_view_name": "LayoutView",
      "align_content": null,
      "align_items": null,
      "align_self": null,
      "border": null,
      "bottom": null,
      "display": null,
      "flex": null,
      "flex_flow": null,
      "grid_area": null,
      "grid_auto_columns": null,
      "grid_auto_flow": null,
      "grid_auto_rows": null,
      "grid_column": null,
      "grid_gap": null,
      "grid_row": null,
      "grid_template_areas": null,
      "grid_template_columns": null,
      "grid_template_rows": null,
      "height": null,
      "justify_content": null,
      "justify_items": null,
      "left": null,
      "margin": null,
      "max_height": null,
      "max_width": null,
      "min_height": null,
      "min_width": null,
      "object_fit": null,
      "object_position": null,
      "order": null,
      "overflow": null,
      "overflow_x": null,
      "overflow_y": null,
      "padding": null,
      "right": null,
      "top": null,
      "visibility": null,
      "width": null
     }
    },
    "a7655fba83f9443d88a48d36df935368": {
     "model_module": "@jupyter-widgets/controls",
     "model_module_version": "1.5.0",
     "model_name": "HTMLModel",
     "state": {
      "_dom_classes": [],
      "_model_module": "@jupyter-widgets/controls",
      "_model_module_version": "1.5.0",
      "_model_name": "HTMLModel",
      "_view_count": null,
      "_view_module": "@jupyter-widgets/controls",
      "_view_module_version": "1.5.0",
      "_view_name": "HTMLView",
      "description": "",
      "description_tooltip": null,
      "layout": "IPY_MODEL_cc5f2a7cb3e84a37b75cdf5efdeda343",
      "placeholder": "​",
      "style": "IPY_MODEL_bacfe3279ea44c358e4ff272aa8b7051",
      "value": " 559999/559999 [07:42&lt;00:00, 1184.47it/s]"
     }
    },
    "bacfe3279ea44c358e4ff272aa8b7051": {
     "model_module": "@jupyter-widgets/controls",
     "model_module_version": "1.5.0",
     "model_name": "DescriptionStyleModel",
     "state": {
      "_model_module": "@jupyter-widgets/controls",
      "_model_module_version": "1.5.0",
      "_model_name": "DescriptionStyleModel",
      "_view_count": null,
      "_view_module": "@jupyter-widgets/base",
      "_view_module_version": "1.2.0",
      "_view_name": "StyleView",
      "description_width": ""
     }
    },
    "c3ef81e0925448188471b024b76ec609": {
     "model_module": "@jupyter-widgets/controls",
     "model_module_version": "1.5.0",
     "model_name": "FloatProgressModel",
     "state": {
      "_dom_classes": [],
      "_model_module": "@jupyter-widgets/controls",
      "_model_module_version": "1.5.0",
      "_model_name": "FloatProgressModel",
      "_view_count": null,
      "_view_module": "@jupyter-widgets/controls",
      "_view_module_version": "1.5.0",
      "_view_name": "ProgressView",
      "bar_style": "success",
      "description": "",
      "description_tooltip": null,
      "layout": "IPY_MODEL_54197276c12f4384ac4aee03ee92131f",
      "max": 559999,
      "min": 0,
      "orientation": "horizontal",
      "style": "IPY_MODEL_44f46baa9d4a4f8e82a4dda650768be4",
      "value": 559999
     }
    },
    "c48eab87dba543baabea1aebc0d84658": {
     "model_module": "@jupyter-widgets/base",
     "model_module_version": "1.2.0",
     "model_name": "LayoutModel",
     "state": {
      "_model_module": "@jupyter-widgets/base",
      "_model_module_version": "1.2.0",
      "_model_name": "LayoutModel",
      "_view_count": null,
      "_view_module": "@jupyter-widgets/base",
      "_view_module_version": "1.2.0",
      "_view_name": "LayoutView",
      "align_content": null,
      "align_items": null,
      "align_self": null,
      "border": null,
      "bottom": null,
      "display": null,
      "flex": null,
      "flex_flow": null,
      "grid_area": null,
      "grid_auto_columns": null,
      "grid_auto_flow": null,
      "grid_auto_rows": null,
      "grid_column": null,
      "grid_gap": null,
      "grid_row": null,
      "grid_template_areas": null,
      "grid_template_columns": null,
      "grid_template_rows": null,
      "height": null,
      "justify_content": null,
      "justify_items": null,
      "left": null,
      "margin": null,
      "max_height": null,
      "max_width": null,
      "min_height": null,
      "min_width": null,
      "object_fit": null,
      "object_position": null,
      "order": null,
      "overflow": null,
      "overflow_x": null,
      "overflow_y": null,
      "padding": null,
      "right": null,
      "top": null,
      "visibility": null,
      "width": null
     }
    },
    "cc5f2a7cb3e84a37b75cdf5efdeda343": {
     "model_module": "@jupyter-widgets/base",
     "model_module_version": "1.2.0",
     "model_name": "LayoutModel",
     "state": {
      "_model_module": "@jupyter-widgets/base",
      "_model_module_version": "1.2.0",
      "_model_name": "LayoutModel",
      "_view_count": null,
      "_view_module": "@jupyter-widgets/base",
      "_view_module_version": "1.2.0",
      "_view_name": "LayoutView",
      "align_content": null,
      "align_items": null,
      "align_self": null,
      "border": null,
      "bottom": null,
      "display": null,
      "flex": null,
      "flex_flow": null,
      "grid_area": null,
      "grid_auto_columns": null,
      "grid_auto_flow": null,
      "grid_auto_rows": null,
      "grid_column": null,
      "grid_gap": null,
      "grid_row": null,
      "grid_template_areas": null,
      "grid_template_columns": null,
      "grid_template_rows": null,
      "height": null,
      "justify_content": null,
      "justify_items": null,
      "left": null,
      "margin": null,
      "max_height": null,
      "max_width": null,
      "min_height": null,
      "min_width": null,
      "object_fit": null,
      "object_position": null,
      "order": null,
      "overflow": null,
      "overflow_x": null,
      "overflow_y": null,
      "padding": null,
      "right": null,
      "top": null,
      "visibility": null,
      "width": null
     }
    }
   }
  }
 },
 "nbformat": 4,
 "nbformat_minor": 4
}
