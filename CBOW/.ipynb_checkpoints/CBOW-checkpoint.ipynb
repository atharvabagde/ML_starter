{
 "cells": [
  {
   "cell_type": "code",
   "execution_count": 1,
   "id": "f83be14e",
   "metadata": {},
   "outputs": [],
   "source": [
    "import matplotlib.pyplot as plt\n",
    "import numpy as np\n",
    "import pandas as pd\n",
    "\n",
    "import io\n",
    "import os\n",
    "import re\n",
    "import string\n",
    "import shutil\n",
    "from tqdm.notebook  import tqdm\n",
    "import pickle\n",
    "from IPython.display import clear_output\n",
    "from datetime import datetime\n",
    "\n",
    "import tensorflow as tf\n",
    "from tensorflow.keras.layers import Dense, Embedding, GlobalAveragePooling1D, Lambda, BatchNormalization\n",
    "from tensorflow.keras.layers import TextVectorization\n",
    "\n",
    "import keras.backend as K\n",
    "from keras.models import Sequential\n",
    "from keras.preprocessing import text, sequence\n",
    "from keras.utils import np_utils\n",
    "\n",
    "gpu = tf.config.experimental.list_physical_devices('GPU')\n",
    "tf.config.experimental.set_memory_growth(gpu[0], True)\n",
    "\n",
    "\n",
    "%load_ext tensorboard\n",
    "SEED = 42\n",
    "AUTOTUNE = tf.data.AUTOTUNE"
   ]
  },
  {
   "cell_type": "code",
   "execution_count": 40,
   "id": "b76b4bb1",
   "metadata": {
    "tags": []
   },
   "outputs": [],
   "source": [
    "def clean(doc):\n",
    "    r_string = set(doc) - set(['A', 'B', 'C', 'D', 'E', 'F', 'G', \n",
    "                                    'H', 'I', 'J', 'K', 'L', 'M', 'N', 'O', \n",
    "                                    'P', 'Q', 'R', 'S', 'T', 'U', 'V', 'W', 'X', 'Y', 'Z',\n",
    "                                    'a', 'b', 'c', 'd', 'e', 'f', 'g', 'h', 'i', \n",
    "                                    'j', 'k', 'l', 'm', 'n', 'o', 'p', 'q', 'r', \n",
    "                                    's', 't', 'u', 'v', 'w', 'x', 'y', 'z', ' ',\n",
    "                                      '1','2','3','4','5','6','7','8','9', '0','Á', 'Å', 'Æ', 'É',\n",
    "                                  'Í', 'Î', 'Ö', '×', 'Ø', 'Ú', 'Ü', 'Þ', 'à', 'á', 'â', 'ã', 'ä', 'å', \n",
    "                                  'ç', 'è', 'é', 'ê', 'ë', 'ì', 'í', 'î', 'ñ', 'ò', 'ó', 'ô', 'ö', 'ø', 'ú',\n",
    "                                  'û', 'ü', 'Ā', 'ā', 'ă', 'ć', 'č', 'Đ', 'đ', 'ė', 'ī', 'Ł', 'ł', 'ń', 'Ō', 'ō',\n",
    "                                  'ś', 'ş', 'š', 'ū', 'ų', 'Ż',\n",
    "                                  'ž', 'ơ', 'ư',\n",
    "                                  'ḥ', 'ṃ', 'ṅ', 'ṣ', 'ṭ', 'ṯ', 'ả', 'ấ', 'ầ', 'ắ', 'ễ', 'ệ', 'ị', 'ớ', 'ử', 'ỳ','½','.',\n",
    "                            \n",
    "                                 ])\n",
    "    r_list = sorted(list(r_string))\n",
    "    print('Removed  --' + ''.join(r_list) +  '\\n')\n",
    "    document_ = doc\n",
    "\n",
    "    for r in r_list:\n",
    "        document_ =  document_.replace(r,\"\")\n",
    "\n",
    "    return document_\n"
   ]
  },
  {
   "cell_type": "code",
   "execution_count": 50,
   "id": "9b0d5cd5",
   "metadata": {},
   "outputs": [
    {
     "name": "stdout",
     "output_type": "stream",
     "text": [
      "Removed  --\n",
      "!\"#$%&'()*+,-/:;<=>?@[\\]^`|~¡£¥§°±²³µ·ʻʿ̃αβγκμСавекостяاحصلنه्กงณตมยรลัาิ่์გდვზიკორსუცძწხჯ჻‑–—‘’“”„†…′″⁄₤€₹⅓⅔→−≤☉♭♯〈〉のァアキスットプュリルヴ・動場大戦攻機殻火礮空隊﻿～\n",
      "\n"
     ]
    }
   ],
   "source": [
    "corpus = tf.io.read_file('./wiki.train.tokens')\n",
    "corpus =tf.strings.lower(corpus)\n",
    "corpus = corpus.numpy()\n",
    "corpus = corpus.decode('utf-8')\n",
    "corpus = clean(corpus)\n",
    "one_doc = [corpus]\n",
    "corpus =  corpus.split('.')\n",
    "corpus = [line for line in corpus if line is not ' ']"
   ]
  }
 ],
 "metadata": {
  "interpreter": {
   "hash": "d5c6d510e28c9b9013be6c2358d02dd554c357c981f1197507ba2aa8a3a7adb2"
  },
  "kernelspec": {
   "display_name": "Python3",
   "language": "python",
   "name": "python3"
  },
  "language_info": {
   "codemirror_mode": {
    "name": "ipython",
    "version": 3
   },
   "file_extension": ".py",
   "mimetype": "text/x-python",
   "name": "python",
   "nbconvert_exporter": "python",
   "pygments_lexer": "ipython3",
   "version": "3.7.10"
  }
 },
 "nbformat": 4,
 "nbformat_minor": 5
}
