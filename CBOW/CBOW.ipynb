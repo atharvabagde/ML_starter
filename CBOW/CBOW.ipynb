{
 "cells": [
  {
   "cell_type": "code",
   "execution_count": 1,
   "id": "4dd5d89c",
   "metadata": {},
   "outputs": [],
   "source": [
    "import matplotlib.pyplot as plt\n",
    "import numpy as np\n",
    "import pandas as pd\n",
    "\n",
    "import io\n",
    "import os\n",
    "import re\n",
    "import string\n",
    "import shutil\n",
    "from tqdm.notebook  import tqdm\n",
    "import pickle\n",
    "from IPython.display import clear_output\n",
    "from datetime import datetime\n",
    "\n",
    "import tensorflow as tf\n",
    "from tensorflow.keras.layers import Dense, Embedding, GlobalAveragePooling1D, Lambda, BatchNormalization\n",
    "from tensorflow.keras.layers import TextVectorization\n",
    "\n",
    "import keras.backend as K\n",
    "from keras.models import Sequential\n",
    "from keras.preprocessing import text, sequence\n",
    "from keras.utils import np_utils\n",
    "\n",
    "gpu = tf.config.experimental.list_physical_devices('GPU')\n",
    "tf.config.experimental.set_memory_growth(gpu[0], True)\n",
    "\n",
    "\n",
    "%load_ext tensorboard\n",
    "SEED = 42\n",
    "AUTOTUNE = tf.data.AUTOTUNE"
   ]
  },
  {
   "cell_type": "code",
   "execution_count": 40,
   "id": "7cc2a11f",
   "metadata": {
    "tags": []
   },
   "outputs": [],
   "source": [
    "def clean(doc):\n",
    "    r_string = set(doc) - set(['A', 'B', 'C', 'D', 'E', 'F', 'G', \n",
    "                                    'H', 'I', 'J', 'K', 'L', 'M', 'N', 'O', \n",
    "                                    'P', 'Q', 'R', 'S', 'T', 'U', 'V', 'W', 'X', 'Y', 'Z',\n",
    "                                    'a', 'b', 'c', 'd', 'e', 'f', 'g', 'h', 'i', \n",
    "                                    'j', 'k', 'l', 'm', 'n', 'o', 'p', 'q', 'r', \n",
    "                                    's', 't', 'u', 'v', 'w', 'x', 'y', 'z', ' ',\n",
    "                                      '1','2','3','4','5','6','7','8','9', '0','Á', 'Å', 'Æ', 'É',\n",
    "                                  'Í', 'Î', 'Ö', '×', 'Ø', 'Ú', 'Ü', 'Þ', 'à', 'á', 'â', 'ã', 'ä', 'å', \n",
    "                                  'ç', 'è', 'é', 'ê', 'ë', 'ì', 'í', 'î', 'ñ', 'ò', 'ó', 'ô', 'ö', 'ø', 'ú',\n",
    "                                  'û', 'ü', 'Ā', 'ā', 'ă', 'ć', 'č', 'Đ', 'đ', 'ė', 'ī', 'Ł', 'ł', 'ń', 'Ō', 'ō',\n",
    "                                  'ś', 'ş', 'š', 'ū', 'ų', 'Ż',\n",
    "                                  'ž', 'ơ', 'ư',\n",
    "                                  'ḥ', 'ṃ', 'ṅ', 'ṣ', 'ṭ', 'ṯ', 'ả', 'ấ', 'ầ', 'ắ', 'ễ', 'ệ', 'ị', 'ớ', 'ử', 'ỳ','½','.',\n",
    "                            \n",
    "                                 ])\n",
    "    r_list = sorted(list(r_string))\n",
    "    print('Removed  --' + ''.join(r_list) +  '\\n')\n",
    "    document_ = doc\n",
    "\n",
    "    for r in r_list:\n",
    "        document_ =  document_.replace(r,\"\")\n",
    "\n",
    "    return document_\n"
   ]
  },
  {
   "cell_type": "code",
   "execution_count": 50,
   "id": "a962924a",
   "metadata": {},
   "outputs": [
    {
     "name": "stdout",
     "output_type": "stream",
     "text": [
      "Removed  --\n",
      "!\"#$%&'()*+,-/:;<=>?@[\\]^`|~¡£¥§°±²³µ·ʻʿ̃αβγκμСавекостяاحصلنه्กงณตมยรลัาิ่์გდვზიკორსუცძწხჯ჻‑–—‘’“”„†…′″⁄₤€₹⅓⅔→−≤☉♭♯〈〉のァアキスットプュリルヴ・動場大戦攻機殻火礮空隊﻿～\n",
      "\n"
     ]
    }
   ],
   "source": [
    "corpus = tf.io.read_file('./wiki.train.tokens')\n",
    "corpus =tf.strings.lower(corpus)\n",
    "corpus = corpus.numpy()\n",
    "corpus = corpus.decode('utf-8')\n",
    "corpus = clean(corpus)\n",
    "one_doc = [corpus]\n",
    "corpus =  corpus.split('.')\n",
    "corpus = [line for line in corpus if line is not ' ']"
   ]
  },
  {
   "cell_type": "code",
   "execution_count": 59,
   "id": "2932de11",
   "metadata": {},
   "outputs": [
    {
     "name": "stdout",
     "output_type": "stream",
     "text": [
      "10347718\n"
     ]
    },
    {
     "data": {
      "text/plain": [
       "'   valkyria chronicles iii    senjō no valkyria 3  unk chronicles  japanese  3  lit . valkyria of th'"
      ]
     },
     "execution_count": 59,
     "metadata": {},
     "output_type": "execute_result"
    }
   ],
   "source": [
    "print(len(one_doc[0]))\n",
    "one_doc[0][:100]\n"
   ]
  },
  {
   "cell_type": "code",
   "execution_count": 4,
   "id": "ce0be8af",
   "metadata": {},
   "outputs": [
    {
     "name": "stdout",
     "output_type": "stream",
     "text": [
      "   valkyria chronicles iii    senjō no valkyria 3  unk chronicles  japanese  3  lit  \n",
      "\n",
      " valkyria of the battlefield 3   commonly referred to as valkyria chronicles iii outside japan  is a tactical role  playing video game developed by sega and media \n",
      "\n",
      "vision for the playstation portable  \n",
      "\n",
      " released in january 2011 in japan  it is the third game in the valkyria series  \n",
      "\n",
      " unk the same fusion of tactical and real  time gameplay as its predecessors  the story runs parallel to the first game and follows the  nameless   a penal military unit serving the nation of gallia during the second europan war who perform secret black operations and are pitted against the imperial unit  unk raven   \n",
      "\n",
      "  the game began development in 2010  carrying over a large portion of the work done on valkyria chronicles ii  \n",
      "\n",
      " while it retained the standard features of the series  it also underwent multiple adjustments  such as making the game more unk for series newcomers  \n",
      "\n",
      " character designer unk honjou and composer hitoshi sakimoto both returned from previous entries  along with valkyria chronicles ii director takeshi ozawa  \n",
      "\n",
      " a large team of writers handled the script  \n",
      "\n",
      " the game s opening theme was sung by may n  \n",
      "\n"
     ]
    }
   ],
   "source": [
    "for i in range(10):\n",
    "    print(corpus[i] , '\\n')"
   ]
  },
  {
   "cell_type": "code",
   "execution_count": 5,
   "id": "3e0a22c7",
   "metadata": {},
   "outputs": [],
   "source": [
    "path = \"./corpus\" +'_file.pkl'\n",
    "with open(path, 'wb') as files:\n",
    "    pickle.dump(corpus, files)"
   ]
  },
  {
   "cell_type": "code",
   "execution_count": 4,
   "id": "e2197402",
   "metadata": {},
   "outputs": [],
   "source": [
    "path = \"./corpus\" +'_file.pkl'\n",
    "with open(path, 'rb') as files:\n",
    "     corpus = pickle.load(files)\n",
    "        \n",
    "max_document_length =16\n",
    "\n",
    "max_document_length = 10347718\n",
    "\n",
    "tokenizer = text.Tokenizer()\n",
    "tokenizer.fit_on_texts(corpus)\n",
    "word2id = tokenizer.word_index\n",
    "word2id['PAD'] = 0\n",
    "\n",
    "id2word = {v:k for k, v in word2id.items()}\n",
    "wids = [[ word2id[w] for w in text.text_to_word_sequence(doc)] \n",
    "        for doc in corpus]\n",
    "\n",
    "\n",
    "# wids = sequence.pad_sequences(wids, maxlen=max_document_length)"
   ]
  }
 ],
 "metadata": {
  "interpreter": {
   "hash": "d5c6d510e28c9b9013be6c2358d02dd554c357c981f1197507ba2aa8a3a7adb2"
  },
  "kernelspec": {
   "display_name": "Python3",
   "language": "python",
   "name": "python3"
  },
  "language_info": {
   "codemirror_mode": {
    "name": "ipython",
    "version": 3
   },
   "file_extension": ".py",
   "mimetype": "text/x-python",
   "name": "python",
   "nbconvert_exporter": "python",
   "pygments_lexer": "ipython3",
   "version": "3.7.10"
  }
 },
 "nbformat": 4,
 "nbformat_minor": 5
}
