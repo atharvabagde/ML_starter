{
 "cells": [
  {
   "cell_type": "markdown",
   "metadata": {},
   "source": [
    "\n",
    "\n",
    "### Assignment 2 - Linear Regression"
   ]
  },
  {
   "cell_type": "markdown",
   "metadata": {},
   "source": [
    "\n",
    "#### Problem Statement :\n",
    "\n",
    "Using numpy, Implement Linear regression using gradient descent\n",
    "\n",
    "(You can’t use scikit-learn)\n",
    "\n",
    "Scoring Points -\n",
    "\n",
    "Explain what a cost function is.\n",
    "\n",
    "understanding of derivatives.\n",
    "\n",
    "Should be able to explain the effects of having different learning rates."
   ]
  },
  {
   "cell_type": "code",
   "execution_count": 29,
   "metadata": {},
   "outputs": [],
   "source": [
    "import numpy as np\n",
    "import pandas as pd\n",
    "import matplotlib.pyplot as plt\n",
    "import random\n",
    "import matplotlib\n",
    "\n",
    "font = {'family' : 'normal',\n",
    "        'weight' : 'bold',\n",
    "        'size'   : 20}\n",
    "\n",
    "matplotlib.rc('font', **font)"
   ]
  },
  {
   "cell_type": "code",
   "execution_count": 30,
   "metadata": {},
   "outputs": [
    {
     "data": {
      "text/html": [
       "<div>\n",
       "<style scoped>\n",
       "    .dataframe tbody tr th:only-of-type {\n",
       "        vertical-align: middle;\n",
       "    }\n",
       "\n",
       "    .dataframe tbody tr th {\n",
       "        vertical-align: top;\n",
       "    }\n",
       "\n",
       "    .dataframe thead th {\n",
       "        text-align: right;\n",
       "    }\n",
       "</style>\n",
       "<table border=\"1\" class=\"dataframe\">\n",
       "  <thead>\n",
       "    <tr style=\"text-align: right;\">\n",
       "      <th></th>\n",
       "      <th>32.502345269453031</th>\n",
       "      <th>31.70700584656992</th>\n",
       "    </tr>\n",
       "  </thead>\n",
       "  <tbody>\n",
       "    <tr>\n",
       "      <th>0</th>\n",
       "      <td>53.426804</td>\n",
       "      <td>68.777596</td>\n",
       "    </tr>\n",
       "    <tr>\n",
       "      <th>1</th>\n",
       "      <td>61.530358</td>\n",
       "      <td>62.562382</td>\n",
       "    </tr>\n",
       "    <tr>\n",
       "      <th>2</th>\n",
       "      <td>47.475640</td>\n",
       "      <td>71.546632</td>\n",
       "    </tr>\n",
       "    <tr>\n",
       "      <th>3</th>\n",
       "      <td>59.813208</td>\n",
       "      <td>87.230925</td>\n",
       "    </tr>\n",
       "    <tr>\n",
       "      <th>4</th>\n",
       "      <td>55.142188</td>\n",
       "      <td>78.211518</td>\n",
       "    </tr>\n",
       "  </tbody>\n",
       "</table>\n",
       "</div>"
      ],
      "text/plain": [
       "   32.502345269453031  31.70700584656992\n",
       "0           53.426804          68.777596\n",
       "1           61.530358          62.562382\n",
       "2           47.475640          71.546632\n",
       "3           59.813208          87.230925\n",
       "4           55.142188          78.211518"
      ]
     },
     "execution_count": 30,
     "metadata": {},
     "output_type": "execute_result"
    }
   ],
   "source": [
    "df = pd.read_csv('data.csv')\n",
    "df.head()"
   ]
  },
  {
   "cell_type": "code",
   "execution_count": 31,
   "metadata": {},
   "outputs": [
    {
     "name": "stdout",
     "output_type": "stream",
     "text": [
      "<class 'pandas.core.frame.DataFrame'>\n",
      "RangeIndex: 99 entries, 0 to 98\n",
      "Data columns (total 2 columns):\n",
      "32.502345269453031    99 non-null float64\n",
      "31.70700584656992     99 non-null float64\n",
      "dtypes: float64(2)\n",
      "memory usage: 1.6 KB\n"
     ]
    }
   ],
   "source": [
    "df.info()"
   ]
  },
  {
   "cell_type": "code",
   "execution_count": 32,
   "metadata": {},
   "outputs": [
    {
     "data": {
      "text/plain": [
       "(100, 2)"
      ]
     },
     "execution_count": 32,
     "metadata": {},
     "output_type": "execute_result"
    }
   ],
   "source": [
    "data = np.loadtxt('data.csv', delimiter =',')\n",
    "data.shape"
   ]
  },
  {
   "cell_type": "code",
   "execution_count": 33,
   "metadata": {},
   "outputs": [
    {
     "name": "stdout",
     "output_type": "stream",
     "text": [
      "[ 70.34607562 118.5912173 ]\n",
      "[25.12848465 31.70700585]\n"
     ]
    }
   ],
   "source": [
    "max = data.max(axis = 0)\n",
    "min = data.min(axis = 0) \n",
    "data = (data - min)/ (max - min)\n",
    "print(max)\n",
    "print(min)"
   ]
  },
  {
   "cell_type": "code",
   "execution_count": 34,
   "metadata": {},
   "outputs": [],
   "source": [
    "def data_split(data, test_size_, seed_ = 3):\n",
    "\n",
    "    sequence = [i for i in range(data.shape[0])]\n",
    "    random.seed(seed_)\n",
    "    random.shuffle(sequence)\n",
    "    test_sequence = sequence[:test_size_]\n",
    "    train_sequence = sequence[test_size_:]\n",
    "\n",
    "    train_x = data[train_sequence,0]\n",
    "    train_y = data[train_sequence,1]\n",
    "    test_x = data[test_sequence,0]\n",
    "    test_y = data[test_sequence,1]\n",
    "\n",
    "    figure, axis = plt.subplots(1, 2, figsize=(20, 8), dpi=80)\n",
    "\n",
    "    axis[0].scatter(train_x, train_y, c= 'r', label ='Train_split')\n",
    "    axis[0].scatter(test_x, test_y, c= 'b', label ='Test_split')\n",
    "    axis[0].set_title('Split Data')\n",
    "    axis[0].legend()\n",
    "\n",
    "\n",
    "    axis[1].scatter(data[:,0], data[:,1], label ='Real')\n",
    "    axis[1].set_title('Actutal data')\n",
    "    axis[1].legend()\n",
    "\n",
    "    plt.show()\n",
    "    \n",
    "    train_x = np.concatenate(\n",
    "    (train_x[:,np.newaxis], np.ones((train_x.shape[0],1))) \n",
    "    , axis = 1)\n",
    "    \n",
    "    test_x = np.concatenate(\n",
    "    (test_x[:,np.newaxis], np.ones((test_x.shape[0],1))) \n",
    "    , axis = 1)\n",
    "    \n",
    "    return train_x, train_y[:,np.newaxis], test_x, test_y[:,np.newaxis]\n",
    "    \n",
    "    "
   ]
  }
 ],
 "metadata": {
  "kernelspec": {
   "display_name": "Python3",
   "language": "python",
   "name": "python3"
  },
  "language_info": {
   "codemirror_mode": {
    "name": "ipython",
    "version": 3
   },
   "file_extension": ".py",
   "mimetype": "text/x-python",
   "name": "python",
   "nbconvert_exporter": "python",
   "pygments_lexer": "ipython3",
   "version": "3.7.10"
  }
 },
 "nbformat": 4,
 "nbformat_minor": 4
}
