{
 "cells": [
  {
   "cell_type": "markdown",
   "metadata": {},
   "source": [
    "\n",
    "\n",
    "### Assignment 2 - Linear Regression"
   ]
  },
  {
   "cell_type": "markdown",
   "metadata": {},
   "source": [
    "\n",
    "#### Problem Statement :\n",
    "\n",
    "Using numpy, Implement Linear regression using gradient descent\n",
    "\n",
    "(You can’t use scikit-learn)\n",
    "\n",
    "Scoring Points -\n",
    "\n",
    "Explain what a cost function is.\n",
    "\n",
    "understanding of derivatives.\n",
    "\n",
    "Should be able to explain the effects of having different learning rates."
   ]
  },
  {
   "cell_type": "code",
   "execution_count": 29,
   "metadata": {},
   "outputs": [],
   "source": [
    "import numpy as np\n",
    "import pandas as pd\n",
    "import matplotlib.pyplot as plt\n",
    "import random\n",
    "import matplotlib\n",
    "\n",
    "font = {'family' : 'normal',\n",
    "        'weight' : 'bold',\n",
    "        'size'   : 20}\n",
    "\n",
    "matplotlib.rc('font', **font)"
   ]
  },
  {
   "cell_type": "code",
   "execution_count": 30,
   "metadata": {},
   "outputs": [
    {
     "data": {
      "text/html": [
       "<div>\n",
       "<style scoped>\n",
       "    .dataframe tbody tr th:only-of-type {\n",
       "        vertical-align: middle;\n",
       "    }\n",
       "\n",
       "    .dataframe tbody tr th {\n",
       "        vertical-align: top;\n",
       "    }\n",
       "\n",
       "    .dataframe thead th {\n",
       "        text-align: right;\n",
       "    }\n",
       "</style>\n",
       "<table border=\"1\" class=\"dataframe\">\n",
       "  <thead>\n",
       "    <tr style=\"text-align: right;\">\n",
       "      <th></th>\n",
       "      <th>32.502345269453031</th>\n",
       "      <th>31.70700584656992</th>\n",
       "    </tr>\n",
       "  </thead>\n",
       "  <tbody>\n",
       "    <tr>\n",
       "      <th>0</th>\n",
       "      <td>53.426804</td>\n",
       "      <td>68.777596</td>\n",
       "    </tr>\n",
       "    <tr>\n",
       "      <th>1</th>\n",
       "      <td>61.530358</td>\n",
       "      <td>62.562382</td>\n",
       "    </tr>\n",
       "    <tr>\n",
       "      <th>2</th>\n",
       "      <td>47.475640</td>\n",
       "      <td>71.546632</td>\n",
       "    </tr>\n",
       "    <tr>\n",
       "      <th>3</th>\n",
       "      <td>59.813208</td>\n",
       "      <td>87.230925</td>\n",
       "    </tr>\n",
       "    <tr>\n",
       "      <th>4</th>\n",
       "      <td>55.142188</td>\n",
       "      <td>78.211518</td>\n",
       "    </tr>\n",
       "  </tbody>\n",
       "</table>\n",
       "</div>"
      ],
      "text/plain": [
       "   32.502345269453031  31.70700584656992\n",
       "0           53.426804          68.777596\n",
       "1           61.530358          62.562382\n",
       "2           47.475640          71.546632\n",
       "3           59.813208          87.230925\n",
       "4           55.142188          78.211518"
      ]
     },
     "execution_count": 30,
     "metadata": {},
     "output_type": "execute_result"
    }
   ],
   "source": [
    "df = pd.read_csv('data.csv')\n",
    "df.head()"
   ]
  },
  {
   "cell_type": "code",
   "execution_count": 31,
   "metadata": {},
   "outputs": [
    {
     "name": "stdout",
     "output_type": "stream",
     "text": [
      "<class 'pandas.core.frame.DataFrame'>\n",
      "RangeIndex: 99 entries, 0 to 98\n",
      "Data columns (total 2 columns):\n",
      "32.502345269453031    99 non-null float64\n",
      "31.70700584656992     99 non-null float64\n",
      "dtypes: float64(2)\n",
      "memory usage: 1.6 KB\n"
     ]
    }
   ],
   "source": [
    "df.info()"
   ]
  },
  {
   "cell_type": "code",
   "execution_count": 32,
   "metadata": {},
   "outputs": [
    {
     "data": {
      "text/plain": [
       "(100, 2)"
      ]
     },
     "execution_count": 32,
     "metadata": {},
     "output_type": "execute_result"
    }
   ],
   "source": [
    "data = np.loadtxt('data.csv', delimiter =',')\n",
    "data.shape"
   ]
  },
  {
   "cell_type": "code",
   "execution_count": 33,
   "metadata": {},
   "outputs": [
    {
     "name": "stdout",
     "output_type": "stream",
     "text": [
      "[ 70.34607562 118.5912173 ]\n",
      "[25.12848465 31.70700585]\n"
     ]
    }
   ],
   "source": [
    "max = data.max(axis = 0)\n",
    "min = data.min(axis = 0) \n",
    "data = (data - min)/ (max - min)\n",
    "print(max)\n",
    "print(min)"
   ]
  },
  {
   "cell_type": "code",
   "execution_count": 34,
   "metadata": {},
   "outputs": [],
   "source": [
    "def data_split(data, test_size_, seed_ = 3):\n",
    "\n",
    "    sequence = [i for i in range(data.shape[0])]\n",
    "    random.seed(seed_)\n",
    "    random.shuffle(sequence)\n",
    "    test_sequence = sequence[:test_size_]\n",
    "    train_sequence = sequence[test_size_:]\n",
    "\n",
    "    train_x = data[train_sequence,0]\n",
    "    train_y = data[train_sequence,1]\n",
    "    test_x = data[test_sequence,0]\n",
    "    test_y = data[test_sequence,1]\n",
    "\n",
    "    figure, axis = plt.subplots(1, 2, figsize=(20, 8), dpi=80)\n",
    "\n",
    "    axis[0].scatter(train_x, train_y, c= 'r', label ='Train_split')\n",
    "    axis[0].scatter(test_x, test_y, c= 'b', label ='Test_split')\n",
    "    axis[0].set_title('Split Data')\n",
    "    axis[0].legend()\n",
    "\n",
    "\n",
    "    axis[1].scatter(data[:,0], data[:,1], label ='Real')\n",
    "    axis[1].set_title('Actutal data')\n",
    "    axis[1].legend()\n",
    "\n",
    "    plt.show()\n",
    "    \n",
    "    train_x = np.concatenate(\n",
    "    (train_x[:,np.newaxis], np.ones((train_x.shape[0],1))) \n",
    "    , axis = 1)\n",
    "    \n",
    "    test_x = np.concatenate(\n",
    "    (test_x[:,np.newaxis], np.ones((test_x.shape[0],1))) \n",
    "    , axis = 1)\n",
    "    \n",
    "    return train_x, train_y[:,np.newaxis], test_x, test_y[:,np.newaxis]\n",
    "    \n",
    "    "
   ]
  },
  {
   "cell_type": "code",
   "execution_count": 35,
   "metadata": {},
   "outputs": [
    {
     "data": {
      "image/png": "[encoded data removed]",
      "text/plain": [
       "<Figure size 1600x640 with 2 Axes>"
      ]
     },
     "metadata": {
      "needs_background": "light"
     },
     "output_type": "display_data"
    }
   ],
   "source": [
    "train_x, train_y, test_x, test_y = data_split(data, test_size_ = int( 0.2*data.shape[0]), seed_ = 21)"
   ]
  },
  {
   "cell_type": "code",
   "execution_count": 36,
   "metadata": {},
   "outputs": [
    {
     "name": "stdout",
     "output_type": "stream",
     "text": [
      "(80, 2)\n",
      "(80, 1)\n",
      "(20, 2)\n",
      "(20, 2)\n"
     ]
    }
   ],
   "source": [
    "print(train_x.shape)\n",
    "print(train_y.shape)\n",
    "print(test_x.shape)\n",
    "print(test_x.shape)"
   ]
  },
  {
   "cell_type": "code",
   "execution_count": 37,
   "metadata": {},
   "outputs": [],
   "source": [
    "def compute_forward_pass(X,W):\n",
    "    h = np.dot(X , W.T)\n",
    "    return h\n",
    "\n",
    "def compute_cost(h,y):\n",
    "    m = y.shape[0]\n",
    "    error = float(np.sum(\n",
    "        (y - h)**2,\n",
    "        axis = 0\n",
    "    ).ravel())\n",
    "    return (1/(2*m))*error"
   ]
  },
  {
   "cell_type": "markdown",
   "metadata": {},
   "source": [
    "## Explain Cost Function - \n",
    "\n",
    "This is the cost function which lets us figure out how to fit the best straight line in out data. Cost function helps to measure the performance of a ML model for the given data. It calculates the difference between the predicted values and the expected values and gives a single real number as the output.\n",
    "\n",
    "#### \"compute_forward_pass\"  function - \n",
    "We first calculate the a function known as hypothesis function which is the output of the regression alogorithm. The compute_forward_pass outputs this hypothesis.\n",
    "\n",
    "We represent hypothesis as, \n",
    "    h(x) = b + wx = x*w + 1*b  = [1, x] * [b, w].T = np.dot(X, W.T) \n",
    "    \n",
    "where\n",
    "    \n",
    "    w = the coefficient parameter or weight of the linear model.\n",
    "    b = the constant or bias\n",
    "    x = input variable/ parameter \n",
    "    h = hypothesis = the estimate value of target calculated by regression model.\n",
    "    X = input matrix ( bias concatenated with feature vector )\n",
    "    y = output vector ( \"target\" variables )\n",
    "\n",
    "Therefore, this function takes some input x variable, then uses the parameter determined by a regression model and finally outputs a prediction vector based on that input also know as hypothesis (h) and returns its value\n",
    "    \n",
    "#### \"compute_cost\" function - \n",
    "\n",
    "Mean square Error loss Function is implemented as cost function which can be written as :\n",
    "\n",
    "J = (1/(2*m)) * (summation (h(x_i) - y_i)**2)\n",
    "\n",
    "h(x_i) = b + w*x_i\n",
    "\n",
    "where, \n",
    "\n",
    "    J = cost functiuon\n",
    "    x_i = ith input training example\n",
    "    y_i = ith target training example\n",
    "    h = hypothesis function\n",
    "    b= bias\n",
    "    w = parameter /weight\n",
    "    m = number of training examples\n",
    "    \n",
    "    * Here we want to solve the minimization problem.\n",
    "    * Minimize (h(x_i) - y_i)**2  - We have to minimize the difference between h(x) and y for each example.\n",
    "    * Then sum this over the training set.\n",
    "    * Dividing by 1/2m helps to determines the average score.\n",
    "    * Therefore, we want to determine values of w and b which make the hypothesis as accurate as possible\n"
   ]
  },
  {
   "cell_type": "code",
   "execution_count": 38,
   "metadata": {},
   "outputs": [],
   "source": [
    "def init_weight(a, b):\n",
    "    return np.ones((a,b))\n",
    "\n",
    "def compute_grad(X,h,y):\n",
    "    m = y.shape[0]\n",
    "    dW = np.transpose((np.dot(X.T, (h - y))) *(1/m))\n",
    "    return dW\n",
    "\n",
    "def update_grad(w,dw, lr):\n",
    "    return w - lr*dw\n",
    "\n",
    "def train_model( lr, n_epochs = 200):\n",
    "    train_loss = []\n",
    "    val_loss = []\n",
    "    callback_count = 10\n",
    "    w = init_weight(1,2) \n",
    "    for epoch in range(n_epochs):\n",
    "        h = compute_forward_pass(train_x, w)\n",
    "        j_train = compute_cost(h, train_y)\n",
    "        train_loss.append(j_train)\n",
    "\n",
    "        h_val = compute_forward_pass(test_x, w)\n",
    "        j_val = compute_cost(h_val, test_y)\n",
    "        val_loss.append(j_val)\n",
    "        \n",
    "        \n",
    "        dw = compute_grad(train_x, h, train_y)\n",
    "        w = update_grad(w,dw, lr)\n",
    "        \n",
    "        if(j_val > j_train):\n",
    "            callback_count -= 1\n",
    "            if(callback_count == -1):\n",
    "                print(\"Learning Rate: {l} Epoch needed : {e}  Training Loss: {tl}  Validation Loss:{vl} \".format(l = lr,e = epoch + 1, tl = j_train, vl = j_val))\n",
    "    return (train_loss, val_loss), w"
   ]
  }
 ],
 "metadata": {
  "kernelspec": {
   "display_name": "Python3",
   "language": "python",
   "name": "python3"
  },
  "language_info": {
   "codemirror_mode": {
    "name": "ipython",
    "version": 3
   },
   "file_extension": ".py",
   "mimetype": "text/x-python",
   "name": "python",
   "nbconvert_exporter": "python",
   "pygments_lexer": "ipython3",
   "version": "3.7.10"
  }
 },
 "nbformat": 4,
 "nbformat_minor": 4
}
