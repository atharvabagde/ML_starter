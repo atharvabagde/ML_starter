{
 "cells": [
  {
   "cell_type": "markdown",
   "metadata": {
    "id": "CiY9qj9Jp2Hd"
   },
   "source": [
    "\n",
    "\n",
    "##  Neural Network From Scratch\n",
    "\n",
    "Build a two-layer neural network from scratch In python.\n",
    "\n",
    "Description : To gain a better understanding of Deep Learning, build a Neural\n",
    "Network from scratch using only python, without a deep learning library like\n",
    "TensorFlow. Understanding the inner workings of a Neural Network is important to\n",
    "a ML Engineer.\n",
    "\n",
    "http://yann.lecun.com/exdb/mnist/"
   ]
  },
  {
   "cell_type": "code",
   "execution_count": null,
   "metadata": {
    "id": "2iKsn7qfsLVp"
   },
   "outputs": [],
   "source": [
    "import gzip\n",
    "import numpy as np\n",
    "import matplotlib.pyplot as plt\n",
    "from sklearn.preprocessing import OneHotEncoder\n",
    "from sklearn.metrics import accuracy_score\n",
    "from math import sqrt\n",
    "import os\n",
    "from sklearn import metrics\n",
    "import seaborn\n",
    "from sklearn.model_selection import StratifiedKFold\n",
    "from sklearn.utils import shuffle"
   ]
  },
  {
   "cell_type": "code",
   "execution_count": null,
   "metadata": {
    "id": "4VcvrOV8ygOZ"
   },
   "outputs": [],
   "source": [
    "class MNIST_data():\n",
    "\n",
    "  def read_images(self, address, num_images ): \n",
    "    _im_size = 28\n",
    "    f = gzip.open(address, 'r')\n",
    "    f.read(16)\n",
    "    buffer = f.read(_im_size * _im_size * num_images)\n",
    "    data = np.frombuffer(buffer, dtype = np.uint8).astype(np.float32)\n",
    "    data = data.reshape(num_images,_im_size, _im_size)\n",
    "\n",
    "    return data/256.0\n",
    "\n",
    "  def read_labels(self, address, num_images): \n",
    "    f = gzip.open(address, 'r')\n",
    "    f.read(8)\n",
    "    buffer = f.read(num_images)\n",
    "    labels = np.frombuffer(buffer, dtype = np.uint8).astype(np.int64)\n",
    "    \n",
    "    return labels\n",
    "\n",
    "  def read_data(self):\n",
    "\n",
    "    X_test = self.read_images('t10k-images-idx3-ubyte.gz', 10000 ) \n",
    "    y_test = self.read_labels('t10k-labels-idx1-ubyte.gz', 10000 )    \n",
    "    X_train = self.read_images('train-images-idx3-ubyte.gz', 60000) \n",
    "    y_train = self.read_labels('train-labels-idx1-ubyte.gz', 60000)\n",
    "\n",
    "    print(\"X_test -> \",X_test.shape, X_test.dtype)\n",
    "    print(\"y_test -> \",y_test.shape, y_test.dtype)\n",
    "    print(\"X_train -> \",X_train.shape, X_train.dtype)\n",
    "    print(\"y_train -> \", y_train.shape, y_train.dtype)\n",
    "\n",
    "    self.show_images(X_train, y_train, \"Train\")\n",
    "    self.show_images(X_test, y_test, \"Test\")\n",
    "\n",
    "    return X_train, y_train, X_test, y_test\n",
    "\n",
    "  def show_images(self,X, y, title):\n",
    "    _ , axes = plt.subplots(2,10,figsize=(15,3), dpi = 80)\n",
    "    \n",
    "    p = 0\n",
    "    arr = np.arange(X.shape[0])\n",
    "    loc = np.random.choice(arr,size = 20, replace=False)\n",
    "\n",
    "    for i in range(2):\n",
    "      for j in range(10):\n",
    "        axes[i,j].imshow(X[loc[p]])\n",
    "        axes[i,j].set_title(\"{} ({}) \".format(y[loc[p]], title) ,fontsize = 12)\n",
    "        axes[i,j].set_xticks([])\n",
    "        axes[i,j].set_yticks([])\n",
    "        p +=1\n",
    "    plt.plot()\n",
    "\n",
    "\n",
    "def reshape_data(X_train, y_train, X_test, y_test ):\n",
    "  X_train = X_train.reshape(-1, 28*28)\n",
    "  X_test = X_test.reshape(-1, 28*28)\n",
    "\n",
    "  y_train = OneHotEncoder().fit_transform(y_train[:,np.newaxis]).toarray()\n",
    "  y_test = OneHotEncoder().fit_transform(y_test[:,np.newaxis]).toarray()\n",
    "\n",
    "  print(X_train.shape)\n",
    "  print(y_train.shape)\n",
    "  print(X_test.shape)\n",
    "  print(y_test.shape)\n",
    "\n",
    "  return X_train, y_train, X_test, y_test \n",
    "\n",
    "def plot_summary(loss, lr, str_ = \"Loss\"):\n",
    "  train_loss = loss[0]\n",
    "  val_loss = loss[1]\n",
    "  figure, axis = plt.subplots(1,1, figsize=(12,6 ), dpi=80)\n",
    "  axis.plot(train_loss, c= 'b', label ='Training_' + str_)\n",
    "  axis.plot(val_loss, c= 'r', label ='Validation_' + str_)\n",
    "  axis.set_title(str_ + '_ plot for Learning rate = {}'.format(lr))\n",
    "  axis.set_xlabel('Epoch')\n",
    "  axis.set_ylabel(str_ )\n",
    "  axis.legend()\n",
    "  plt.show()"
   ]
  }
 ],
 "metadata": {
  "colab": {
   "authorship_tag": "ABX9TyPUHuxF0YCS+HxfG/wsco1n",
   "collapsed_sections": [],
   "name": "Assignment 4.ipynb",
   "provenance": []
  },
  "kernelspec": {
   "display_name": "Python3",
   "language": "python",
   "name": "python3"
  },
  "language_info": {
   "codemirror_mode": {
    "name": "ipython",
    "version": 3
   },
   "file_extension": ".py",
   "mimetype": "text/x-python",
   "name": "python",
   "nbconvert_exporter": "python",
   "pygments_lexer": "ipython3",
   "version": "3.7.10"
  }
 },
 "nbformat": 4,
 "nbformat_minor": 4
}
