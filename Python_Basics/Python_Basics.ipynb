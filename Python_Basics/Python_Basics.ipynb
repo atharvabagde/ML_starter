{
 "cells": [
  {
   "cell_type": "markdown",
   "metadata": {
    "id": "ctBYg8I9wgHa"
   },
   "source": [
    " Question 1: Given a list of tuples, find the number of occurrences of each tuple in the list."
   ]
  },
  {
   "cell_type": "code",
   "execution_count": null,
   "metadata": {
    "colab": {
     "base_uri": "https://localhost:8080/"
    },
    "executionInfo": {
     "elapsed": 1684,
     "status": "ok",
     "timestamp": 1629820324853,
     "user": {
      "displayName": "Shubham Pandey",
      "photoUrl": "",
      "userId": "11107096691217343757"
     },
     "user_tz": -330
    },
    "id": "6LpBQKd0MNYL",
    "outputId": "ec43101f-a377-48b7-b210-f437121b18c6"
   },
   "outputs": [
    {
     "name": "stdout",
     "output_type": "stream",
     "text": [
      "Total number of items = 38\n",
      "Total frequency count = 38\n",
      "defaultdict(<class 'int'>, {('a', 'alex'): 5, ('b', 'fred'): 3, ('c', 'Ted'): 5, ('d', 'Red'): 4, ('p', 'Grey'): 6, ('e', 'Frank'): 3, ('i', 'Moon'): 4, ('t', 'Tim'): 3, ('g', 'mandy'): 5})\n"
     ]
    }
   ],
   "source": [
    "\n",
    "Input = [\n",
    "          ('a', 'alex'),\n",
    "          ('b', 'fred'),\n",
    "          ('c', 'Ted'),\n",
    "          ('d', 'Red'),\n",
    "          ('p', 'Grey'),\n",
    "          ('a', 'alex'),\n",
    "          ('e', 'Frank'),\n",
    "          ('d', 'Red'),\n",
    "          ('i', 'Moon'),\n",
    "          ('t', 'Tim'),\n",
    "          ('b', 'fred'),\n",
    "          ('c', 'Ted'),\n",
    "          ('g', 'mandy'),\n",
    "          ('a', 'alex'),\n",
    "          ('p', 'Grey'),\n",
    "          ('c', 'Ted'),\n",
    "          ('e', 'Frank'),\n",
    "          ('d', 'Red'),\n",
    "          ('a', 'alex'),\n",
    "          ('p', 'Grey'),\n",
    "          ('t', 'Tim'),\n",
    "          ('g', 'mandy'),\n",
    "          ('c', 'Ted'),\n",
    "          ('i', 'Moon'),\n",
    "          ('b', 'fred'),\n",
    "          ('a', 'alex'),\n",
    "          ('i', 'Moon'),\n",
    "          ('p', 'Grey'),\n",
    "          ('d', 'Red'),\n",
    "          ('g', 'mandy'),\n",
    "          ('c', 'Ted'),\n",
    "          ('p', 'Grey'),\n",
    "          ('e', 'Frank'),\n",
    "          ('t', 'Tim'),\n",
    "          ('g', 'mandy'),\n",
    "          ('p', 'Grey'),\n",
    "          ('g', 'mandy'),\n",
    "          ('i', 'Moon')\n",
    "]\n",
    "\n",
    "def occurence_count(Input):  \n",
    "  import collections\n",
    "  frequency = collections.defaultdict(int)\n",
    "\n",
    "  for item in Input:\n",
    "    frequency[item] += 1\n",
    "  \n",
    "  print(\"Total number of items = \" + str(len(Input)))\n",
    "  print(\"Total frequency count = \" + str(sum([frequency[i] for i in frequency])))\n",
    "\n",
    "  return frequency\n",
    "\n",
    "print(occurence_count(Input))"
   ]
  },
  {
   "cell_type": "markdown",
   "metadata": {
    "id": "qvSCYNjZwmTC"
   },
   "source": [
    "Question 2: Create a list of 10 random numbers between 1-100. Create a balanced BST (Binary search tree) from this array\n"
   ]
  },
  {
   "cell_type": "code",
   "execution_count": null,
   "metadata": {
    "colab": {
     "base_uri": "https://localhost:8080/"
    },
    "executionInfo": {
     "elapsed": 3,
     "status": "ok",
     "timestamp": 1629820326365,
     "user": {
      "displayName": "Shubham Pandey",
      "photoUrl": "",
      "userId": "11107096691217343757"
     },
     "user_tz": -330
    },
    "id": "FPqAogws9bQ3",
    "outputId": "d734f467-44c4-4721-e785-6cda44ce9cb6"
   },
   "outputs": [
    {
     "name": "stdout",
     "output_type": "stream",
     "text": [
      "[59, 75, 68, 5, 32, 37, 86, 82, 27, 17]\n",
      "5\n",
      "17\n",
      "27\n",
      "32\n",
      "37\n",
      "59\n",
      "68\n",
      "75\n",
      "82\n",
      "86\n"
     ]
    }
   ],
   "source": [
    "\n",
    "import random\n",
    "\n",
    "def random_num_generator(n):\n",
    "  random.seed(40)\n",
    "  random_num_list = random.sample(range(1,101), n)\n",
    "  return random_num_list\n",
    "\n",
    "class Node:\n",
    "  def __init__(self, key):\n",
    "    self.left = None\n",
    "    self.right = None\n",
    "    self.node_value = key\n",
    "\n",
    "def insert_key(root, key):\n",
    "  if root == None :\n",
    "    root = Node(key)\n",
    "    return root\n",
    "\n",
    "  else:\n",
    "    if root.node_value == key:\n",
    "      return root\n",
    "\n",
    "    elif root.node_value > key :\n",
    "      root.left = insert_key(root.left, key)\n",
    "      return root\n",
    "\n",
    "    else :\n",
    "      root.right = insert_key(root.right, key)\n",
    "      return root\n",
    "\n",
    "def Build_BST(arr):\n",
    "  root = None\n",
    "  for i in arr:\n",
    "    root = insert_key(root,i)\n",
    "  return root\n",
    "\n",
    "def show_inorder(node):\n",
    "    if not node:\n",
    "      return\n",
    "    else:\n",
    "        show_inorder(node.left)\n",
    "        print(node.node_value)\n",
    "        show_inorder(node.right)\n",
    "\n",
    "input = random_num_generator(10)\n",
    "print(input)\n",
    "\n",
    "root_node = Build_BST(input)\n",
    "show_inorder(root_node)"
   ]
  },
  {
   "cell_type": "markdown",
   "metadata": {
    "id": "g5IijaqzwsO6"
   },
   "source": [
    " Question 3: Given the following dictionary:# \n"
   ]
  },
  {
   "cell_type": "code",
   "execution_count": null,
   "metadata": {
    "colab": {
     "base_uri": "https://localhost:8080/"
    },
    "executionInfo": {
     "elapsed": 5,
     "status": "ok",
     "timestamp": 1629820329427,
     "user": {
      "displayName": "Shubham Pandey",
      "photoUrl": "",
      "userId": "11107096691217343757"
     },
     "user_tz": -330
    },
    "id": "FK_PM3nkCovw",
    "outputId": "9a573358-9aa6-4a76-a953-545ca6fcf317"
   },
   "outputs": [],
   "source": [
    "\n",
    "\n",
    "# { ‘black :’r’,\n",
    "#   ‘hero’:‘e’,\n",
    "#   ‘go’:’g’,\n",
    "#   ‘clue’:’i’,\n",
    "#   ’mean’:’q’,\n",
    "#   ’groan’:’o’,\n",
    "#   ’sin’:’p’,\n",
    "#   ’pint’:’u’,\n",
    "#   ’tone’:’n’,\n",
    "#   ’graze’:’s’,\n",
    "#   ‘sea’:’t’,\n",
    "#   ‘plant’:’a’}\n",
    "# Create a list of all the keys of the dictionary, which can be formed from the values present in the dictionary.\n",
    "\n",
    "from itertools import combinations \n",
    "\n",
    "def join(ls):\n",
    "  str = \"\"\n",
    "  for i in ls:\n",
    "    str = str + i\n",
    "  return str\n",
    "\n",
    "dictionary = { 'black' :'r',\n",
    "  'hero':'e',\n",
    "  'go':'g',\n",
    "  'clue':'i',\n",
    "  'mean':'q',\n",
    "  'groan':'o',\n",
    "  'sin':'p',\n",
    "  'pint':'u',\n",
    "  'tone':'n',\n",
    "  'graze':'s',\n",
    "  'sea':'t',\n",
    "  'plant':'a'}\n",
    "\n",
    "m_set =set()\n",
    "\n",
    "for i in dictionary:\n",
    "  m_set.add(dictionary[i])\n",
    "\n",
    "LIST = []\n",
    "for i in range(1, len(m_set) + 1):\n",
    "  LIST +=   list(\n",
    "        map(\n",
    "            join, \n",
    "            combinations(m_set, i)\n",
    "            )\n",
    "        )\n",
    "print(len(m_set))\n",
    "print(len(LIST))\n",
    "print(2**len(m_set) - 1)\n",
    "LIST"
   ]
  },
  {
   "cell_type": "markdown",
   "metadata": {
    "id": "DSHbyTurxBfb"
   },
   "source": [
    " Question 4: Given the following list of tuples,\n",
    " a.    sort the list by 1st item in the tuple in ascending order\n",
    " b.    Sort the list by 2nd item in the tuple in ascending order\n",
    " c.     Repeat a, b using descending order"
   ]
  },
  {
   "cell_type": "code",
   "execution_count": null,
   "metadata": {
    "colab": {
     "base_uri": "https://localhost:8080/"
    },
    "executionInfo": {
     "elapsed": 3,
     "status": "ok",
     "timestamp": 1629820330824,
     "user": {
      "displayName": "Shubham Pandey",
      "photoUrl": "",
      "userId": "11107096691217343757"
     },
     "user_tz": -330
    },
    "id": "SESQ3wEzQkkf",
    "outputId": "30eeca56-1060-418f-ce5c-8f31fcc71027"
   },
   "outputs": [
    {
     "name": "stdout",
     "output_type": "stream",
     "text": [
      "[(1, 2), (2, 10), (4, 3), (6, 7), (9, 11), (12, 5), (15, 4)]\n",
      "[(1, 2), (4, 3), (15, 4), (12, 5), (6, 7), (2, 10), (9, 11)]\n",
      "[(15, 4), (12, 5), (9, 11), (6, 7), (4, 3), (2, 10), (1, 2)]\n",
      "[(9, 11), (2, 10), (6, 7), (12, 5), (15, 4), (4, 3), (1, 2)]\n"
     ]
    }
   ],
   "source": [
    "listA = [(1,2), (4,3), (2,10), (12, 5), (6, 7), (9,11), (15, 4)]\n",
    "\n",
    "def key_a(i):\n",
    "  return i[0]\n",
    "\n",
    "def key_b(i):\n",
    "  return i[1]\n",
    "\n",
    "a = sorted(listA, key = key_a)\n",
    "print(a)\n",
    "\n",
    "b = sorted(listA, key = key_b)\n",
    "print(b)\n",
    "\n",
    "a_descending = sorted(listA, key = key_a, reverse = True)\n",
    "print(a_descending)\n",
    "\n",
    "b_descending = sorted(listA, key = key_b, reverse = True)\n",
    "print(b_descending)\n"
   ]
  },
  {
   "cell_type": "markdown",
   "metadata": {
    "id": "5uBTfyCzc9su"
   },
   "source": [
    "Question 5: What do you mean by a mutable and immutable object. Are string, list, tuple, dictionary mutable type objects or immutable objects.\n",
    "\n",
    "Objects of built-in types like (int, float, bool, str, tuple, unicode) are immutable. Objects of built-in types like (list, set, dict) are mutable. Custom classes are generally mutable. \n",
    "\n",
    "Mutable objects:\n",
    "list, dict, set, byte array\n",
    "\n",
    "Immutable objects:\n",
    "int, float, complex, string, tuple, frozen set, bytes"
   ]
  },
  {
   "cell_type": "markdown",
   "metadata": {
    "id": "aL5MbN2QW-Eq"
   },
   "source": [
    "Question 6: Learn The usage of Pandas and Numpy:"
   ]
  },
  {
   "cell_type": "code",
   "execution_count": null,
   "metadata": {
    "id": "zaI6PT68urDA"
   },
   "outputs": [],
   "source": [
    "import pandas as pd\n",
    "import numpy as np\n",
    "\n",
    "df = pd.read_csv('banking.csv')"
   ]
  },
  {
   "cell_type": "code",
   "execution_count": null,
   "metadata": {
    "colab": {
     "base_uri": "https://localhost:8080/",
     "height": 222
    },
    "executionInfo": {
     "elapsed": 498,
     "status": "ok",
     "timestamp": 1629820425688,
     "user": {
      "displayName": "Shubham Pandey",
      "photoUrl": "",
      "userId": "11107096691217343757"
     },
     "user_tz": -330
    },
    "id": "lQPl4wHEvIoP",
    "outputId": "8fd715f5-9db2-4f6c-f1e2-4bb1010ee273"
   },
   "outputs": [
    {
     "data": {
      "text/html": [
       "<div>\n",
       "<style scoped>\n",
       "    .dataframe tbody tr th:only-of-type {\n",
       "        vertical-align: middle;\n",
       "    }\n",
       "\n",
       "    .dataframe tbody tr th {\n",
       "        vertical-align: top;\n",
       "    }\n",
       "\n",
       "    .dataframe thead th {\n",
       "        text-align: right;\n",
       "    }\n",
       "</style>\n",
       "<table border=\"1\" class=\"dataframe\">\n",
       "  <thead>\n",
       "    <tr style=\"text-align: right;\">\n",
       "      <th></th>\n",
       "      <th>age</th>\n",
       "      <th>job</th>\n",
       "      <th>marital</th>\n",
       "      <th>education</th>\n",
       "      <th>default</th>\n",
       "      <th>housing</th>\n",
       "      <th>loan</th>\n",
       "      <th>contact</th>\n",
       "      <th>month</th>\n",
       "      <th>day_of_week</th>\n",
       "      <th>duration</th>\n",
       "      <th>campaign</th>\n",
       "      <th>pdays</th>\n",
       "      <th>previous</th>\n",
       "      <th>poutcome</th>\n",
       "      <th>emp_var_rate</th>\n",
       "      <th>cons_price_idx</th>\n",
       "      <th>cons_conf_idx</th>\n",
       "      <th>euribor3m</th>\n",
       "      <th>nr_employed</th>\n",
       "      <th>y</th>\n",
       "    </tr>\n",
       "  </thead>\n",
       "  <tbody>\n",
       "    <tr>\n",
       "      <th>0</th>\n",
       "      <td>44</td>\n",
       "      <td>blue-collar</td>\n",
       "      <td>married</td>\n",
       "      <td>basic.4y</td>\n",
       "      <td>unknown</td>\n",
       "      <td>yes</td>\n",
       "      <td>no</td>\n",
       "      <td>cellular</td>\n",
       "      <td>aug</td>\n",
       "      <td>thu</td>\n",
       "      <td>210</td>\n",
       "      <td>1</td>\n",
       "      <td>999</td>\n",
       "      <td>0</td>\n",
       "      <td>nonexistent</td>\n",
       "      <td>1.4</td>\n",
       "      <td>93.444</td>\n",
       "      <td>-36.1</td>\n",
       "      <td>4.963</td>\n",
       "      <td>5228.1</td>\n",
       "      <td>0</td>\n",
       "    </tr>\n",
       "    <tr>\n",
       "      <th>1</th>\n",
       "      <td>53</td>\n",
       "      <td>technician</td>\n",
       "      <td>married</td>\n",
       "      <td>unknown</td>\n",
       "      <td>no</td>\n",
       "      <td>no</td>\n",
       "      <td>no</td>\n",
       "      <td>cellular</td>\n",
       "      <td>nov</td>\n",
       "      <td>fri</td>\n",
       "      <td>138</td>\n",
       "      <td>1</td>\n",
       "      <td>999</td>\n",
       "      <td>0</td>\n",
       "      <td>nonexistent</td>\n",
       "      <td>-0.1</td>\n",
       "      <td>93.200</td>\n",
       "      <td>-42.0</td>\n",
       "      <td>4.021</td>\n",
       "      <td>5195.8</td>\n",
       "      <td>0</td>\n",
       "    </tr>\n",
       "    <tr>\n",
       "      <th>2</th>\n",
       "      <td>28</td>\n",
       "      <td>management</td>\n",
       "      <td>single</td>\n",
       "      <td>university.degree</td>\n",
       "      <td>no</td>\n",
       "      <td>yes</td>\n",
       "      <td>no</td>\n",
       "      <td>cellular</td>\n",
       "      <td>jun</td>\n",
       "      <td>thu</td>\n",
       "      <td>339</td>\n",
       "      <td>3</td>\n",
       "      <td>6</td>\n",
       "      <td>2</td>\n",
       "      <td>success</td>\n",
       "      <td>-1.7</td>\n",
       "      <td>94.055</td>\n",
       "      <td>-39.8</td>\n",
       "      <td>0.729</td>\n",
       "      <td>4991.6</td>\n",
       "      <td>1</td>\n",
       "    </tr>\n",
       "    <tr>\n",
       "      <th>3</th>\n",
       "      <td>39</td>\n",
       "      <td>services</td>\n",
       "      <td>married</td>\n",
       "      <td>high.school</td>\n",
       "      <td>no</td>\n",
       "      <td>no</td>\n",
       "      <td>no</td>\n",
       "      <td>cellular</td>\n",
       "      <td>apr</td>\n",
       "      <td>fri</td>\n",
       "      <td>185</td>\n",
       "      <td>2</td>\n",
       "      <td>999</td>\n",
       "      <td>0</td>\n",
       "      <td>nonexistent</td>\n",
       "      <td>-1.8</td>\n",
       "      <td>93.075</td>\n",
       "      <td>-47.1</td>\n",
       "      <td>1.405</td>\n",
       "      <td>5099.1</td>\n",
       "      <td>0</td>\n",
       "    </tr>\n",
       "    <tr>\n",
       "      <th>4</th>\n",
       "      <td>55</td>\n",
       "      <td>retired</td>\n",
       "      <td>married</td>\n",
       "      <td>basic.4y</td>\n",
       "      <td>no</td>\n",
       "      <td>yes</td>\n",
       "      <td>no</td>\n",
       "      <td>cellular</td>\n",
       "      <td>aug</td>\n",
       "      <td>fri</td>\n",
       "      <td>137</td>\n",
       "      <td>1</td>\n",
       "      <td>3</td>\n",
       "      <td>1</td>\n",
       "      <td>success</td>\n",
       "      <td>-2.9</td>\n",
       "      <td>92.201</td>\n",
       "      <td>-31.4</td>\n",
       "      <td>0.869</td>\n",
       "      <td>5076.2</td>\n",
       "      <td>1</td>\n",
       "    </tr>\n",
       "  </tbody>\n",
       "</table>\n",
       "</div>"
      ],
      "text/plain": [
       "   age          job  marital  ... euribor3m nr_employed  y\n",
       "0   44  blue-collar  married  ...     4.963      5228.1  0\n",
       "1   53   technician  married  ...     4.021      5195.8  0\n",
       "2   28   management   single  ...     0.729      4991.6  1\n",
       "3   39     services  married  ...     1.405      5099.1  0\n",
       "4   55      retired  married  ...     0.869      5076.2  1\n",
       "\n",
       "[5 rows x 21 columns]"
      ]
     },
     "execution_count": 9,
     "metadata": {},
     "output_type": "execute_result"
    }
   ],
   "source": [
    "df.head()"
   ]
  },
  {
   "cell_type": "code",
   "execution_count": null,
   "metadata": {
    "colab": {
     "base_uri": "https://localhost:8080/"
    },
    "executionInfo": {
     "elapsed": 620,
     "status": "ok",
     "timestamp": 1629820430315,
     "user": {
      "displayName": "Shubham Pandey",
      "photoUrl": "",
      "userId": "11107096691217343757"
     },
     "user_tz": -330
    },
    "id": "dYA_6u7Xvc-P",
    "outputId": "4b238ae0-ece4-4ad3-c20e-e81a53bc5264"
   },
   "outputs": [
    {
     "name": "stdout",
     "output_type": "stream",
     "text": [
      "<class 'pandas.core.frame.DataFrame'>\n",
      "RangeIndex: 41188 entries, 0 to 41187\n",
      "Data columns (total 21 columns):\n",
      " #   Column          Non-Null Count  Dtype  \n",
      "---  ------          --------------  -----  \n",
      " 0   age             41188 non-null  int64  \n",
      " 1   job             41188 non-null  object \n",
      " 2   marital         41188 non-null  object \n",
      " 3   education       41188 non-null  object \n",
      " 4   default         41188 non-null  object \n",
      " 5   housing         41188 non-null  object \n",
      " 6   loan            41188 non-null  object \n",
      " 7   contact         41188 non-null  object \n",
      " 8   month           41188 non-null  object \n",
      " 9   day_of_week     41188 non-null  object \n",
      " 10  duration        41188 non-null  int64  \n",
      " 11  campaign        41188 non-null  int64  \n",
      " 12  pdays           41188 non-null  int64  \n",
      " 13  previous        41188 non-null  int64  \n",
      " 14  poutcome        41188 non-null  object \n",
      " 15  emp_var_rate    41188 non-null  float64\n",
      " 16  cons_price_idx  41188 non-null  float64\n",
      " 17  cons_conf_idx   41188 non-null  float64\n",
      " 18  euribor3m       41188 non-null  float64\n",
      " 19  nr_employed     41188 non-null  float64\n",
      " 20  y               41188 non-null  int64  \n",
      "dtypes: float64(5), int64(6), object(10)\n",
      "memory usage: 6.6+ MB\n"
     ]
    }
   ],
   "source": [
    "df.info()"
   ]
  },
  {
   "cell_type": "code",
   "execution_count": null,
   "metadata": {
    "id": "5b6upBo2ldfh"
   },
   "outputs": [],
   "source": []
  }
 ],
 "metadata": {
  "colab": {
   "authorship_tag": "ABX9TyMC5oN0EjMLU7S9w0HA+ANa",
   "collapsed_sections": [],
   "name": "Assignment 1 - Python Basics.ipynb",
   "provenance": []
  },
  "kernelspec": {
   "display_name": "Python3",
   "language": "python",
   "name": "python3"
  },
  "language_info": {
   "codemirror_mode": {
    "name": "ipython",
    "version": 3
   },
   "file_extension": ".py",
   "mimetype": "text/x-python",
   "name": "python",
   "nbconvert_exporter": "python",
   "pygments_lexer": "ipython3",
   "version": "3.7.10"
  }
 },
 "nbformat": 4,
 "nbformat_minor": 4
}
