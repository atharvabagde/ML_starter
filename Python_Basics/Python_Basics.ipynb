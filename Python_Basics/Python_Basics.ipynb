{
 "cells": [
  {
   "cell_type": "markdown",
   "metadata": {
    "id": "ctBYg8I9wgHa"
   },
   "source": [
    " Question 1: Given a list of tuples, find the number of occurrences of each tuple in the list."
   ]
  },
  {
   "cell_type": "code",
   "execution_count": null,
   "metadata": {
    "colab": {
     "base_uri": "https://localhost:8080/"
    },
    "executionInfo": {
     "elapsed": 1684,
     "status": "ok",
     "timestamp": 1629820324853,
     "user": {
      "displayName": "Shubham Pandey",
      "photoUrl": "",
      "userId": "11107096691217343757"
     },
     "user_tz": -330
    },
    "id": "6LpBQKd0MNYL",
    "outputId": "ec43101f-a377-48b7-b210-f437121b18c6"
   },
   "outputs": [
    {
     "name": "stdout",
     "output_type": "stream",
     "text": [
      "Total number of items = 38\n",
      "Total frequency count = 38\n",
      "defaultdict(<class 'int'>, {('a', 'alex'): 5, ('b', 'fred'): 3, ('c', 'Ted'): 5, ('d', 'Red'): 4, ('p', 'Grey'): 6, ('e', 'Frank'): 3, ('i', 'Moon'): 4, ('t', 'Tim'): 3, ('g', 'mandy'): 5})\n"
     ]
    }
   ],
   "source": [
    "\n",
    "Input = [\n",
    "          ('a', 'alex'),\n",
    "          ('b', 'fred'),\n",
    "          ('c', 'Ted'),\n",
    "          ('d', 'Red'),\n",
    "          ('p', 'Grey'),\n",
    "          ('a', 'alex'),\n",
    "          ('e', 'Frank'),\n",
    "          ('d', 'Red'),\n",
    "          ('i', 'Moon'),\n",
    "          ('t', 'Tim'),\n",
    "          ('b', 'fred'),\n",
    "          ('c', 'Ted'),\n",
    "          ('g', 'mandy'),\n",
    "          ('a', 'alex'),\n",
    "          ('p', 'Grey'),\n",
    "          ('c', 'Ted'),\n",
    "          ('e', 'Frank'),\n",
    "          ('d', 'Red'),\n",
    "          ('a', 'alex'),\n",
    "          ('p', 'Grey'),\n",
    "          ('t', 'Tim'),\n",
    "          ('g', 'mandy'),\n",
    "          ('c', 'Ted'),\n",
    "          ('i', 'Moon'),\n",
    "          ('b', 'fred'),\n",
    "          ('a', 'alex'),\n",
    "          ('i', 'Moon'),\n",
    "          ('p', 'Grey'),\n",
    "          ('d', 'Red'),\n",
    "          ('g', 'mandy'),\n",
    "          ('c', 'Ted'),\n",
    "          ('p', 'Grey'),\n",
    "          ('e', 'Frank'),\n",
    "          ('t', 'Tim'),\n",
    "          ('g', 'mandy'),\n",
    "          ('p', 'Grey'),\n",
    "          ('g', 'mandy'),\n",
    "          ('i', 'Moon')\n",
    "]\n",
    "\n",
    "def occurence_count(Input):  \n",
    "  import collections\n",
    "  frequency = collections.defaultdict(int)\n",
    "\n",
    "  for item in Input:\n",
    "    frequency[item] += 1\n",
    "  \n",
    "  print(\"Total number of items = \" + str(len(Input)))\n",
    "  print(\"Total frequency count = \" + str(sum([frequency[i] for i in frequency])))\n",
    "\n",
    "  return frequency\n",
    "\n",
    "print(occurence_count(Input))"
   ]
  },
  {
   "cell_type": "markdown",
   "metadata": {
    "id": "qvSCYNjZwmTC"
   },
   "source": [
    "Question 2: Create a list of 10 random numbers between 1-100. Create a balanced BST (Binary search tree) from this array\n"
   ]
  },
  {
   "cell_type": "code",
   "execution_count": null,
   "metadata": {
    "colab": {
     "base_uri": "https://localhost:8080/"
    },
    "executionInfo": {
     "elapsed": 3,
     "status": "ok",
     "timestamp": 1629820326365,
     "user": {
      "displayName": "Shubham Pandey",
      "photoUrl": "",
      "userId": "11107096691217343757"
     },
     "user_tz": -330
    },
    "id": "FPqAogws9bQ3",
    "outputId": "d734f467-44c4-4721-e785-6cda44ce9cb6"
   },
   "outputs": [
    {
     "name": "stdout",
     "output_type": "stream",
     "text": [
      "[59, 75, 68, 5, 32, 37, 86, 82, 27, 17]\n",
      "5\n",
      "17\n",
      "27\n",
      "32\n",
      "37\n",
      "59\n",
      "68\n",
      "75\n",
      "82\n",
      "86\n"
     ]
    }
   ],
   "source": [
    "\n",
    "import random\n",
    "\n",
    "def random_num_generator(n):\n",
    "  random.seed(40)\n",
    "  random_num_list = random.sample(range(1,101), n)\n",
    "  return random_num_list\n",
    "\n",
    "class Node:\n",
    "  def __init__(self, key):\n",
    "    self.left = None\n",
    "    self.right = None\n",
    "    self.node_value = key\n",
    "\n",
    "def insert_key(root, key):\n",
    "  if root == None :\n",
    "    root = Node(key)\n",
    "    return root\n",
    "\n",
    "  else:\n",
    "    if root.node_value == key:\n",
    "      return root\n",
    "\n",
    "    elif root.node_value > key :\n",
    "      root.left = insert_key(root.left, key)\n",
    "      return root\n",
    "\n",
    "    else :\n",
    "      root.right = insert_key(root.right, key)\n",
    "      return root\n",
    "\n",
    "def Build_BST(arr):\n",
    "  root = None\n",
    "  for i in arr:\n",
    "    root = insert_key(root,i)\n",
    "  return root\n",
    "\n",
    "def show_inorder(node):\n",
    "    if not node:\n",
    "      return\n",
    "    else:\n",
    "        show_inorder(node.left)\n",
    "        print(node.node_value)\n",
    "        show_inorder(node.right)\n",
    "\n",
    "input = random_num_generator(10)\n",
    "print(input)\n",
    "\n",
    "root_node = Build_BST(input)\n",
    "show_inorder(root_node)"
   ]
  },
  {
   "cell_type": "markdown",
   "metadata": {
    "id": "g5IijaqzwsO6"
   },
   "source": [
    " Question 3: Given the following dictionary:# \n"
   ]
  },
  {
   "cell_type": "code",
   "execution_count": null,
   "metadata": {
    "colab": {
     "base_uri": "https://localhost:8080/"
    },
    "executionInfo": {
     "elapsed": 5,
     "status": "ok",
     "timestamp": 1629820329427,
     "user": {
      "displayName": "Shubham Pandey",
      "photoUrl": "",
      "userId": "11107096691217343757"
     },
     "user_tz": -330
    },
    "id": "FK_PM3nkCovw",
    "outputId": "9a573358-9aa6-4a76-a953-545ca6fcf317"
   },
   "outputs": [],
   "source": [
    "\n",
    "\n",
    "# { ‘black :’r’,\n",
    "#   ‘hero’:‘e’,\n",
    "#   ‘go’:’g’,\n",
    "#   ‘clue’:’i’,\n",
    "#   ’mean’:’q’,\n",
    "#   ’groan’:’o’,\n",
    "#   ’sin’:’p’,\n",
    "#   ’pint’:’u’,\n",
    "#   ’tone’:’n’,\n",
    "#   ’graze’:’s’,\n",
    "#   ‘sea’:’t’,\n",
    "#   ‘plant’:’a’}\n",
    "# Create a list of all the keys of the dictionary, which can be formed from the values present in the dictionary.\n",
    "\n",
    "from itertools import combinations \n",
    "\n",
    "def join(ls):\n",
    "  str = \"\"\n",
    "  for i in ls:\n",
    "    str = str + i\n",
    "  return str\n",
    "\n",
    "dictionary = { 'black' :'r',\n",
    "  'hero':'e',\n",
    "  'go':'g',\n",
    "  'clue':'i',\n",
    "  'mean':'q',\n",
    "  'groan':'o',\n",
    "  'sin':'p',\n",
    "  'pint':'u',\n",
    "  'tone':'n',\n",
    "  'graze':'s',\n",
    "  'sea':'t',\n",
    "  'plant':'a'}\n",
    "\n",
    "m_set =set()\n",
    "\n",
    "for i in dictionary:\n",
    "  m_set.add(dictionary[i])\n",
    "\n",
    "LIST = []\n",
    "for i in range(1, len(m_set) + 1):\n",
    "  LIST +=   list(\n",
    "        map(\n",
    "            join, \n",
    "            combinations(m_set, i)\n",
    "            )\n",
    "        )\n",
    "print(len(m_set))\n",
    "print(len(LIST))\n",
    "print(2**len(m_set) - 1)\n",
    "LIST"
   ]
  },
  {
   "cell_type": "markdown",
   "metadata": {
    "id": "DSHbyTurxBfb"
   },
   "source": [
    " Question 4: Given the following list of tuples,\n",
    " a.    sort the list by 1st item in the tuple in ascending order\n",
    " b.    Sort the list by 2nd item in the tuple in ascending order\n",
    " c.     Repeat a, b using descending order"
   ]
  },
  {
   "cell_type": "code",
   "execution_count": null,
   "metadata": {
    "colab": {
     "base_uri": "https://localhost:8080/"
    },
    "executionInfo": {
     "elapsed": 3,
     "status": "ok",
     "timestamp": 1629820330824,
     "user": {
      "displayName": "Shubham Pandey",
      "photoUrl": "",
      "userId": "11107096691217343757"
     },
     "user_tz": -330
    },
    "id": "SESQ3wEzQkkf",
    "outputId": "30eeca56-1060-418f-ce5c-8f31fcc71027"
   },
   "outputs": [
    {
     "name": "stdout",
     "output_type": "stream",
     "text": [
      "[(1, 2), (2, 10), (4, 3), (6, 7), (9, 11), (12, 5), (15, 4)]\n",
      "[(1, 2), (4, 3), (15, 4), (12, 5), (6, 7), (2, 10), (9, 11)]\n",
      "[(15, 4), (12, 5), (9, 11), (6, 7), (4, 3), (2, 10), (1, 2)]\n",
      "[(9, 11), (2, 10), (6, 7), (12, 5), (15, 4), (4, 3), (1, 2)]\n"
     ]
    }
   ],
   "source": [
    "listA = [(1,2), (4,3), (2,10), (12, 5), (6, 7), (9,11), (15, 4)]\n",
    "\n",
    "def key_a(i):\n",
    "  return i[0]\n",
    "\n",
    "def key_b(i):\n",
    "  return i[1]\n",
    "\n",
    "a = sorted(listA, key = key_a)\n",
    "print(a)\n",
    "\n",
    "b = sorted(listA, key = key_b)\n",
    "print(b)\n",
    "\n",
    "a_descending = sorted(listA, key = key_a, reverse = True)\n",
    "print(a_descending)\n",
    "\n",
    "b_descending = sorted(listA, key = key_b, reverse = True)\n",
    "print(b_descending)\n"
   ]
  },
  {
   "cell_type": "markdown",
   "metadata": {
    "id": "5uBTfyCzc9su"
   },
   "source": [
    "Question 5: What do you mean by a mutable and immutable object. Are string, list, tuple, dictionary mutable type objects or immutable objects.\n",
    "\n",
    "Objects of built-in types like (int, float, bool, str, tuple, unicode) are immutable. Objects of built-in types like (list, set, dict) are mutable. Custom classes are generally mutable. \n",
    "\n",
    "Mutable objects:\n",
    "list, dict, set, byte array\n",
    "\n",
    "Immutable objects:\n",
    "int, float, complex, string, tuple, frozen set, bytes"
   ]
  },
  {
   "cell_type": "markdown",
   "metadata": {
    "id": "aL5MbN2QW-Eq"
   },
   "source": [
    "Question 6: Learn The usage of Pandas and Numpy:"
   ]
  },
  {
   "cell_type": "code",
   "execution_count": null,
   "metadata": {
    "id": "zaI6PT68urDA"
   },
   "outputs": [],
   "source": [
    "import pandas as pd\n",
    "import numpy as np\n",
    "\n",
    "df = pd.read_csv('banking.csv')"
   ]
  },
  {
   "cell_type": "code",
   "execution_count": null,
   "metadata": {
    "colab": {
     "base_uri": "https://localhost:8080/",
     "height": 222
    },
    "executionInfo": {
     "elapsed": 498,
     "status": "ok",
     "timestamp": 1629820425688,
     "user": {
      "displayName": "Shubham Pandey",
      "photoUrl": "",
      "userId": "11107096691217343757"
     },
     "user_tz": -330
    },
    "id": "lQPl4wHEvIoP",
    "outputId": "8fd715f5-9db2-4f6c-f1e2-4bb1010ee273"
   },
   "outputs": [
    {
     "data": {
      "text/html": [
       "<div>\n",
       "<style scoped>\n",
       "    .dataframe tbody tr th:only-of-type {\n",
       "        vertical-align: middle;\n",
       "    }\n",
       "\n",
       "    .dataframe tbody tr th {\n",
       "        vertical-align: top;\n",
       "    }\n",
       "\n",
       "    .dataframe thead th {\n",
       "        text-align: right;\n",
       "    }\n",
       "</style>\n",
       "<table border=\"1\" class=\"dataframe\">\n",
       "  <thead>\n",
       "    <tr style=\"text-align: right;\">\n",
       "      <th></th>\n",
       "      <th>age</th>\n",
       "      <th>job</th>\n",
       "      <th>marital</th>\n",
       "      <th>education</th>\n",
       "      <th>default</th>\n",
       "      <th>housing</th>\n",
       "      <th>loan</th>\n",
       "      <th>contact</th>\n",
       "      <th>month</th>\n",
       "      <th>day_of_week</th>\n",
       "      <th>duration</th>\n",
       "      <th>campaign</th>\n",
       "      <th>pdays</th>\n",
       "      <th>previous</th>\n",
       "      <th>poutcome</th>\n",
       "      <th>emp_var_rate</th>\n",
       "      <th>cons_price_idx</th>\n",
       "      <th>cons_conf_idx</th>\n",
       "      <th>euribor3m</th>\n",
       "      <th>nr_employed</th>\n",
       "      <th>y</th>\n",
       "    </tr>\n",
       "  </thead>\n",
       "  <tbody>\n",
       "    <tr>\n",
       "      <th>0</th>\n",
       "      <td>44</td>\n",
       "      <td>blue-collar</td>\n",
       "      <td>married</td>\n",
       "      <td>basic.4y</td>\n",
       "      <td>unknown</td>\n",
       "      <td>yes</td>\n",
       "      <td>no</td>\n",
       "      <td>cellular</td>\n",
       "      <td>aug</td>\n",
       "      <td>thu</td>\n",
       "      <td>210</td>\n",
       "      <td>1</td>\n",
       "      <td>999</td>\n",
       "      <td>0</td>\n",
       "      <td>nonexistent</td>\n",
       "      <td>1.4</td>\n",
       "      <td>93.444</td>\n",
       "      <td>-36.1</td>\n",
       "      <td>4.963</td>\n",
       "      <td>5228.1</td>\n",
       "      <td>0</td>\n",
       "    </tr>\n",
       "    <tr>\n",
       "      <th>1</th>\n",
       "      <td>53</td>\n",
       "      <td>technician</td>\n",
       "      <td>married</td>\n",
       "      <td>unknown</td>\n",
       "      <td>no</td>\n",
       "      <td>no</td>\n",
       "      <td>no</td>\n",
       "      <td>cellular</td>\n",
       "      <td>nov</td>\n",
       "      <td>fri</td>\n",
       "      <td>138</td>\n",
       "      <td>1</td>\n",
       "      <td>999</td>\n",
       "      <td>0</td>\n",
       "      <td>nonexistent</td>\n",
       "      <td>-0.1</td>\n",
       "      <td>93.200</td>\n",
       "      <td>-42.0</td>\n",
       "      <td>4.021</td>\n",
       "      <td>5195.8</td>\n",
       "      <td>0</td>\n",
       "    </tr>\n",
       "    <tr>\n",
       "      <th>2</th>\n",
       "      <td>28</td>\n",
       "      <td>management</td>\n",
       "      <td>single</td>\n",
       "      <td>university.degree</td>\n",
       "      <td>no</td>\n",
       "      <td>yes</td>\n",
       "      <td>no</td>\n",
       "      <td>cellular</td>\n",
       "      <td>jun</td>\n",
       "      <td>thu</td>\n",
       "      <td>339</td>\n",
       "      <td>3</td>\n",
       "      <td>6</td>\n",
       "      <td>2</td>\n",
       "      <td>success</td>\n",
       "      <td>-1.7</td>\n",
       "      <td>94.055</td>\n",
       "      <td>-39.8</td>\n",
       "      <td>0.729</td>\n",
       "      <td>4991.6</td>\n",
       "      <td>1</td>\n",
       "    </tr>\n",
       "    <tr>\n",
       "      <th>3</th>\n",
       "      <td>39</td>\n",
       "      <td>services</td>\n",
       "      <td>married</td>\n",
       "      <td>high.school</td>\n",
       "      <td>no</td>\n",
       "      <td>no</td>\n",
       "      <td>no</td>\n",
       "      <td>cellular</td>\n",
       "      <td>apr</td>\n",
       "      <td>fri</td>\n",
       "      <td>185</td>\n",
       "      <td>2</td>\n",
       "      <td>999</td>\n",
       "      <td>0</td>\n",
       "      <td>nonexistent</td>\n",
       "      <td>-1.8</td>\n",
       "      <td>93.075</td>\n",
       "      <td>-47.1</td>\n",
       "      <td>1.405</td>\n",
       "      <td>5099.1</td>\n",
       "      <td>0</td>\n",
       "    </tr>\n",
       "    <tr>\n",
       "      <th>4</th>\n",
       "      <td>55</td>\n",
       "      <td>retired</td>\n",
       "      <td>married</td>\n",
       "      <td>basic.4y</td>\n",
       "      <td>no</td>\n",
       "      <td>yes</td>\n",
       "      <td>no</td>\n",
       "      <td>cellular</td>\n",
       "      <td>aug</td>\n",
       "      <td>fri</td>\n",
       "      <td>137</td>\n",
       "      <td>1</td>\n",
       "      <td>3</td>\n",
       "      <td>1</td>\n",
       "      <td>success</td>\n",
       "      <td>-2.9</td>\n",
       "      <td>92.201</td>\n",
       "      <td>-31.4</td>\n",
       "      <td>0.869</td>\n",
       "      <td>5076.2</td>\n",
       "      <td>1</td>\n",
       "    </tr>\n",
       "  </tbody>\n",
       "</table>\n",
       "</div>"
      ],
      "text/plain": [
       "   age          job  marital  ... euribor3m nr_employed  y\n",
       "0   44  blue-collar  married  ...     4.963      5228.1  0\n",
       "1   53   technician  married  ...     4.021      5195.8  0\n",
       "2   28   management   single  ...     0.729      4991.6  1\n",
       "3   39     services  married  ...     1.405      5099.1  0\n",
       "4   55      retired  married  ...     0.869      5076.2  1\n",
       "\n",
       "[5 rows x 21 columns]"
      ]
     },
     "execution_count": 9,
     "metadata": {},
     "output_type": "execute_result"
    }
   ],
   "source": [
    "df.head()"
   ]
  },
  {
   "cell_type": "code",
   "execution_count": null,
   "metadata": {
    "colab": {
     "base_uri": "https://localhost:8080/"
    },
    "executionInfo": {
     "elapsed": 620,
     "status": "ok",
     "timestamp": 1629820430315,
     "user": {
      "displayName": "Shubham Pandey",
      "photoUrl": "",
      "userId": "11107096691217343757"
     },
     "user_tz": -330
    },
    "id": "dYA_6u7Xvc-P",
    "outputId": "4b238ae0-ece4-4ad3-c20e-e81a53bc5264"
   },
   "outputs": [
    {
     "name": "stdout",
     "output_type": "stream",
     "text": [
      "<class 'pandas.core.frame.DataFrame'>\n",
      "RangeIndex: 41188 entries, 0 to 41187\n",
      "Data columns (total 21 columns):\n",
      " #   Column          Non-Null Count  Dtype  \n",
      "---  ------          --------------  -----  \n",
      " 0   age             41188 non-null  int64  \n",
      " 1   job             41188 non-null  object \n",
      " 2   marital         41188 non-null  object \n",
      " 3   education       41188 non-null  object \n",
      " 4   default         41188 non-null  object \n",
      " 5   housing         41188 non-null  object \n",
      " 6   loan            41188 non-null  object \n",
      " 7   contact         41188 non-null  object \n",
      " 8   month           41188 non-null  object \n",
      " 9   day_of_week     41188 non-null  object \n",
      " 10  duration        41188 non-null  int64  \n",
      " 11  campaign        41188 non-null  int64  \n",
      " 12  pdays           41188 non-null  int64  \n",
      " 13  previous        41188 non-null  int64  \n",
      " 14  poutcome        41188 non-null  object \n",
      " 15  emp_var_rate    41188 non-null  float64\n",
      " 16  cons_price_idx  41188 non-null  float64\n",
      " 17  cons_conf_idx   41188 non-null  float64\n",
      " 18  euribor3m       41188 non-null  float64\n",
      " 19  nr_employed     41188 non-null  float64\n",
      " 20  y               41188 non-null  int64  \n",
      "dtypes: float64(5), int64(6), object(10)\n",
      "memory usage: 6.6+ MB\n"
     ]
    }
   ],
   "source": [
    "df.info()"
   ]
  },
  {
   "cell_type": "markdown",
   "metadata": {
    "id": "DSlcLNiJxPCK"
   },
   "source": [
    "6-1)Write the command to find unique values in education."
   ]
  },
  {
   "cell_type": "code",
   "execution_count": null,
   "metadata": {
    "colab": {
     "base_uri": "https://localhost:8080/"
    },
    "executionInfo": {
     "elapsed": 3,
     "status": "ok",
     "timestamp": 1629820432752,
     "user": {
      "displayName": "Shubham Pandey",
      "photoUrl": "",
      "userId": "11107096691217343757"
     },
     "user_tz": -330
    },
    "id": "sGZn-itRvgNH",
    "outputId": "ea87e4b9-10f7-4d75-9a91-89a811b5953a"
   },
   "outputs": [
    {
     "data": {
      "text/plain": [
       "array(['basic.4y', 'unknown', 'university.degree', 'high.school',\n",
       "       'basic.9y', 'professional.course', 'basic.6y', 'illiterate'],\n",
       "      dtype=object)"
      ]
     },
     "execution_count": 11,
     "metadata": {},
     "output_type": "execute_result"
    }
   ],
   "source": [
    "\n",
    "df['education'].unique()"
   ]
  },
  {
   "cell_type": "code",
   "execution_count": null,
   "metadata": {
    "colab": {
     "base_uri": "https://localhost:8080/"
    },
    "executionInfo": {
     "elapsed": 3,
     "status": "ok",
     "timestamp": 1629820433245,
     "user": {
      "displayName": "Shubham Pandey",
      "photoUrl": "",
      "userId": "11107096691217343757"
     },
     "user_tz": -330
    },
    "id": "qBejrwJcwoZV",
    "outputId": "efc5ce89-f29d-4cc9-d177-16a1b6ef5ea2"
   },
   "outputs": [
    {
     "data": {
      "text/plain": [
       "array([0, 1])"
      ]
     },
     "execution_count": 12,
     "metadata": {},
     "output_type": "execute_result"
    }
   ],
   "source": [
    "df['y'].unique()"
   ]
  },
  {
   "cell_type": "markdown",
   "metadata": {
    "id": "pAt1M0oyxYUq"
   },
   "source": [
    "6-2)Command to find the number of customers subscribed and not subscribed."
   ]
  },
  {
   "cell_type": "code",
   "execution_count": null,
   "metadata": {
    "colab": {
     "base_uri": "https://localhost:8080/"
    },
    "executionInfo": {
     "elapsed": 4,
     "status": "ok",
     "timestamp": 1629820434550,
     "user": {
      "displayName": "Shubham Pandey",
      "photoUrl": "",
      "userId": "11107096691217343757"
     },
     "user_tz": -330
    },
    "id": "bS70KzYo-PFl",
    "outputId": "bc5de505-bf47-43ba-f557-826e71c47f7c"
   },
   "outputs": [
    {
     "name": "stdout",
     "output_type": "stream",
     "text": [
      "Total number of customers = 41188\n",
      "Number of customes subscribed = 4640\n",
      "Number of customes not subscribed = 36548\n"
     ]
    }
   ],
   "source": [
    "df_y1 = df.where(df.y == 1).dropna()['y']\n",
    "df_y0 = df.where(df.y == 0).dropna()['y']\n",
    "\n",
    "print(\"Total number of customers = \" + str(len(df_y0) + len(df_y1)))\n",
    "print(\"Number of customes subscribed = \" + str(len(df_y1)))\n",
    "print(\"Number of customes not subscribed = \" + str(len(df_y0)))"
   ]
  },
  {
   "cell_type": "markdown",
   "metadata": {
    "id": "7282eE6ExdXi"
   },
   "source": [
    "6-3)    Find the mean values of all the independent variables for every ‘y’ (outcome variable)"
   ]
  },
  {
   "cell_type": "code",
   "execution_count": null,
   "metadata": {
    "colab": {
     "base_uri": "https://localhost:8080/",
     "height": 141
    },
    "executionInfo": {
     "elapsed": 5,
     "status": "ok",
     "timestamp": 1629820435058,
     "user": {
      "displayName": "Shubham Pandey",
      "photoUrl": "",
      "userId": "11107096691217343757"
     },
     "user_tz": -330
    },
    "id": "qs_zhPlaDMBM",
    "outputId": "558253ce-7bec-4a14-e8fa-e7241acf7575"
   },
   "outputs": [
    {
     "data": {
      "text/html": [
       "<div>\n",
       "<style scoped>\n",
       "    .dataframe tbody tr th:only-of-type {\n",
       "        vertical-align: middle;\n",
       "    }\n",
       "\n",
       "    .dataframe tbody tr th {\n",
       "        vertical-align: top;\n",
       "    }\n",
       "\n",
       "    .dataframe thead th {\n",
       "        text-align: right;\n",
       "    }\n",
       "</style>\n",
       "<table border=\"1\" class=\"dataframe\">\n",
       "  <thead>\n",
       "    <tr style=\"text-align: right;\">\n",
       "      <th></th>\n",
       "      <th>age</th>\n",
       "      <th>duration</th>\n",
       "      <th>campaign</th>\n",
       "      <th>pdays</th>\n",
       "      <th>previous</th>\n",
       "      <th>emp_var_rate</th>\n",
       "      <th>cons_price_idx</th>\n",
       "      <th>cons_conf_idx</th>\n",
       "      <th>euribor3m</th>\n",
       "      <th>nr_employed</th>\n",
       "    </tr>\n",
       "    <tr>\n",
       "      <th>y</th>\n",
       "      <th></th>\n",
       "      <th></th>\n",
       "      <th></th>\n",
       "      <th></th>\n",
       "      <th></th>\n",
       "      <th></th>\n",
       "      <th></th>\n",
       "      <th></th>\n",
       "      <th></th>\n",
       "      <th></th>\n",
       "    </tr>\n",
       "  </thead>\n",
       "  <tbody>\n",
       "    <tr>\n",
       "      <th>0</th>\n",
       "      <td>39.911185</td>\n",
       "      <td>220.844807</td>\n",
       "      <td>2.633085</td>\n",
       "      <td>984.113878</td>\n",
       "      <td>0.132374</td>\n",
       "      <td>0.248875</td>\n",
       "      <td>93.603757</td>\n",
       "      <td>-40.593097</td>\n",
       "      <td>3.811491</td>\n",
       "      <td>5176.166600</td>\n",
       "    </tr>\n",
       "    <tr>\n",
       "      <th>1</th>\n",
       "      <td>40.913147</td>\n",
       "      <td>553.191164</td>\n",
       "      <td>2.051724</td>\n",
       "      <td>792.035560</td>\n",
       "      <td>0.492672</td>\n",
       "      <td>-1.233448</td>\n",
       "      <td>93.354386</td>\n",
       "      <td>-39.789784</td>\n",
       "      <td>2.123135</td>\n",
       "      <td>5095.115991</td>\n",
       "    </tr>\n",
       "  </tbody>\n",
       "</table>\n",
       "</div>"
      ],
      "text/plain": [
       "         age    duration  campaign  ...  cons_conf_idx  euribor3m  nr_employed\n",
       "y                                   ...                                       \n",
       "0  39.911185  220.844807  2.633085  ...     -40.593097   3.811491  5176.166600\n",
       "1  40.913147  553.191164  2.051724  ...     -39.789784   2.123135  5095.115991\n",
       "\n",
       "[2 rows x 10 columns]"
      ]
     },
     "execution_count": 14,
     "metadata": {},
     "output_type": "execute_result"
    }
   ],
   "source": [
    "\n",
    "df.groupby(['y']).mean()"
   ]
  },
  {
   "cell_type": "markdown",
   "metadata": {
    "id": "gzf2EZlHxlPC"
   },
   "source": [
    "6-4)    What is the mean age for every marital status"
   ]
  },
  {
   "cell_type": "code",
   "execution_count": null,
   "metadata": {
    "colab": {
     "base_uri": "https://localhost:8080/"
    },
    "executionInfo": {
     "elapsed": 4,
     "status": "ok",
     "timestamp": 1629820436471,
     "user": {
      "displayName": "Shubham Pandey",
      "photoUrl": "",
      "userId": "11107096691217343757"
     },
     "user_tz": -330
    },
    "id": "pRB4s8RLr401",
    "outputId": "ee6d2cca-791f-4a72-d0ea-14c7334b4e51"
   },
   "outputs": [
    {
     "data": {
      "text/plain": [
       "marital\n",
       "divorced    44.899393\n",
       "married     42.307165\n",
       "single      33.158714\n",
       "unknown     40.275000\n",
       "Name: age, dtype: float64"
      ]
     },
     "execution_count": 15,
     "metadata": {},
     "output_type": "execute_result"
    }
   ],
   "source": [
    "df.groupby(['marital'])['age'].mean()"
   ]
  },
  {
   "cell_type": "markdown",
   "metadata": {
    "id": "ptE4Qcgdv0Mc"
   },
   "source": [
    "6-5)    Check for null values"
   ]
  },
  {
   "cell_type": "code",
   "execution_count": null,
   "metadata": {
    "colab": {
     "base_uri": "https://localhost:8080/"
    },
    "executionInfo": {
     "elapsed": 4,
     "status": "ok",
     "timestamp": 1629820437117,
     "user": {
      "displayName": "Shubham Pandey",
      "photoUrl": "",
      "userId": "11107096691217343757"
     },
     "user_tz": -330
    },
    "id": "WSnMDZqauJIE",
    "outputId": "645b8b74-11bb-497c-df6a-20d8c3f23cbd"
   },
   "outputs": [
    {
     "data": {
      "text/plain": [
       "False"
      ]
     },
     "execution_count": 16,
     "metadata": {},
     "output_type": "execute_result"
    }
   ],
   "source": [
    "\n",
    "df.isnull().values.any()"
   ]
  },
  {
   "cell_type": "code",
   "execution_count": null,
   "metadata": {
    "colab": {
     "base_uri": "https://localhost:8080/"
    },
    "executionInfo": {
     "elapsed": 4,
     "status": "ok",
     "timestamp": 1629820437564,
     "user": {
      "displayName": "Shubham Pandey",
      "photoUrl": "",
      "userId": "11107096691217343757"
     },
     "user_tz": -330
    },
    "id": "XEs8G1DMvRFU",
    "outputId": "3661bf5f-ac48-4d62-daca-624691fc5402"
   },
   "outputs": [
    {
     "data": {
      "text/plain": [
       "age               0\n",
       "job               0\n",
       "marital           0\n",
       "education         0\n",
       "default           0\n",
       "housing           0\n",
       "loan              0\n",
       "contact           0\n",
       "month             0\n",
       "day_of_week       0\n",
       "duration          0\n",
       "campaign          0\n",
       "pdays             0\n",
       "previous          0\n",
       "poutcome          0\n",
       "emp_var_rate      0\n",
       "cons_price_idx    0\n",
       "cons_conf_idx     0\n",
       "euribor3m         0\n",
       "nr_employed       0\n",
       "y                 0\n",
       "dtype: int64"
      ]
     },
     "execution_count": 17,
     "metadata": {},
     "output_type": "execute_result"
    }
   ],
   "source": [
    "df.isnull().sum()"
   ]
  },
  {
   "cell_type": "markdown",
   "metadata": {
    "id": "EuyErcAXwVSr"
   },
   "source": [
    "6-6)    Find the descriptive statistics for each column"
   ]
  },
  {
   "cell_type": "code",
   "execution_count": null,
   "metadata": {
    "colab": {
     "base_uri": "https://localhost:8080/",
     "height": 314
    },
    "executionInfo": {
     "elapsed": 6,
     "status": "ok",
     "timestamp": 1629820439037,
     "user": {
      "displayName": "Shubham Pandey",
      "photoUrl": "",
      "userId": "11107096691217343757"
     },
     "user_tz": -330
    },
    "id": "QYOkIfZmvpcz",
    "outputId": "4184b3e9-2882-4e65-f35a-370f3478e9d2"
   },
   "outputs": [
    {
     "data": {
      "text/html": [
       "<div>\n",
       "<style scoped>\n",
       "    .dataframe tbody tr th:only-of-type {\n",
       "        vertical-align: middle;\n",
       "    }\n",
       "\n",
       "    .dataframe tbody tr th {\n",
       "        vertical-align: top;\n",
       "    }\n",
       "\n",
       "    .dataframe thead th {\n",
       "        text-align: right;\n",
       "    }\n",
       "</style>\n",
       "<table border=\"1\" class=\"dataframe\">\n",
       "  <thead>\n",
       "    <tr style=\"text-align: right;\">\n",
       "      <th></th>\n",
       "      <th>age</th>\n",
       "      <th>duration</th>\n",
       "      <th>campaign</th>\n",
       "      <th>pdays</th>\n",
       "      <th>previous</th>\n",
       "      <th>emp_var_rate</th>\n",
       "      <th>cons_price_idx</th>\n",
       "      <th>cons_conf_idx</th>\n",
       "      <th>euribor3m</th>\n",
       "      <th>nr_employed</th>\n",
       "      <th>y</th>\n",
       "    </tr>\n",
       "  </thead>\n",
       "  <tbody>\n",
       "    <tr>\n",
       "      <th>count</th>\n",
       "      <td>41188.00000</td>\n",
       "      <td>41188.000000</td>\n",
       "      <td>41188.000000</td>\n",
       "      <td>41188.000000</td>\n",
       "      <td>41188.000000</td>\n",
       "      <td>41188.000000</td>\n",
       "      <td>41188.000000</td>\n",
       "      <td>41188.000000</td>\n",
       "      <td>41188.000000</td>\n",
       "      <td>41188.000000</td>\n",
       "      <td>41188.000000</td>\n",
       "    </tr>\n",
       "    <tr>\n",
       "      <th>mean</th>\n",
       "      <td>40.02406</td>\n",
       "      <td>258.285010</td>\n",
       "      <td>2.567593</td>\n",
       "      <td>962.475454</td>\n",
       "      <td>0.172963</td>\n",
       "      <td>0.081886</td>\n",
       "      <td>93.575664</td>\n",
       "      <td>-40.502600</td>\n",
       "      <td>3.621291</td>\n",
       "      <td>5167.035911</td>\n",
       "      <td>0.112654</td>\n",
       "    </tr>\n",
       "    <tr>\n",
       "      <th>std</th>\n",
       "      <td>10.42125</td>\n",
       "      <td>259.279249</td>\n",
       "      <td>2.770014</td>\n",
       "      <td>186.910907</td>\n",
       "      <td>0.494901</td>\n",
       "      <td>1.570960</td>\n",
       "      <td>0.578840</td>\n",
       "      <td>4.628198</td>\n",
       "      <td>1.734447</td>\n",
       "      <td>72.251528</td>\n",
       "      <td>0.316173</td>\n",
       "    </tr>\n",
       "    <tr>\n",
       "      <th>min</th>\n",
       "      <td>17.00000</td>\n",
       "      <td>0.000000</td>\n",
       "      <td>1.000000</td>\n",
       "      <td>0.000000</td>\n",
       "      <td>0.000000</td>\n",
       "      <td>-3.400000</td>\n",
       "      <td>92.201000</td>\n",
       "      <td>-50.800000</td>\n",
       "      <td>0.634000</td>\n",
       "      <td>4963.600000</td>\n",
       "      <td>0.000000</td>\n",
       "    </tr>\n",
       "    <tr>\n",
       "      <th>25%</th>\n",
       "      <td>32.00000</td>\n",
       "      <td>102.000000</td>\n",
       "      <td>1.000000</td>\n",
       "      <td>999.000000</td>\n",
       "      <td>0.000000</td>\n",
       "      <td>-1.800000</td>\n",
       "      <td>93.075000</td>\n",
       "      <td>-42.700000</td>\n",
       "      <td>1.344000</td>\n",
       "      <td>5099.100000</td>\n",
       "      <td>0.000000</td>\n",
       "    </tr>\n",
       "    <tr>\n",
       "      <th>50%</th>\n",
       "      <td>38.00000</td>\n",
       "      <td>180.000000</td>\n",
       "      <td>2.000000</td>\n",
       "      <td>999.000000</td>\n",
       "      <td>0.000000</td>\n",
       "      <td>1.100000</td>\n",
       "      <td>93.749000</td>\n",
       "      <td>-41.800000</td>\n",
       "      <td>4.857000</td>\n",
       "      <td>5191.000000</td>\n",
       "      <td>0.000000</td>\n",
       "    </tr>\n",
       "    <tr>\n",
       "      <th>75%</th>\n",
       "      <td>47.00000</td>\n",
       "      <td>319.000000</td>\n",
       "      <td>3.000000</td>\n",
       "      <td>999.000000</td>\n",
       "      <td>0.000000</td>\n",
       "      <td>1.400000</td>\n",
       "      <td>93.994000</td>\n",
       "      <td>-36.400000</td>\n",
       "      <td>4.961000</td>\n",
       "      <td>5228.100000</td>\n",
       "      <td>0.000000</td>\n",
       "    </tr>\n",
       "    <tr>\n",
       "      <th>max</th>\n",
       "      <td>98.00000</td>\n",
       "      <td>4918.000000</td>\n",
       "      <td>56.000000</td>\n",
       "      <td>999.000000</td>\n",
       "      <td>7.000000</td>\n",
       "      <td>1.400000</td>\n",
       "      <td>94.767000</td>\n",
       "      <td>-26.900000</td>\n",
       "      <td>5.045000</td>\n",
       "      <td>5228.100000</td>\n",
       "      <td>1.000000</td>\n",
       "    </tr>\n",
       "  </tbody>\n",
       "</table>\n",
       "</div>"
      ],
      "text/plain": [
       "               age      duration  ...   nr_employed             y\n",
       "count  41188.00000  41188.000000  ...  41188.000000  41188.000000\n",
       "mean      40.02406    258.285010  ...   5167.035911      0.112654\n",
       "std       10.42125    259.279249  ...     72.251528      0.316173\n",
       "min       17.00000      0.000000  ...   4963.600000      0.000000\n",
       "25%       32.00000    102.000000  ...   5099.100000      0.000000\n",
       "50%       38.00000    180.000000  ...   5191.000000      0.000000\n",
       "75%       47.00000    319.000000  ...   5228.100000      0.000000\n",
       "max       98.00000   4918.000000  ...   5228.100000      1.000000\n",
       "\n",
       "[8 rows x 11 columns]"
      ]
     },
     "execution_count": 18,
     "metadata": {},
     "output_type": "execute_result"
    }
   ],
   "source": [
    "df.describe()"
   ]
  },
  {
   "cell_type": "code",
   "execution_count": null,
   "metadata": {
    "colab": {
     "base_uri": "https://localhost:8080/"
    },
    "executionInfo": {
     "elapsed": 6,
     "status": "ok",
     "timestamp": 1629820439469,
     "user": {
      "displayName": "Shubham Pandey",
      "photoUrl": "",
      "userId": "11107096691217343757"
     },
     "user_tz": -330
    },
    "id": "KP1bBZMw-TvS",
    "outputId": "cc4b5c64-99f6-4c80-9ce9-27a36be20098"
   },
   "outputs": [
    {
     "name": "stdout",
     "output_type": "stream",
     "text": [
      "\n",
      "\n",
      "job has  ['blue-collar' 'technician' 'management' 'services' 'retired' 'admin.'\n",
      " 'housemaid' 'unemployed' 'entrepreneur' 'self-employed' 'unknown'\n",
      " 'student']  \n",
      "\n",
      "admin.           10422\n",
      "blue-collar       9254\n",
      "technician        6743\n",
      "services          3969\n",
      "management        2924\n",
      "retired           1720\n",
      "entrepreneur      1456\n",
      "self-employed     1421\n",
      "housemaid         1060\n",
      "unemployed        1014\n",
      "student            875\n",
      "unknown            330\n",
      "Name: job, dtype: int64\n",
      "\n",
      "\n",
      "marital has  ['married' 'single' 'divorced' 'unknown']  \n",
      "\n",
      "married     24928\n",
      "single      11568\n",
      "divorced     4612\n",
      "unknown        80\n",
      "Name: marital, dtype: int64\n",
      "\n",
      "\n",
      "education has  ['basic.4y' 'unknown' 'university.degree' 'high.school' 'basic.9y'\n",
      " 'professional.course' 'basic.6y' 'illiterate']  \n",
      "\n",
      "university.degree      12168\n",
      "high.school             9515\n",
      "basic.9y                6045\n",
      "professional.course     5243\n",
      "basic.4y                4176\n",
      "basic.6y                2292\n",
      "unknown                 1731\n",
      "illiterate                18\n",
      "Name: education, dtype: int64\n",
      "\n",
      "\n",
      "default has  ['unknown' 'no' 'yes']  \n",
      "\n",
      "no         32588\n",
      "unknown     8597\n",
      "yes            3\n",
      "Name: default, dtype: int64\n",
      "\n",
      "\n",
      "housing has  ['yes' 'no' 'unknown']  \n",
      "\n",
      "yes        21576\n",
      "no         18622\n",
      "unknown      990\n",
      "Name: housing, dtype: int64\n",
      "\n",
      "\n",
      "loan has  ['no' 'yes' 'unknown']  \n",
      "\n",
      "no         33950\n",
      "yes         6248\n",
      "unknown      990\n",
      "Name: loan, dtype: int64\n",
      "\n",
      "\n",
      "contact has  ['cellular' 'telephone']  \n",
      "\n",
      "cellular     26144\n",
      "telephone    15044\n",
      "Name: contact, dtype: int64\n",
      "\n",
      "\n",
      "month has  ['aug' 'nov' 'jun' 'apr' 'jul' 'may' 'oct' 'mar' 'sep' 'dec']  \n",
      "\n",
      "may    13769\n",
      "jul     7174\n",
      "aug     6178\n",
      "jun     5318\n",
      "nov     4101\n",
      "apr     2632\n",
      "oct      718\n",
      "sep      570\n",
      "mar      546\n",
      "dec      182\n",
      "Name: month, dtype: int64\n",
      "\n",
      "\n",
      "day_of_week has  ['thu' 'fri' 'tue' 'mon' 'wed']  \n",
      "\n",
      "thu    8623\n",
      "mon    8514\n",
      "wed    8134\n",
      "tue    8090\n",
      "fri    7827\n",
      "Name: day_of_week, dtype: int64\n",
      "\n",
      "\n",
      "\n",
      "\n",
      "\n",
      "\n",
      "\n",
      "\n",
      "\n",
      "\n",
      "poutcome has  ['nonexistent' 'success' 'failure']  \n",
      "\n",
      "nonexistent    35563\n",
      "failure         4252\n",
      "success         1373\n",
      "Name: poutcome, dtype: int64\n",
      "\n",
      "\n",
      "\n",
      "\n",
      "\n",
      "\n",
      "\n",
      "\n",
      "\n",
      "\n",
      "\n",
      "\n",
      "\n",
      "\n"
     ]
    }
   ],
   "source": [
    "for column in df:\n",
    "  if df[column].dtype == object:\n",
    "    print(\"{c} has  {v}  \\n\".format(c= column, v = df[column].unique()))\n",
    "    print(df[column].value_counts() )\n",
    "  print('\\n')"
   ]
  },
  {
   "cell_type": "markdown",
   "metadata": {
    "id": "K2hfXs3N65GR"
   },
   "source": [
    "6-7)    Use pd.query(), iloc, loc and range subsetting to extract insights from the data. You will be evaluated on the quality of your queries and the rationale behind selecting them. You can extract upto five (5) separate insights from the data.\n",
    "\n",
    " "
   ]
  },
  {
   "cell_type": "code",
   "execution_count": null,
   "metadata": {
    "colab": {
     "base_uri": "https://localhost:8080/",
     "height": 848
    },
    "executionInfo": {
     "elapsed": 432,
     "status": "ok",
     "timestamp": 1629828758111,
     "user": {
      "displayName": "Shubham Pandey",
      "photoUrl": "",
      "userId": "11107096691217343757"
     },
     "user_tz": -330
    },
    "id": "j2JxLHVBStOC",
    "outputId": "91832b7d-88d6-4373-cd8d-51d1d7eed3c9"
   },
   "outputs": [
    {
     "data": {
      "text/html": [
       "<div>\n",
       "<style scoped>\n",
       "    .dataframe tbody tr th:only-of-type {\n",
       "        vertical-align: middle;\n",
       "    }\n",
       "\n",
       "    .dataframe tbody tr th {\n",
       "        vertical-align: top;\n",
       "    }\n",
       "\n",
       "    .dataframe thead tr th {\n",
       "        text-align: left;\n",
       "    }\n",
       "\n",
       "    .dataframe thead tr:last-of-type th {\n",
       "        text-align: right;\n",
       "    }\n",
       "</style>\n",
       "<table border=\"1\" class=\"dataframe\">\n",
       "  <thead>\n",
       "    <tr>\n",
       "      <th></th>\n",
       "      <th></th>\n",
       "      <th>duration</th>\n",
       "      <th>y</th>\n",
       "    </tr>\n",
       "    <tr>\n",
       "      <th></th>\n",
       "      <th></th>\n",
       "      <th>mean</th>\n",
       "      <th>count</th>\n",
       "    </tr>\n",
       "    <tr>\n",
       "      <th>job</th>\n",
       "      <th>y</th>\n",
       "      <th></th>\n",
       "      <th></th>\n",
       "    </tr>\n",
       "  </thead>\n",
       "  <tbody>\n",
       "    <tr>\n",
       "      <th rowspan=\"2\" valign=\"top\">admin.</th>\n",
       "      <th>0</th>\n",
       "      <td>215.093385</td>\n",
       "      <td>9070</td>\n",
       "    </tr>\n",
       "    <tr>\n",
       "      <th>1</th>\n",
       "      <td>517.414201</td>\n",
       "      <td>1352</td>\n",
       "    </tr>\n",
       "    <tr>\n",
       "      <th rowspan=\"2\" valign=\"top\">blue-collar</th>\n",
       "      <th>0</th>\n",
       "      <td>229.878018</td>\n",
       "      <td>8616</td>\n",
       "    </tr>\n",
       "    <tr>\n",
       "      <th>1</th>\n",
       "      <td>732.673981</td>\n",
       "      <td>638</td>\n",
       "    </tr>\n",
       "    <tr>\n",
       "      <th rowspan=\"2\" valign=\"top\">entrepreneur</th>\n",
       "      <th>0</th>\n",
       "      <td>225.632883</td>\n",
       "      <td>1332</td>\n",
       "    </tr>\n",
       "    <tr>\n",
       "      <th>1</th>\n",
       "      <td>667.540323</td>\n",
       "      <td>124</td>\n",
       "    </tr>\n",
       "    <tr>\n",
       "      <th rowspan=\"2\" valign=\"top\">housemaid</th>\n",
       "      <th>0</th>\n",
       "      <td>218.778826</td>\n",
       "      <td>954</td>\n",
       "    </tr>\n",
       "    <tr>\n",
       "      <th>1</th>\n",
       "      <td>535.537736</td>\n",
       "      <td>106</td>\n",
       "    </tr>\n",
       "    <tr>\n",
       "      <th rowspan=\"2\" valign=\"top\">management</th>\n",
       "      <th>0</th>\n",
       "      <td>220.828197</td>\n",
       "      <td>2596</td>\n",
       "    </tr>\n",
       "    <tr>\n",
       "      <th>1</th>\n",
       "      <td>543.804878</td>\n",
       "      <td>328</td>\n",
       "    </tr>\n",
       "    <tr>\n",
       "      <th rowspan=\"2\" valign=\"top\">retired</th>\n",
       "      <th>0</th>\n",
       "      <td>224.263608</td>\n",
       "      <td>1286</td>\n",
       "    </tr>\n",
       "    <tr>\n",
       "      <th>1</th>\n",
       "      <td>420.235023</td>\n",
       "      <td>434</td>\n",
       "    </tr>\n",
       "    <tr>\n",
       "      <th rowspan=\"2\" valign=\"top\">self-employed</th>\n",
       "      <th>0</th>\n",
       "      <td>222.220912</td>\n",
       "      <td>1272</td>\n",
       "    </tr>\n",
       "    <tr>\n",
       "      <th>1</th>\n",
       "      <td>622.020134</td>\n",
       "      <td>149</td>\n",
       "    </tr>\n",
       "    <tr>\n",
       "      <th rowspan=\"2\" valign=\"top\">services</th>\n",
       "      <th>0</th>\n",
       "      <td>225.047998</td>\n",
       "      <td>3646</td>\n",
       "    </tr>\n",
       "    <tr>\n",
       "      <th>1</th>\n",
       "      <td>634.851393</td>\n",
       "      <td>323</td>\n",
       "    </tr>\n",
       "    <tr>\n",
       "      <th rowspan=\"2\" valign=\"top\">student</th>\n",
       "      <th>0</th>\n",
       "      <td>228.851667</td>\n",
       "      <td>600</td>\n",
       "    </tr>\n",
       "    <tr>\n",
       "      <th>1</th>\n",
       "      <td>403.316364</td>\n",
       "      <td>275</td>\n",
       "    </tr>\n",
       "    <tr>\n",
       "      <th rowspan=\"2\" valign=\"top\">technician</th>\n",
       "      <th>0</th>\n",
       "      <td>213.452021</td>\n",
       "      <td>6013</td>\n",
       "    </tr>\n",
       "    <tr>\n",
       "      <th>1</th>\n",
       "      <td>553.190411</td>\n",
       "      <td>730</td>\n",
       "    </tr>\n",
       "    <tr>\n",
       "      <th rowspan=\"2\" valign=\"top\">unemployed</th>\n",
       "      <th>0</th>\n",
       "      <td>212.706897</td>\n",
       "      <td>870</td>\n",
       "    </tr>\n",
       "    <tr>\n",
       "      <th>1</th>\n",
       "      <td>471.451389</td>\n",
       "      <td>144</td>\n",
       "    </tr>\n",
       "    <tr>\n",
       "      <th rowspan=\"2\" valign=\"top\">unknown</th>\n",
       "      <th>0</th>\n",
       "      <td>204.559727</td>\n",
       "      <td>293</td>\n",
       "    </tr>\n",
       "    <tr>\n",
       "      <th>1</th>\n",
       "      <td>517.756757</td>\n",
       "      <td>37</td>\n",
       "    </tr>\n",
       "  </tbody>\n",
       "</table>\n",
       "</div>"
      ],
      "text/plain": [
       "                   duration     y\n",
       "                       mean count\n",
       "job           y                  \n",
       "admin.        0  215.093385  9070\n",
       "              1  517.414201  1352\n",
       "blue-collar   0  229.878018  8616\n",
       "              1  732.673981   638\n",
       "entrepreneur  0  225.632883  1332\n",
       "              1  667.540323   124\n",
       "housemaid     0  218.778826   954\n",
       "              1  535.537736   106\n",
       "management    0  220.828197  2596\n",
       "              1  543.804878   328\n",
       "retired       0  224.263608  1286\n",
       "              1  420.235023   434\n",
       "self-employed 0  222.220912  1272\n",
       "              1  622.020134   149\n",
       "services      0  225.047998  3646\n",
       "              1  634.851393   323\n",
       "student       0  228.851667   600\n",
       "              1  403.316364   275\n",
       "technician    0  213.452021  6013\n",
       "              1  553.190411   730\n",
       "unemployed    0  212.706897   870\n",
       "              1  471.451389   144\n",
       "unknown       0  204.559727   293\n",
       "              1  517.756757    37"
      ]
     },
     "execution_count": 49,
     "metadata": {},
     "output_type": "execute_result"
    }
   ],
   "source": [
    "df.loc[:,[\"job\", \"duration\",\"y\",'campaign']].groupby([\"job\",\"y\"]).agg({'duration' : ['mean'], 'y' : ['count']})"
   ]
  },
  {
   "cell_type": "markdown",
   "metadata": {
    "id": "VL-DE8wVW36b"
   },
   "source": [
    "Insight_1 - \n",
    "\n",
    "For all the given job roles, the number people who have not subscribed is more than the number people who have subscribed\n",
    "\n",
    "Those who have not subscribed have lesser average duration , whereas those who have subscribed have larger average duration.\n",
    "\n"
   ]
  },
  {
   "cell_type": "code",
   "execution_count": null,
   "metadata": {
    "colab": {
     "base_uri": "https://localhost:8080/",
     "height": 417
    },
    "executionInfo": {
     "elapsed": 473,
     "status": "ok",
     "timestamp": 1629832192913,
     "user": {
      "displayName": "Shubham Pandey",
      "photoUrl": "",
      "userId": "11107096691217343757"
     },
     "user_tz": -330
    },
    "id": "NWoiNxqR0TJX",
    "outputId": "5a5db361-ddcc-4bde-b95e-c46221037c3b"
   },
   "outputs": [
    {
     "data": {
      "text/html": [
       "<div>\n",
       "<style scoped>\n",
       "    .dataframe tbody tr th:only-of-type {\n",
       "        vertical-align: middle;\n",
       "    }\n",
       "\n",
       "    .dataframe tbody tr th {\n",
       "        vertical-align: top;\n",
       "    }\n",
       "\n",
       "    .dataframe thead tr th {\n",
       "        text-align: left;\n",
       "    }\n",
       "\n",
       "    .dataframe thead tr:last-of-type th {\n",
       "        text-align: right;\n",
       "    }\n",
       "</style>\n",
       "<table border=\"1\" class=\"dataframe\">\n",
       "  <thead>\n",
       "    <tr>\n",
       "      <th></th>\n",
       "      <th>campaign</th>\n",
       "      <th>y</th>\n",
       "    </tr>\n",
       "    <tr>\n",
       "      <th></th>\n",
       "      <th>count</th>\n",
       "      <th>sum</th>\n",
       "    </tr>\n",
       "    <tr>\n",
       "      <th>month</th>\n",
       "      <th></th>\n",
       "      <th></th>\n",
       "    </tr>\n",
       "  </thead>\n",
       "  <tbody>\n",
       "    <tr>\n",
       "      <th>apr</th>\n",
       "      <td>2632</td>\n",
       "      <td>539</td>\n",
       "    </tr>\n",
       "    <tr>\n",
       "      <th>aug</th>\n",
       "      <td>6178</td>\n",
       "      <td>655</td>\n",
       "    </tr>\n",
       "    <tr>\n",
       "      <th>dec</th>\n",
       "      <td>182</td>\n",
       "      <td>89</td>\n",
       "    </tr>\n",
       "    <tr>\n",
       "      <th>jul</th>\n",
       "      <td>7174</td>\n",
       "      <td>649</td>\n",
       "    </tr>\n",
       "    <tr>\n",
       "      <th>jun</th>\n",
       "      <td>5318</td>\n",
       "      <td>559</td>\n",
       "    </tr>\n",
       "    <tr>\n",
       "      <th>mar</th>\n",
       "      <td>546</td>\n",
       "      <td>276</td>\n",
       "    </tr>\n",
       "    <tr>\n",
       "      <th>may</th>\n",
       "      <td>13769</td>\n",
       "      <td>886</td>\n",
       "    </tr>\n",
       "    <tr>\n",
       "      <th>nov</th>\n",
       "      <td>4101</td>\n",
       "      <td>416</td>\n",
       "    </tr>\n",
       "    <tr>\n",
       "      <th>oct</th>\n",
       "      <td>718</td>\n",
       "      <td>315</td>\n",
       "    </tr>\n",
       "    <tr>\n",
       "      <th>sep</th>\n",
       "      <td>570</td>\n",
       "      <td>256</td>\n",
       "    </tr>\n",
       "  </tbody>\n",
       "</table>\n",
       "</div>"
      ],
      "text/plain": [
       "      campaign    y\n",
       "         count  sum\n",
       "month              \n",
       "apr       2632  539\n",
       "aug       6178  655\n",
       "dec        182   89\n",
       "jul       7174  649\n",
       "jun       5318  559\n",
       "mar        546  276\n",
       "may      13769  886\n",
       "nov       4101  416\n",
       "oct        718  315\n",
       "sep        570  256"
      ]
     },
     "execution_count": 73,
     "metadata": {},
     "output_type": "execute_result"
    }
   ],
   "source": [
    "df.loc[:,[\"month\",'campaign','y']].groupby(['month']).agg({'campaign' : ['count'], 'y':['sum']})"
   ]
  },
  {
   "cell_type": "markdown",
   "metadata": {
    "id": "ENeOk97OZiDS"
   },
   "source": [
    "Insight_2 - \n",
    "Most of the campaigns occured in the month of april, may, june, july, aug. The highest amount of campaigns occured in the month of May. Also, the number of people subscribed is high in the month in which number of campaigns is high.\n"
   ]
  },
  {
   "cell_type": "code",
   "execution_count": null,
   "metadata": {
    "colab": {
     "base_uri": "https://localhost:8080/",
     "height": 633
    },
    "executionInfo": {
     "elapsed": 492,
     "status": "ok",
     "timestamp": 1629831592404,
     "user": {
      "displayName": "Shubham Pandey",
      "photoUrl": "",
      "userId": "11107096691217343757"
     },
     "user_tz": -330
    },
    "id": "AnM7AENcb-fN",
    "outputId": "0cd225b5-e973-441b-bb6e-6e0ec25383c7"
   },
   "outputs": [
    {
     "data": {
      "text/html": [
       "<div>\n",
       "<style scoped>\n",
       "    .dataframe tbody tr th:only-of-type {\n",
       "        vertical-align: middle;\n",
       "    }\n",
       "\n",
       "    .dataframe tbody tr th {\n",
       "        vertical-align: top;\n",
       "    }\n",
       "\n",
       "    .dataframe thead tr th {\n",
       "        text-align: left;\n",
       "    }\n",
       "\n",
       "    .dataframe thead tr:last-of-type th {\n",
       "        text-align: right;\n",
       "    }\n",
       "</style>\n",
       "<table border=\"1\" class=\"dataframe\">\n",
       "  <thead>\n",
       "    <tr>\n",
       "      <th></th>\n",
       "      <th>duration</th>\n",
       "      <th>y</th>\n",
       "    </tr>\n",
       "    <tr>\n",
       "      <th></th>\n",
       "      <th>sum</th>\n",
       "      <th>sum</th>\n",
       "    </tr>\n",
       "    <tr>\n",
       "      <th>campaign</th>\n",
       "      <th></th>\n",
       "      <th></th>\n",
       "    </tr>\n",
       "  </thead>\n",
       "  <tbody>\n",
       "    <tr>\n",
       "      <th>1</th>\n",
       "      <td>1142595</td>\n",
       "      <td>2300</td>\n",
       "    </tr>\n",
       "    <tr>\n",
       "      <th>2</th>\n",
       "      <td>691343</td>\n",
       "      <td>1211</td>\n",
       "    </tr>\n",
       "    <tr>\n",
       "      <th>3</th>\n",
       "      <td>354787</td>\n",
       "      <td>574</td>\n",
       "    </tr>\n",
       "    <tr>\n",
       "      <th>4</th>\n",
       "      <td>161727</td>\n",
       "      <td>249</td>\n",
       "    </tr>\n",
       "    <tr>\n",
       "      <th>5</th>\n",
       "      <td>75974</td>\n",
       "      <td>120</td>\n",
       "    </tr>\n",
       "    <tr>\n",
       "      <th>6</th>\n",
       "      <td>51681</td>\n",
       "      <td>75</td>\n",
       "    </tr>\n",
       "    <tr>\n",
       "      <th>7</th>\n",
       "      <td>30061</td>\n",
       "      <td>38</td>\n",
       "    </tr>\n",
       "    <tr>\n",
       "      <th>8</th>\n",
       "      <td>12346</td>\n",
       "      <td>17</td>\n",
       "    </tr>\n",
       "    <tr>\n",
       "      <th>9</th>\n",
       "      <td>13659</td>\n",
       "      <td>17</td>\n",
       "    </tr>\n",
       "    <tr>\n",
       "      <th>10</th>\n",
       "      <td>10834</td>\n",
       "      <td>12</td>\n",
       "    </tr>\n",
       "    <tr>\n",
       "      <th>11</th>\n",
       "      <td>9751</td>\n",
       "      <td>12</td>\n",
       "    </tr>\n",
       "    <tr>\n",
       "      <th>12</th>\n",
       "      <td>2008</td>\n",
       "      <td>3</td>\n",
       "    </tr>\n",
       "    <tr>\n",
       "      <th>13</th>\n",
       "      <td>3409</td>\n",
       "      <td>4</td>\n",
       "    </tr>\n",
       "    <tr>\n",
       "      <th>14</th>\n",
       "      <td>1088</td>\n",
       "      <td>1</td>\n",
       "    </tr>\n",
       "    <tr>\n",
       "      <th>15</th>\n",
       "      <td>1621</td>\n",
       "      <td>2</td>\n",
       "    </tr>\n",
       "    <tr>\n",
       "      <th>17</th>\n",
       "      <td>3272</td>\n",
       "      <td>4</td>\n",
       "    </tr>\n",
       "    <tr>\n",
       "      <th>23</th>\n",
       "      <td>651</td>\n",
       "      <td>1</td>\n",
       "    </tr>\n",
       "  </tbody>\n",
       "</table>\n",
       "</div>"
      ],
      "text/plain": [
       "         duration     y\n",
       "              sum   sum\n",
       "campaign               \n",
       "1         1142595  2300\n",
       "2          691343  1211\n",
       "3          354787   574\n",
       "4          161727   249\n",
       "5           75974   120\n",
       "6           51681    75\n",
       "7           30061    38\n",
       "8           12346    17\n",
       "9           13659    17\n",
       "10          10834    12\n",
       "11           9751    12\n",
       "12           2008     3\n",
       "13           3409     4\n",
       "14           1088     1\n",
       "15           1621     2\n",
       "17           3272     4\n",
       "23            651     1"
      ]
     },
     "execution_count": 62,
     "metadata": {},
     "output_type": "execute_result"
    }
   ],
   "source": [
    "df.loc[df['y'] == 1, [\"campaign\",'duration','y']].groupby(['campaign']).agg({'duration' : ['sum'],'y' : ['sum'] })"
   ]
  },
  {
   "cell_type": "markdown",
   "metadata": {
    "id": "1dPoYChPian4"
   },
   "source": [
    "Insight_3 - The Campaign with higher duration has higer number of people who subscribed and vice versa.\n",
    "\n",
    "\n"
   ]
  },
  {
   "cell_type": "code",
   "execution_count": null,
   "metadata": {
    "colab": {
     "base_uri": "https://localhost:8080/",
     "height": 233
    },
    "executionInfo": {
     "elapsed": 713,
     "status": "ok",
     "timestamp": 1629832446191,
     "user": {
      "displayName": "Shubham Pandey",
      "photoUrl": "",
      "userId": "11107096691217343757"
     },
     "user_tz": -330
    },
    "id": "hXmrdENGiqSA",
    "outputId": "bc7291e9-477c-48ab-8dc2-8779eb1323b9"
   },
   "outputs": [
    {
     "data": {
      "text/html": [
       "<div>\n",
       "<style scoped>\n",
       "    .dataframe tbody tr th:only-of-type {\n",
       "        vertical-align: middle;\n",
       "    }\n",
       "\n",
       "    .dataframe tbody tr th {\n",
       "        vertical-align: top;\n",
       "    }\n",
       "\n",
       "    .dataframe thead tr th {\n",
       "        text-align: left;\n",
       "    }\n",
       "\n",
       "    .dataframe thead tr:last-of-type th {\n",
       "        text-align: right;\n",
       "    }\n",
       "</style>\n",
       "<table border=\"1\" class=\"dataframe\">\n",
       "  <thead>\n",
       "    <tr>\n",
       "      <th></th>\n",
       "      <th>y</th>\n",
       "    </tr>\n",
       "    <tr>\n",
       "      <th></th>\n",
       "      <th>sum</th>\n",
       "    </tr>\n",
       "    <tr>\n",
       "      <th>marital</th>\n",
       "      <th></th>\n",
       "    </tr>\n",
       "  </thead>\n",
       "  <tbody>\n",
       "    <tr>\n",
       "      <th>divorced</th>\n",
       "      <td>476</td>\n",
       "    </tr>\n",
       "    <tr>\n",
       "      <th>married</th>\n",
       "      <td>2532</td>\n",
       "    </tr>\n",
       "    <tr>\n",
       "      <th>single</th>\n",
       "      <td>1620</td>\n",
       "    </tr>\n",
       "    <tr>\n",
       "      <th>unknown</th>\n",
       "      <td>12</td>\n",
       "    </tr>\n",
       "  </tbody>\n",
       "</table>\n",
       "</div>"
      ],
      "text/plain": [
       "             y\n",
       "           sum\n",
       "marital       \n",
       "divorced   476\n",
       "married   2532\n",
       "single    1620\n",
       "unknown     12"
      ]
     },
     "execution_count": 75,
     "metadata": {},
     "output_type": "execute_result"
    }
   ],
   "source": [
    "df.loc[df['y'] == 1, [\"marital\",'y']].groupby(['marital']).agg({'y' : ['sum'] })\n"
   ]
  },
  {
   "cell_type": "markdown",
   "metadata": {
    "id": "BLxyqnxvlgW3"
   },
   "source": [
    "Insight_4 - Married people made the highest number of subscriptions follwed by single, whereas those who are divorced made least number of subscriptions."
   ]
  },
  {
   "cell_type": "code",
   "execution_count": null,
   "metadata": {
    "colab": {
     "base_uri": "https://localhost:8080/",
     "height": 356
    },
    "executionInfo": {
     "elapsed": 434,
     "status": "ok",
     "timestamp": 1629832469569,
     "user": {
      "displayName": "Shubham Pandey",
      "photoUrl": "",
      "userId": "11107096691217343757"
     },
     "user_tz": -330
    },
    "id": "AHpdj_X5jjbL",
    "outputId": "0d62ae1e-566c-4a4e-a614-99cb635b3975"
   },
   "outputs": [
    {
     "data": {
      "text/html": [
       "<div>\n",
       "<style scoped>\n",
       "    .dataframe tbody tr th:only-of-type {\n",
       "        vertical-align: middle;\n",
       "    }\n",
       "\n",
       "    .dataframe tbody tr th {\n",
       "        vertical-align: top;\n",
       "    }\n",
       "\n",
       "    .dataframe thead tr th {\n",
       "        text-align: left;\n",
       "    }\n",
       "\n",
       "    .dataframe thead tr:last-of-type th {\n",
       "        text-align: right;\n",
       "    }\n",
       "</style>\n",
       "<table border=\"1\" class=\"dataframe\">\n",
       "  <thead>\n",
       "    <tr>\n",
       "      <th></th>\n",
       "      <th>y</th>\n",
       "    </tr>\n",
       "    <tr>\n",
       "      <th></th>\n",
       "      <th>sum</th>\n",
       "    </tr>\n",
       "    <tr>\n",
       "      <th>education</th>\n",
       "      <th></th>\n",
       "    </tr>\n",
       "  </thead>\n",
       "  <tbody>\n",
       "    <tr>\n",
       "      <th>basic.4y</th>\n",
       "      <td>428</td>\n",
       "    </tr>\n",
       "    <tr>\n",
       "      <th>basic.6y</th>\n",
       "      <td>188</td>\n",
       "    </tr>\n",
       "    <tr>\n",
       "      <th>basic.9y</th>\n",
       "      <td>473</td>\n",
       "    </tr>\n",
       "    <tr>\n",
       "      <th>high.school</th>\n",
       "      <td>1031</td>\n",
       "    </tr>\n",
       "    <tr>\n",
       "      <th>illiterate</th>\n",
       "      <td>4</td>\n",
       "    </tr>\n",
       "    <tr>\n",
       "      <th>professional.course</th>\n",
       "      <td>595</td>\n",
       "    </tr>\n",
       "    <tr>\n",
       "      <th>university.degree</th>\n",
       "      <td>1670</td>\n",
       "    </tr>\n",
       "    <tr>\n",
       "      <th>unknown</th>\n",
       "      <td>251</td>\n",
       "    </tr>\n",
       "  </tbody>\n",
       "</table>\n",
       "</div>"
      ],
      "text/plain": [
       "                        y\n",
       "                      sum\n",
       "education                \n",
       "basic.4y              428\n",
       "basic.6y              188\n",
       "basic.9y              473\n",
       "high.school          1031\n",
       "illiterate              4\n",
       "professional.course   595\n",
       "university.degree    1670\n",
       "unknown               251"
      ]
     },
     "execution_count": 76,
     "metadata": {},
     "output_type": "execute_result"
    }
   ],
   "source": [
    "df.loc[df['y'] == 1, [\"education\",'y']].groupby(['education']).agg({'y' : ['sum'] })"
   ]
  },
  {
   "cell_type": "markdown",
   "metadata": {
    "id": "3fStKjwSl8ag"
   },
   "source": [
    "Insight_5 - Professional course people made the highest number of subscriptions follwed by university degree people, whereas illiterate made least number of subscriptions."
   ]
  },
  {
   "cell_type": "code",
   "execution_count": null,
   "metadata": {
    "id": "5b6upBo2ldfh"
   },
   "outputs": [],
   "source": []
  }
 ],
 "metadata": {
  "colab": {
   "authorship_tag": "ABX9TyMC5oN0EjMLU7S9w0HA+ANa",
   "collapsed_sections": [],
   "name": "Assignment 1 - Python Basics.ipynb",
   "provenance": []
  },
  "kernelspec": {
   "display_name": "Python3",
   "language": "python",
   "name": "python3"
  },
  "language_info": {
   "codemirror_mode": {
    "name": "ipython",
    "version": 3
   },
   "file_extension": ".py",
   "mimetype": "text/x-python",
   "name": "python",
   "nbconvert_exporter": "python",
   "pygments_lexer": "ipython3",
   "version": "3.7.10"
  }
 },
 "nbformat": 4,
 "nbformat_minor": 4
}
