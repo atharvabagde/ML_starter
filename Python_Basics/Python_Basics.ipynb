{
 "cells": [
  {
   "cell_type": "markdown",
   "metadata": {
    "id": "ctBYg8I9wgHa"
   },
   "source": [
    " Question 1: Given a list of tuples, find the number of occurrences of each tuple in the list."
   ]
  },
  {
   "cell_type": "code",
   "execution_count": null,
   "metadata": {
    "colab": {
     "base_uri": "https://localhost:8080/"
    },
    "executionInfo": {
     "elapsed": 1684,
     "status": "ok",
     "timestamp": 1629820324853,
     "user": {
      "displayName": "Shubham Pandey",
      "photoUrl": "",
      "userId": "11107096691217343757"
     },
     "user_tz": -330
    },
    "id": "6LpBQKd0MNYL",
    "outputId": "ec43101f-a377-48b7-b210-f437121b18c6"
   },
   "outputs": [
    {
     "name": "stdout",
     "output_type": "stream",
     "text": [
      "Total number of items = 38\n",
      "Total frequency count = 38\n",
      "defaultdict(<class 'int'>, {('a', 'alex'): 5, ('b', 'fred'): 3, ('c', 'Ted'): 5, ('d', 'Red'): 4, ('p', 'Grey'): 6, ('e', 'Frank'): 3, ('i', 'Moon'): 4, ('t', 'Tim'): 3, ('g', 'mandy'): 5})\n"
     ]
    }
   ],
   "source": [
    "\n",
    "Input = [\n",
    "          ('a', 'alex'),\n",
    "          ('b', 'fred'),\n",
    "          ('c', 'Ted'),\n",
    "          ('d', 'Red'),\n",
    "          ('p', 'Grey'),\n",
    "          ('a', 'alex'),\n",
    "          ('e', 'Frank'),\n",
    "          ('d', 'Red'),\n",
    "          ('i', 'Moon'),\n",
    "          ('t', 'Tim'),\n",
    "          ('b', 'fred'),\n",
    "          ('c', 'Ted'),\n",
    "          ('g', 'mandy'),\n",
    "          ('a', 'alex'),\n",
    "          ('p', 'Grey'),\n",
    "          ('c', 'Ted'),\n",
    "          ('e', 'Frank'),\n",
    "          ('d', 'Red'),\n",
    "          ('a', 'alex'),\n",
    "          ('p', 'Grey'),\n",
    "          ('t', 'Tim'),\n",
    "          ('g', 'mandy'),\n",
    "          ('c', 'Ted'),\n",
    "          ('i', 'Moon'),\n",
    "          ('b', 'fred'),\n",
    "          ('a', 'alex'),\n",
    "          ('i', 'Moon'),\n",
    "          ('p', 'Grey'),\n",
    "          ('d', 'Red'),\n",
    "          ('g', 'mandy'),\n",
    "          ('c', 'Ted'),\n",
    "          ('p', 'Grey'),\n",
    "          ('e', 'Frank'),\n",
    "          ('t', 'Tim'),\n",
    "          ('g', 'mandy'),\n",
    "          ('p', 'Grey'),\n",
    "          ('g', 'mandy'),\n",
    "          ('i', 'Moon')\n",
    "]\n",
    "\n",
    "def occurence_count(Input):  \n",
    "  import collections\n",
    "  frequency = collections.defaultdict(int)\n",
    "\n",
    "  for item in Input:\n",
    "    frequency[item] += 1\n",
    "  \n",
    "  print(\"Total number of items = \" + str(len(Input)))\n",
    "  print(\"Total frequency count = \" + str(sum([frequency[i] for i in frequency])))\n",
    "\n",
    "  return frequency\n",
    "\n",
    "print(occurence_count(Input))"
   ]
  },
  {
   "cell_type": "markdown",
   "metadata": {
    "id": "qvSCYNjZwmTC"
   },
   "source": [
    "Question 2: Create a list of 10 random numbers between 1-100. Create a balanced BST (Binary search tree) from this array\n"
   ]
  },
  {
   "cell_type": "code",
   "execution_count": null,
   "metadata": {
    "colab": {
     "base_uri": "https://localhost:8080/"
    },
    "executionInfo": {
     "elapsed": 3,
     "status": "ok",
     "timestamp": 1629820326365,
     "user": {
      "displayName": "Shubham Pandey",
      "photoUrl": "",
      "userId": "11107096691217343757"
     },
     "user_tz": -330
    },
    "id": "FPqAogws9bQ3",
    "outputId": "d734f467-44c4-4721-e785-6cda44ce9cb6"
   },
   "outputs": [
    {
     "name": "stdout",
     "output_type": "stream",
     "text": [
      "[59, 75, 68, 5, 32, 37, 86, 82, 27, 17]\n",
      "5\n",
      "17\n",
      "27\n",
      "32\n",
      "37\n",
      "59\n",
      "68\n",
      "75\n",
      "82\n",
      "86\n"
     ]
    }
   ],
   "source": [
    "\n",
    "import random\n",
    "\n",
    "def random_num_generator(n):\n",
    "  random.seed(40)\n",
    "  random_num_list = random.sample(range(1,101), n)\n",
    "  return random_num_list\n",
    "\n",
    "class Node:\n",
    "  def __init__(self, key):\n",
    "    self.left = None\n",
    "    self.right = None\n",
    "    self.node_value = key\n",
    "\n",
    "def insert_key(root, key):\n",
    "  if root == None :\n",
    "    root = Node(key)\n",
    "    return root\n",
    "\n",
    "  else:\n",
    "    if root.node_value == key:\n",
    "      return root\n",
    "\n",
    "    elif root.node_value > key :\n",
    "      root.left = insert_key(root.left, key)\n",
    "      return root\n",
    "\n",
    "    else :\n",
    "      root.right = insert_key(root.right, key)\n",
    "      return root\n",
    "\n",
    "def Build_BST(arr):\n",
    "  root = None\n",
    "  for i in arr:\n",
    "    root = insert_key(root,i)\n",
    "  return root\n",
    "\n",
    "def show_inorder(node):\n",
    "    if not node:\n",
    "      return\n",
    "    else:\n",
    "        show_inorder(node.left)\n",
    "        print(node.node_value)\n",
    "        show_inorder(node.right)\n",
    "\n",
    "input = random_num_generator(10)\n",
    "print(input)\n",
    "\n",
    "root_node = Build_BST(input)\n",
    "show_inorder(root_node)"
   ]
  },
  {
   "cell_type": "markdown",
   "metadata": {
    "id": "g5IijaqzwsO6"
   },
   "source": [
    " Question 3: Given the following dictionary:# \n"
   ]
  },
  {
   "cell_type": "code",
   "execution_count": null,
   "metadata": {
    "colab": {
     "base_uri": "https://localhost:8080/"
    },
    "executionInfo": {
     "elapsed": 5,
     "status": "ok",
     "timestamp": 1629820329427,
     "user": {
      "displayName": "Shubham Pandey",
      "photoUrl": "",
      "userId": "11107096691217343757"
     },
     "user_tz": -330
    },
    "id": "FK_PM3nkCovw",
    "outputId": "9a573358-9aa6-4a76-a953-545ca6fcf317"
   },
   "outputs": [],
   "source": [
    "\n",
    "\n",
    "# { ‘black :’r’,\n",
    "#   ‘hero’:‘e’,\n",
    "#   ‘go’:’g’,\n",
    "#   ‘clue’:’i’,\n",
    "#   ’mean’:’q’,\n",
    "#   ’groan’:’o’,\n",
    "#   ’sin’:’p’,\n",
    "#   ’pint’:’u’,\n",
    "#   ’tone’:’n’,\n",
    "#   ’graze’:’s’,\n",
    "#   ‘sea’:’t’,\n",
    "#   ‘plant’:’a’}\n",
    "# Create a list of all the keys of the dictionary, which can be formed from the values present in the dictionary.\n",
    "\n",
    "from itertools import combinations \n",
    "\n",
    "def join(ls):\n",
    "  str = \"\"\n",
    "  for i in ls:\n",
    "    str = str + i\n",
    "  return str\n",
    "\n",
    "dictionary = { 'black' :'r',\n",
    "  'hero':'e',\n",
    "  'go':'g',\n",
    "  'clue':'i',\n",
    "  'mean':'q',\n",
    "  'groan':'o',\n",
    "  'sin':'p',\n",
    "  'pint':'u',\n",
    "  'tone':'n',\n",
    "  'graze':'s',\n",
    "  'sea':'t',\n",
    "  'plant':'a'}\n",
    "\n",
    "m_set =set()\n",
    "\n",
    "for i in dictionary:\n",
    "  m_set.add(dictionary[i])\n",
    "\n",
    "LIST = []\n",
    "for i in range(1, len(m_set) + 1):\n",
    "  LIST +=   list(\n",
    "        map(\n",
    "            join, \n",
    "            combinations(m_set, i)\n",
    "            )\n",
    "        )\n",
    "print(len(m_set))\n",
    "print(len(LIST))\n",
    "print(2**len(m_set) - 1)\n",
    "LIST"
   ]
  },
  {
   "cell_type": "markdown",
   "metadata": {
    "id": "DSHbyTurxBfb"
   },
   "source": [
    " Question 4: Given the following list of tuples,\n",
    " a.    sort the list by 1st item in the tuple in ascending order\n",
    " b.    Sort the list by 2nd item in the tuple in ascending order\n",
    " c.     Repeat a, b using descending order"
   ]
  },
  {
   "cell_type": "code",
   "execution_count": null,
   "metadata": {
    "colab": {
     "base_uri": "https://localhost:8080/"
    },
    "executionInfo": {
     "elapsed": 3,
     "status": "ok",
     "timestamp": 1629820330824,
     "user": {
      "displayName": "Shubham Pandey",
      "photoUrl": "",
      "userId": "11107096691217343757"
     },
     "user_tz": -330
    },
    "id": "SESQ3wEzQkkf",
    "outputId": "30eeca56-1060-418f-ce5c-8f31fcc71027"
   },
   "outputs": [
    {
     "name": "stdout",
     "output_type": "stream",
     "text": [
      "[(1, 2), (2, 10), (4, 3), (6, 7), (9, 11), (12, 5), (15, 4)]\n",
      "[(1, 2), (4, 3), (15, 4), (12, 5), (6, 7), (2, 10), (9, 11)]\n",
      "[(15, 4), (12, 5), (9, 11), (6, 7), (4, 3), (2, 10), (1, 2)]\n",
      "[(9, 11), (2, 10), (6, 7), (12, 5), (15, 4), (4, 3), (1, 2)]\n"
     ]
    }
   ],
   "source": [
    "listA = [(1,2), (4,3), (2,10), (12, 5), (6, 7), (9,11), (15, 4)]\n",
    "\n",
    "def key_a(i):\n",
    "  return i[0]\n",
    "\n",
    "def key_b(i):\n",
    "  return i[1]\n",
    "\n",
    "a = sorted(listA, key = key_a)\n",
    "print(a)\n",
    "\n",
    "b = sorted(listA, key = key_b)\n",
    "print(b)\n",
    "\n",
    "a_descending = sorted(listA, key = key_a, reverse = True)\n",
    "print(a_descending)\n",
    "\n",
    "b_descending = sorted(listA, key = key_b, reverse = True)\n",
    "print(b_descending)\n"
   ]
  },
  {
   "cell_type": "code",
   "execution_count": null,
   "metadata": {
    "id": "5b6upBo2ldfh"
   },
   "outputs": [],
   "source": []
  }
 ],
 "metadata": {
  "colab": {
   "authorship_tag": "ABX9TyMC5oN0EjMLU7S9w0HA+ANa",
   "collapsed_sections": [],
   "name": "Assignment 1 - Python Basics.ipynb",
   "provenance": []
  },
  "kernelspec": {
   "display_name": "Python3",
   "language": "python",
   "name": "python3"
  },
  "language_info": {
   "codemirror_mode": {
    "name": "ipython",
    "version": 3
   },
   "file_extension": ".py",
   "mimetype": "text/x-python",
   "name": "python",
   "nbconvert_exporter": "python",
   "pygments_lexer": "ipython3",
   "version": "3.7.10"
  }
 },
 "nbformat": 4,
 "nbformat_minor": 4
}
