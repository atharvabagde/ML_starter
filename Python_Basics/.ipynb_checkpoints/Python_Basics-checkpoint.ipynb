{
 "cells": [
  {
   "cell_type": "markdown",
   "metadata": {
    "id": "ctBYg8I9wgHa"
   },
   "source": [
    " Question 1: Given a list of tuples, find the number of occurrences of each tuple in the list."
   ]
  },
  {
   "cell_type": "code",
   "execution_count": null,
   "metadata": {
    "colab": {
     "base_uri": "https://localhost:8080/"
    },
    "executionInfo": {
     "elapsed": 1684,
     "status": "ok",
     "timestamp": 1629820324853,
     "user": {
      "displayName": "Shubham Pandey",
      "photoUrl": "",
      "userId": "11107096691217343757"
     },
     "user_tz": -330
    },
    "id": "6LpBQKd0MNYL",
    "outputId": "ec43101f-a377-48b7-b210-f437121b18c6"
   },
   "outputs": [
    {
     "name": "stdout",
     "output_type": "stream",
     "text": [
      "Total number of items = 38\n",
      "Total frequency count = 38\n",
      "defaultdict(<class 'int'>, {('a', 'alex'): 5, ('b', 'fred'): 3, ('c', 'Ted'): 5, ('d', 'Red'): 4, ('p', 'Grey'): 6, ('e', 'Frank'): 3, ('i', 'Moon'): 4, ('t', 'Tim'): 3, ('g', 'mandy'): 5})\n"
     ]
    }
   ],
   "source": [
    "\n",
    "Input = [\n",
    "          ('a', 'alex'),\n",
    "          ('b', 'fred'),\n",
    "          ('c', 'Ted'),\n",
    "          ('d', 'Red'),\n",
    "          ('p', 'Grey'),\n",
    "          ('a', 'alex'),\n",
    "          ('e', 'Frank'),\n",
    "          ('d', 'Red'),\n",
    "          ('i', 'Moon'),\n",
    "          ('t', 'Tim'),\n",
    "          ('b', 'fred'),\n",
    "          ('c', 'Ted'),\n",
    "          ('g', 'mandy'),\n",
    "          ('a', 'alex'),\n",
    "          ('p', 'Grey'),\n",
    "          ('c', 'Ted'),\n",
    "          ('e', 'Frank'),\n",
    "          ('d', 'Red'),\n",
    "          ('a', 'alex'),\n",
    "          ('p', 'Grey'),\n",
    "          ('t', 'Tim'),\n",
    "          ('g', 'mandy'),\n",
    "          ('c', 'Ted'),\n",
    "          ('i', 'Moon'),\n",
    "          ('b', 'fred'),\n",
    "          ('a', 'alex'),\n",
    "          ('i', 'Moon'),\n",
    "          ('p', 'Grey'),\n",
    "          ('d', 'Red'),\n",
    "          ('g', 'mandy'),\n",
    "          ('c', 'Ted'),\n",
    "          ('p', 'Grey'),\n",
    "          ('e', 'Frank'),\n",
    "          ('t', 'Tim'),\n",
    "          ('g', 'mandy'),\n",
    "          ('p', 'Grey'),\n",
    "          ('g', 'mandy'),\n",
    "          ('i', 'Moon')\n",
    "]\n",
    "\n",
    "def occurence_count(Input):  \n",
    "  import collections\n",
    "  frequency = collections.defaultdict(int)\n",
    "\n",
    "  for item in Input:\n",
    "    frequency[item] += 1\n",
    "  \n",
    "  print(\"Total number of items = \" + str(len(Input)))\n",
    "  print(\"Total frequency count = \" + str(sum([frequency[i] for i in frequency])))\n",
    "\n",
    "  return frequency\n",
    "\n",
    "print(occurence_count(Input))"
   ]
  },
  {
   "cell_type": "code",
   "execution_count": null,
   "metadata": {
    "id": "5b6upBo2ldfh"
   },
   "outputs": [],
   "source": []
  }
 ],
 "metadata": {
  "colab": {
   "authorship_tag": "ABX9TyMC5oN0EjMLU7S9w0HA+ANa",
   "collapsed_sections": [],
   "name": "Assignment 1 - Python Basics.ipynb",
   "provenance": []
  },
  "kernelspec": {
   "display_name": "Python3",
   "language": "python",
   "name": "python3"
  },
  "language_info": {
   "codemirror_mode": {
    "name": "ipython",
    "version": 3
   },
   "file_extension": ".py",
   "mimetype": "text/x-python",
   "name": "python",
   "nbconvert_exporter": "python",
   "pygments_lexer": "ipython3",
   "version": "3.7.10"
  }
 },
 "nbformat": 4,
 "nbformat_minor": 4
}
